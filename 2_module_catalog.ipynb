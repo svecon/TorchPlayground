{
 "cells": [
  {
   "cell_type": "markdown",
   "metadata": {},
   "source": [
    "# A catalog of Torch modules\n",
    "The objective of this notebook is to present building blocks of neural networks in conjunction with Torch modules that provide them.  \n",
    "\n",
    "- we classify transfer (a.k.a. activation) functions into\n",
    "  - intrinsically scalar: Sigmoid, SoftPlus, Tanh, HardTanh, SoftSign, ReLU\n",
    "  - intrinsically vector: SoftMax, LogSoftMax\n",
    "- these can all be used with the Linear module (which provides the input weights to the layer)\n",
    "- we present two loss functions: mean square error and negative log likelihood"
   ]
  },
  {
   "cell_type": "code",
   "execution_count": 1,
   "metadata": {
    "collapsed": false
   },
   "outputs": [
    {
     "data": {
      "text/plain": [
       "ready\t\n"
      ]
     },
     "execution_count": 1,
     "metadata": {},
     "output_type": "execute_result"
    }
   ],
   "source": [
    "-- let's discuss neural networks and layers in torch\n",
    "require 'nn'\n",
    "require 'utils'\n",
    "Plot = require 'itorch.Plot'\n",
    "print('ready')"
   ]
  },
  {
   "cell_type": "code",
   "execution_count": 2,
   "metadata": {
    "collapsed": false
   },
   "outputs": [
    {
     "data": {
      "text/plain": [
       "nn.Linear(10 -> 4)\n",
       "{\n",
       "  gradBias : DoubleTensor - size: 4\n",
       "  weight : DoubleTensor - size: 4x10\n",
       "  bias : DoubleTensor - size: 4\n",
       "  gradInput : DoubleTensor - empty\n",
       "  gradWeight : DoubleTensor - size: 4x10\n",
       "  output : DoubleTensor - empty\n",
       "}\n"
      ]
     },
     "execution_count": 2,
     "metadata": {},
     "output_type": "execute_result"
    }
   ],
   "source": [
    "m = nn.Linear(10,4)\n",
    "print(m)"
   ]
  },
  {
   "cell_type": "code",
   "execution_count": 3,
   "metadata": {
    "collapsed": false
   },
   "outputs": [],
   "source": [
    "print(m.bias)"
   ]
  },
  {
   "cell_type": "code",
   "execution_count": 4,
   "metadata": {
    "collapsed": false
   },
   "outputs": [
    {
     "data": {
      "image/png": "[encoded data removed]",
      "text/plain": [
       "Console does not support images"
      ]
     },
     "metadata": {
      "image/png": {
       "height": 80,
       "width": 200
      }
     },
     "output_type": "display_data"
    },
    {
     "data": {
      "text/plain": [
       "\n"
      ]
     },
     "execution_count": 4,
     "metadata": {},
     "output_type": "execute_result"
    }
   ],
   "source": [
    "itorch.image(image.scale(m.weight,200,'simple'))"
   ]
  },
  {
   "cell_type": "code",
   "execution_count": 5,
   "metadata": {
    "collapsed": false
   },
   "outputs": [
    {
     "data": {
      "text/plain": [
       "-0.4844\n",
       "-1.0178\n",
       "-0.3638\n",
       "-0.2295\n",
       "[torch.DoubleTensor of size 4]\n",
       "\n"
      ]
     },
     "execution_count": 5,
     "metadata": {},
     "output_type": "execute_result"
    }
   ],
   "source": [
    "x = torch.randn(10)\n",
    "y = m:forward(x)\n",
    "print(y)"
   ]
  },
  {
   "cell_type": "code",
   "execution_count": 6,
   "metadata": {
    "collapsed": false
   },
   "outputs": [
    {
     "data": {
      "text/plain": [
       "-0.4844\n",
       "-1.0178\n",
       "-0.3638\n",
       "-0.2295\n",
       "[torch.DoubleTensor of size 4]\n",
       "\n"
      ]
     },
     "execution_count": 6,
     "metadata": {},
     "output_type": "execute_result"
    }
   ],
   "source": [
    "print(m.weight * x + m.bias)"
   ]
  },
  {
   "cell_type": "code",
   "execution_count": 7,
   "metadata": {
    "collapsed": false
   },
   "outputs": [],
   "source": [
    "-- we will use x as input to the layer [change this if you want to zoom in/out on some range]\n",
    "xs = torch.range(-50,50) / 10"
   ]
  },
  {
   "cell_type": "markdown",
   "metadata": {},
   "source": [
    "## Intrinsically scalar transfer functions\n",
    "- [Overview](https://github.com/torch/nn/blob/master/doc/transfer.md)\n",
    "- Tanh = hyperbolic tangent [y = (exp(x) - exp(-x)) / (exp(x) + exp(-x))]\n",
    "- HardTanh - a piecewise linear approximation to Tanh\n",
    "- Sigmoid layer [y = 1 / (1 + exp(-x))]\n",
    "- ReLU layer - Rectified Linear layer [y = max(x, 0)], [ReLU/PReLU results](http://arxiv.org/pdf/1502.01852v1.pdf)\n",
    "- SoftPlus layer - a 'soft' version of ReLU"
   ]
  },
  {
   "cell_type": "code",
   "execution_count": 8,
   "metadata": {
    "collapsed": false
   },
   "outputs": [
    {
     "data": {
      "text/html": [
       "<script type=\"text/javascript\">\n",
       "$(function() {\n",
       "    if (typeof (window._bokeh_onload_callbacks) === \"undefined\"){\n",
       "  window._bokeh_onload_callbacks = [];\n",
       "    }\n",
       "    function load_lib(url, callback){\n",
       "  window._bokeh_onload_callbacks.push(callback);\n",
       "  if (window._bokeh_is_loading){\n",
       "      console.log(\"Bokeh: BokehJS is being loaded, scheduling callback at\", new Date());\n",
       "      return null;\n",
       "  }\n",
       "  console.log(\"Bokeh: BokehJS not loaded, scheduling load and callback at\", new Date());\n",
       "  window._bokeh_is_loading = true;\n",
       "  var s = document.createElement('script');\n",
       "  s.src = url;\n",
       "  s.async = true;\n",
       "  s.onreadystatechange = s.onload = function(){\n",
       "      Bokeh.embed.inject_css(\"http://cdn.pydata.org/bokeh-0.7.0.min.css\");\n",
       "      window._bokeh_onload_callbacks.forEach(function(callback){callback()});\n",
       "  };\n",
       "  s.onerror = function(){\n",
       "      console.warn(\"failed to load library \" + url);\n",
       "  };\n",
       "  document.getElementsByTagName(\"head\")[0].appendChild(s);\n",
       "    }\n",
       "\n",
       "    bokehjs_url = \"http://cdn.pydata.org/bokeh-0.7.0.min.js\"\n",
       "\n",
       "    var elt = document.getElementById(\"a5b6de1d-d2b3-4e39-ce5e-d76a30234d47\");\n",
       "    if(elt==null) {\n",
       "  console.log(\"Bokeh: ERROR: autoload.js configured with elementid 'a5b6de1d-d2b3-4e39-ce5e-d76a30234d47'\"\n",
       "        + \"but no matching script tag was found. \")\n",
       "  return false;\n",
       "    }\n",
       "\n",
       "    if(typeof(Bokeh) !== \"undefined\") {\n",
       "  console.log(\"Bokeh: BokehJS loaded, going straight to plotting\");\n",
       "  var modelid = \"dfc5d210-21c2-4941-c9e8-e315d3e43f11\";\n",
       "  var modeltype = \"Plot\";\n",
       "  var all_models = [{\"id\":\"dbcc3eaa-b727-47b6-c720-42663355dce0\",\"type\":\"ColumnDataSource\",\"attributes\":{\"data\":{\"y\":[-0.9999092042626,-0.99988910295055,-0.99986455170076,-0.9998345655543,-0.99979794161218,-0.99975321084803,-0.99969857928388,-0.99963185619007,-0.99955036645953,-0.9994508436878,-0.99932929973907,-0.99918086567003,-0.99899959778584,-0.99877824128113,-0.99850794233233,-0.9981778976112,-0.99777492793428,-0.99728296009914,-0.99668239783965,-0.9959493592219,-0.99505475368673,-0.99396316735058,-0.99263152020113,-0.99100745367812,-0.9890274022011,-0.98661429815143,-0.98367485769368,-0.98009639626619,-0.97574313003145,-0.97045193661345,-0.96402758007582,-0.95623745812774,-0.94680601284627,-0.9354090706031,-0.92166855440647,-0.90514825364487,-0.88535164820226,-0.86172315931331,-0.83365460701216,-0.80049902176063,-0.76159415595576,-0.71629787019902,-0.66403677026785,-0.60436777711716,-0.53704956699804,-0.46211715726001,-0.37994896225522,-0.29131261245159,-0.1973753202249,-0.099667994624956,0,0.099667994624956,0.1973753202249,0.29131261245159,0.37994896225522,0.46211715726001,0.53704956699804,0.60436777711716,0.66403677026785,0.71629787019902,0.76159415595576,0.80049902176063,0.83365460701216,0.86172315931331,0.88535164820226,0.90514825364487,0.92166855440647,0.9354090706031,0.94680601284627,0.95623745812774,0.96402758007582,0.97045193661345,0.97574313003145,0.98009639626619,0.98367485769368,0.98661429815143,0.9890274022011,0.99100745367812,0.99263152020113,0.99396316735058,0.99505475368673,0.9959493592219,0.99668239783965,0.99728296009914,0.99777492793428,0.9981778976112,0.99850794233233,0.99877824128113,0.99899959778584,0.99918086567003,0.99932929973907,0.9994508436878,0.99955036645953,0.99963185619007,0.99969857928388,0.99975321084803,0.99979794161218,0.9998345655543,0.99986455170076,0.99988910295055,0.9999092042626],\"x\":[-5,-4.9,-4.8,-4.7,-4.6,-4.5,-4.4,-4.3,-4.2,-4.1,-4,-3.9,-3.8,-3.7,-3.6,-3.5,-3.4,-3.3,-3.2,-3.1,-3,-2.9,-2.8,-2.7,-2.6,-2.5,-2.4,-2.3,-2.2,-2.1,-2,-1.9,-1.8,-1.7,-1.6,-1.5,-1.4,-1.3,-1.2,-1.1,-1,-0.9,-0.8,-0.7,-0.6,-0.5,-0.4,-0.3,-0.2,-0.1,0,0.1,0.2,0.3,0.4,0.5,0.6,0.7,0.8,0.9,1,1.1,1.2,1.3,1.4,1.5,1.6,1.7,1.8,1.9,2,2.1,2.2,2.3,2.4,2.5,2.6,2.7,2.8,2.9,3,3.1,3.2,3.3,3.4,3.5,3.6,3.7,3.8,3.9,4,4.1,4.2,4.3,4.4,4.5,4.6,4.7,4.8,4.9,5]},\"column_names\":[\"y\",\"x\"],\"cont_ranges\":{},\"discrete_ranges\":{},\"selected\":[],\"id\":\"dbcc3eaa-b727-47b6-c720-42663355dce0\",\"doc\":null,\"tags\":[]}},{\"id\":\"5009ef23-82c9-4a61-ca83-74682f17fda2\",\"type\":\"Line\",\"attributes\":{\"fill_alpha\":{\"units\":\"data\",\"value\":0.2},\"line_alpha\":{\"units\":\"data\",\"value\":1},\"doc\":null,\"size\":{\"units\":\"screen\",\"value\":10},\"fill_color\":{\"value\":\"red\"},\"line_color\":{\"value\":\"red\"},\"x\":{\"units\":\"data\",\"field\":\"x\"},\"id\":\"5009ef23-82c9-4a61-ca83-74682f17fda2\",\"y\":{\"units\":\"data\",\"field\":\"y\"},\"tags\":[]}},{\"id\":\"cb31dc76-94d6-465b-c6f7-be2f9280a00e\",\"type\":\"Line\",\"attributes\":{\"fill_alpha\":{\"units\":\"data\",\"value\":0.2},\"line_alpha\":{\"units\":\"data\",\"value\":1},\"doc\":null,\"size\":{\"units\":\"screen\",\"value\":10},\"fill_color\":{\"value\":\"red\"},\"line_color\":{\"value\":\"red\"},\"x\":{\"units\":\"data\",\"field\":\"x\"},\"id\":\"cb31dc76-94d6-465b-c6f7-be2f9280a00e\",\"y\":{\"units\":\"data\",\"field\":\"y\"},\"tags\":[]}},{\"id\":\"2ce6d563-645b-437e-c3e5-955c0880629e\",\"type\":\"GlyphRenderer\",\"attributes\":{\"name\":null,\"nonselection_glyph\":{\"type\":\"Line\",\"id\":\"cb31dc76-94d6-465b-c6f7-be2f9280a00e\"},\"doc\":null,\"server_data_source\":null,\"data_source\":{\"type\":\"ColumnDataSource\",\"id\":\"dbcc3eaa-b727-47b6-c720-42663355dce0\"},\"glyph\":{\"type\":\"Line\",\"id\":\"5009ef23-82c9-4a61-ca83-74682f17fda2\"},\"selection_glyph\":null,\"id\":\"2ce6d563-645b-437e-c3e5-955c0880629e\",\"tags\":[]}},{\"id\":\"ae9bdc2a-8636-481f-c89f-c93e65dd2be2\",\"type\":\"ColumnDataSource\",\"attributes\":{\"data\":{\"y\":[-1,-1,-1,-1,-1,-1,-1,-1,-1,-1,-1,-1,-1,-1,-1,-1,-1,-1,-1,-1,-1,-1,-1,-1,-1,-1,-1,-1,-1,-1,-1,-1,-1,-1,-1,-1,-1,-1,-1,-1,-1,-0.9,-0.8,-0.7,-0.6,-0.5,-0.4,-0.3,-0.2,-0.1,0,0.1,0.2,0.3,0.4,0.5,0.6,0.7,0.8,0.9,1,1,1,1,1,1,1,1,1,1,1,1,1,1,1,1,1,1,1,1,1,1,1,1,1,1,1,1,1,1,1,1,1,1,1,1,1,1,1,1,1],\"x\":[-5,-4.9,-4.8,-4.7,-4.6,-4.5,-4.4,-4.3,-4.2,-4.1,-4,-3.9,-3.8,-3.7,-3.6,-3.5,-3.4,-3.3,-3.2,-3.1,-3,-2.9,-2.8,-2.7,-2.6,-2.5,-2.4,-2.3,-2.2,-2.1,-2,-1.9,-1.8,-1.7,-1.6,-1.5,-1.4,-1.3,-1.2,-1.1,-1,-0.9,-0.8,-0.7,-0.6,-0.5,-0.4,-0.3,-0.2,-0.1,0,0.1,0.2,0.3,0.4,0.5,0.6,0.7,0.8,0.9,1,1.1,1.2,1.3,1.4,1.5,1.6,1.7,1.8,1.9,2,2.1,2.2,2.3,2.4,2.5,2.6,2.7,2.8,2.9,3,3.1,3.2,3.3,3.4,3.5,3.6,3.7,3.8,3.9,4,4.1,4.2,4.3,4.4,4.5,4.6,4.7,4.8,4.9,5]},\"column_names\":[\"y\",\"x\"],\"cont_ranges\":{},\"discrete_ranges\":{},\"selected\":[],\"id\":\"ae9bdc2a-8636-481f-c89f-c93e65dd2be2\",\"doc\":null,\"tags\":[]}},{\"id\":\"6ea307e2-93aa-4cdd-cc53-0fe234bdd645\",\"type\":\"Line\",\"attributes\":{\"fill_alpha\":{\"units\":\"data\",\"value\":0.2},\"line_alpha\":{\"units\":\"data\",\"value\":1},\"doc\":null,\"size\":{\"units\":\"screen\",\"value\":10},\"fill_color\":{\"value\":\"green\"},\"line_color\":{\"value\":\"green\"},\"x\":{\"units\":\"data\",\"field\":\"x\"},\"id\":\"6ea307e2-93aa-4cdd-cc53-0fe234bdd645\",\"y\":{\"units\":\"data\",\"field\":\"y\"},\"tags\":[]}},{\"id\":\"16ca4d4e-69df-4fa1-cf2a-9b4b1287e209\",\"type\":\"Line\",\"attributes\":{\"fill_alpha\":{\"units\":\"data\",\"value\":0.2},\"line_alpha\":{\"units\":\"data\",\"value\":1},\"doc\":null,\"size\":{\"units\":\"screen\",\"value\":10},\"fill_color\":{\"value\":\"green\"},\"line_color\":{\"value\":\"green\"},\"x\":{\"units\":\"data\",\"field\":\"x\"},\"id\":\"16ca4d4e-69df-4fa1-cf2a-9b4b1287e209\",\"y\":{\"units\":\"data\",\"field\":\"y\"},\"tags\":[]}},{\"id\":\"bc15cc70-ce9e-41f7-c15e-cf43818825f6\",\"type\":\"GlyphRenderer\",\"attributes\":{\"name\":null,\"nonselection_glyph\":{\"type\":\"Line\",\"id\":\"16ca4d4e-69df-4fa1-cf2a-9b4b1287e209\"},\"doc\":null,\"server_data_source\":null,\"data_source\":{\"type\":\"ColumnDataSource\",\"id\":\"ae9bdc2a-8636-481f-c89f-c93e65dd2be2\"},\"glyph\":{\"type\":\"Line\",\"id\":\"6ea307e2-93aa-4cdd-cc53-0fe234bdd645\"},\"selection_glyph\":null,\"id\":\"bc15cc70-ce9e-41f7-c15e-cf43818825f6\",\"tags\":[]}},{\"id\":\"f58a716c-0919-4ed1-ce81-4532f5591c71\",\"type\":\"ColumnDataSource\",\"attributes\":{\"data\":{\"y\":[-0.83333333333333,-0.83050847457627,-0.82758620689655,-0.82456140350877,-0.82142857142857,-0.81818181818182,-0.81481481481481,-0.81132075471698,-0.80769230769231,-0.80392156862745,-0.8,-0.79591836734694,-0.79166666666667,-0.78723404255319,-0.78260869565217,-0.77777777777778,-0.77272727272727,-0.76744186046512,-0.76190476190476,-0.75609756097561,-0.75,-0.74358974358974,-0.73684210526316,-0.72972972972973,-0.72222222222222,-0.71428571428571,-0.70588235294118,-0.6969696969697,-0.6875,-0.67741935483871,-0.66666666666667,-0.6551724137931,-0.64285714285714,-0.62962962962963,-0.61538461538462,-0.6,-0.58333333333333,-0.56521739130435,-0.54545454545455,-0.52380952380952,-0.5,-0.47368421052632,-0.44444444444444,-0.41176470588235,-0.375,-0.33333333333333,-0.28571428571429,-0.23076923076923,-0.16666666666667,-0.090909090909091,0,0.090909090909091,0.16666666666667,0.23076923076923,0.28571428571429,0.33333333333333,0.375,0.41176470588235,0.44444444444444,0.47368421052632,0.5,0.52380952380952,0.54545454545455,0.56521739130435,0.58333333333333,0.6,0.61538461538462,0.62962962962963,0.64285714285714,0.6551724137931,0.66666666666667,0.67741935483871,0.6875,0.6969696969697,0.70588235294118,0.71428571428571,0.72222222222222,0.72972972972973,0.73684210526316,0.74358974358974,0.75,0.75609756097561,0.76190476190476,0.76744186046512,0.77272727272727,0.77777777777778,0.78260869565217,0.78723404255319,0.79166666666667,0.79591836734694,0.8,0.80392156862745,0.80769230769231,0.81132075471698,0.81481481481481,0.81818181818182,0.82142857142857,0.82456140350877,0.82758620689655,0.83050847457627,0.83333333333333],\"x\":[-5,-4.9,-4.8,-4.7,-4.6,-4.5,-4.4,-4.3,-4.2,-4.1,-4,-3.9,-3.8,-3.7,-3.6,-3.5,-3.4,-3.3,-3.2,-3.1,-3,-2.9,-2.8,-2.7,-2.6,-2.5,-2.4,-2.3,-2.2,-2.1,-2,-1.9,-1.8,-1.7,-1.6,-1.5,-1.4,-1.3,-1.2,-1.1,-1,-0.9,-0.8,-0.7,-0.6,-0.5,-0.4,-0.3,-0.2,-0.1,0,0.1,0.2,0.3,0.4,0.5,0.6,0.7,0.8,0.9,1,1.1,1.2,1.3,1.4,1.5,1.6,1.7,1.8,1.9,2,2.1,2.2,2.3,2.4,2.5,2.6,2.7,2.8,2.9,3,3.1,3.2,3.3,3.4,3.5,3.6,3.7,3.8,3.9,4,4.1,4.2,4.3,4.4,4.5,4.6,4.7,4.8,4.9,5]},\"column_names\":[\"y\",\"x\"],\"cont_ranges\":{},\"discrete_ranges\":{},\"selected\":[],\"id\":\"f58a716c-0919-4ed1-ce81-4532f5591c71\",\"doc\":null,\"tags\":[]}},{\"id\":\"7d0e3034-00f9-433f-c303-8ee9f15f43eb\",\"type\":\"Line\",\"attributes\":{\"fill_alpha\":{\"units\":\"data\",\"value\":0.2},\"line_alpha\":{\"units\":\"data\",\"value\":1},\"doc\":null,\"size\":{\"units\":\"screen\",\"value\":10},\"fill_color\":{\"value\":\"blue\"},\"line_color\":{\"value\":\"blue\"},\"x\":{\"units\":\"data\",\"field\":\"x\"},\"id\":\"7d0e3034-00f9-433f-c303-8ee9f15f43eb\",\"y\":{\"units\":\"data\",\"field\":\"y\"},\"tags\":[]}},{\"id\":\"3f6751a2-733b-4934-c931-1d1d86374e94\",\"type\":\"Line\",\"attributes\":{\"fill_alpha\":{\"units\":\"data\",\"value\":0.2},\"line_alpha\":{\"units\":\"data\",\"value\":1},\"doc\":null,\"size\":{\"units\":\"screen\",\"value\":10},\"fill_color\":{\"value\":\"blue\"},\"line_color\":{\"value\":\"blue\"},\"x\":{\"units\":\"data\",\"field\":\"x\"},\"id\":\"3f6751a2-733b-4934-c931-1d1d86374e94\",\"y\":{\"units\":\"data\",\"field\":\"y\"},\"tags\":[]}},{\"id\":\"916b9db1-7745-489e-c89f-1f690cc20823\",\"type\":\"GlyphRenderer\",\"attributes\":{\"name\":null,\"nonselection_glyph\":{\"type\":\"Line\",\"id\":\"3f6751a2-733b-4934-c931-1d1d86374e94\"},\"doc\":null,\"server_data_source\":null,\"data_source\":{\"type\":\"ColumnDataSource\",\"id\":\"f58a716c-0919-4ed1-ce81-4532f5591c71\"},\"glyph\":{\"type\":\"Line\",\"id\":\"7d0e3034-00f9-433f-c303-8ee9f15f43eb\"},\"selection_glyph\":null,\"id\":\"916b9db1-7745-489e-c89f-1f690cc20823\",\"tags\":[]}},{\"id\":\"1abaa17f-bd72-4876-c83c-1f031df8990d\",\"type\":\"ColumnDataSource\",\"attributes\":{\"data\":{\"y\":[0.0066928509242849,0.007391541344282,0.0081625711531599,0.0090132986528478,0.0099518018669043,0.010986942630593,0.012128434984274,0.013386917827665,0.014774031693273,0.016302499371441,0.017986209962092,0.019840305734078,0.02188127093613,0.024127021417669,0.026596993576866,0.029312230751356,0.03229546469845,0.035571189272636,0.039165722796764,0.043107254941086,0.047425873177567,0.052153563078418,0.057324175898869,0.062973356056996,0.069138420343347,0.075858180021244,0.083172696493922,0.091122961014856,0.099750489119685,0.10909682119561,0.11920292202212,0.130108474363,0.14185106490049,0.15446526508353,0.16798161486608,0.18242552380636,0.19781611144142,0.21416501695744,0.23147521650098,0.24973989440488,0.26894142137,0.289050497375,0.31002551887239,0.33181222783183,0.3543436937742,0.37754066879815,0.40131233988755,0.42555748318834,0.45016600268752,0.47502081252106,0.5,0.52497918747894,0.54983399731248,0.57444251681166,0.59868766011245,0.62245933120185,0.6456563062258,0.66818777216817,0.68997448112761,0.710949502625,0.73105857863,0.75026010559512,0.76852478349902,0.78583498304256,0.80218388855858,0.81757447619364,0.83201838513392,0.84553473491647,0.85814893509951,0.869891525637,0.88079707797788,0.89090317880439,0.90024951088031,0.90887703898514,0.91682730350608,0.92414181997876,0.93086157965665,0.937026643943,0.94267582410113,0.94784643692158,0.95257412682243,0.95689274505891,0.96083427720324,0.96442881072736,0.96770453530155,0.97068776924864,0.97340300642313,0.97587297858233,0.97811872906387,0.98015969426592,0.98201379003791,0.98369750062856,0.98522596830673,0.98661308217234,0.98787156501573,0.98901305736941,0.9900481981331,0.99098670134715,0.99183742884684,0.99260845865572,0.99330714907572],\"x\":[-5,-4.9,-4.8,-4.7,-4.6,-4.5,-4.4,-4.3,-4.2,-4.1,-4,-3.9,-3.8,-3.7,-3.6,-3.5,-3.4,-3.3,-3.2,-3.1,-3,-2.9,-2.8,-2.7,-2.6,-2.5,-2.4,-2.3,-2.2,-2.1,-2,-1.9,-1.8,-1.7,-1.6,-1.5,-1.4,-1.3,-1.2,-1.1,-1,-0.9,-0.8,-0.7,-0.6,-0.5,-0.4,-0.3,-0.2,-0.1,0,0.1,0.2,0.3,0.4,0.5,0.6,0.7,0.8,0.9,1,1.1,1.2,1.3,1.4,1.5,1.6,1.7,1.8,1.9,2,2.1,2.2,2.3,2.4,2.5,2.6,2.7,2.8,2.9,3,3.1,3.2,3.3,3.4,3.5,3.6,3.7,3.8,3.9,4,4.1,4.2,4.3,4.4,4.5,4.6,4.7,4.8,4.9,5]},\"column_names\":[\"y\",\"x\"],\"cont_ranges\":{},\"discrete_ranges\":{},\"selected\":[],\"id\":\"1abaa17f-bd72-4876-c83c-1f031df8990d\",\"doc\":null,\"tags\":[]}},{\"id\":\"6b9474d1-8d60-4850-c806-e7a23f5fff7f\",\"type\":\"Line\",\"attributes\":{\"fill_alpha\":{\"units\":\"data\",\"value\":0.2},\"line_alpha\":{\"units\":\"data\",\"value\":1},\"doc\":null,\"size\":{\"units\":\"screen\",\"value\":10},\"fill_color\":{\"value\":\"black\"},\"line_color\":{\"value\":\"black\"},\"x\":{\"units\":\"data\",\"field\":\"x\"},\"id\":\"6b9474d1-8d60-4850-c806-e7a23f5fff7f\",\"y\":{\"units\":\"data\",\"field\":\"y\"},\"tags\":[]}},{\"id\":\"a49f8f88-172c-43fc-c36e-1e4be944b303\",\"type\":\"Line\",\"attributes\":{\"fill_alpha\":{\"units\":\"data\",\"value\":0.2},\"line_alpha\":{\"units\":\"data\",\"value\":1},\"doc\":null,\"size\":{\"units\":\"screen\",\"value\":10},\"fill_color\":{\"value\":\"black\"},\"line_color\":{\"value\":\"black\"},\"x\":{\"units\":\"data\",\"field\":\"x\"},\"id\":\"a49f8f88-172c-43fc-c36e-1e4be944b303\",\"y\":{\"units\":\"data\",\"field\":\"y\"},\"tags\":[]}},{\"id\":\"4c92973d-d7fe-41e5-c1dd-b80d028b6905\",\"type\":\"GlyphRenderer\",\"attributes\":{\"name\":null,\"nonselection_glyph\":{\"type\":\"Line\",\"id\":\"a49f8f88-172c-43fc-c36e-1e4be944b303\"},\"doc\":null,\"server_data_source\":null,\"data_source\":{\"type\":\"ColumnDataSource\",\"id\":\"1abaa17f-bd72-4876-c83c-1f031df8990d\"},\"glyph\":{\"type\":\"Line\",\"id\":\"6b9474d1-8d60-4850-c806-e7a23f5fff7f\"},\"selection_glyph\":null,\"id\":\"4c92973d-d7fe-41e5-c1dd-b80d028b6905\",\"tags\":[]}},{\"id\":\"c1b533d8-3c18-4cdd-cc47-403647fe1018\",\"type\":\"DataRange1d\",\"attributes\":{\"sources\":[{\"columns\":[\"x\"],\"source\":{\"type\":\"ColumnDataSource\",\"id\":\"dbcc3eaa-b727-47b6-c720-42663355dce0\"}},{\"columns\":[\"x\"],\"source\":{\"type\":\"ColumnDataSource\",\"id\":\"ae9bdc2a-8636-481f-c89f-c93e65dd2be2\"}},{\"columns\":[\"x\"],\"source\":{\"type\":\"ColumnDataSource\",\"id\":\"f58a716c-0919-4ed1-ce81-4532f5591c71\"}},{\"columns\":[\"x\"],\"source\":{\"type\":\"ColumnDataSource\",\"id\":\"1abaa17f-bd72-4876-c83c-1f031df8990d\"}}],\"id\":\"c1b533d8-3c18-4cdd-cc47-403647fe1018\",\"tags\":[],\"doc\":null}},{\"id\":\"f7004df0-ddf7-4d03-cdb8-4fa1de6e3bcf\",\"type\":\"DataRange1d\",\"attributes\":{\"sources\":[{\"columns\":[\"y\"],\"source\":{\"type\":\"ColumnDataSource\",\"id\":\"dbcc3eaa-b727-47b6-c720-42663355dce0\"}},{\"columns\":[\"y\"],\"source\":{\"type\":\"ColumnDataSource\",\"id\":\"ae9bdc2a-8636-481f-c89f-c93e65dd2be2\"}},{\"columns\":[\"y\"],\"source\":{\"type\":\"ColumnDataSource\",\"id\":\"f58a716c-0919-4ed1-ce81-4532f5591c71\"}},{\"columns\":[\"y\"],\"source\":{\"type\":\"ColumnDataSource\",\"id\":\"1abaa17f-bd72-4876-c83c-1f031df8990d\"}}],\"id\":\"f7004df0-ddf7-4d03-cdb8-4fa1de6e3bcf\",\"tags\":[],\"doc\":null}},{\"id\":\"fc73a7e6-7404-4f02-cf0e-21bbb4c021ef\",\"type\":\"ToolEvents\",\"attributes\":{\"tags\":[],\"id\":\"fc73a7e6-7404-4f02-cf0e-21bbb4c021ef\",\"geometries\":[],\"doc\":null}},{\"id\":\"3341b4ae-cbb7-4b06-cb09-af6b68284b67\",\"type\":\"BasicTickFormatter\",\"attributes\":{\"id\":\"3341b4ae-cbb7-4b06-cb09-af6b68284b67\",\"tags\":[],\"doc\":null}},{\"id\":\"4790005a-184c-44cd-c430-d44d8e4487c9\",\"type\":\"BasicTicker\",\"attributes\":{\"num_minor_ticks\":5,\"id\":\"4790005a-184c-44cd-c430-d44d8e4487c9\",\"tags\":[],\"doc\":null}},{\"id\":\"851d1b8b-11ef-4d4f-cd56-15c4c5291a50\",\"type\":\"LinearAxis\",\"attributes\":{\"formatter\":{\"type\":\"BasicTickFormatter\",\"id\":\"3341b4ae-cbb7-4b06-cb09-af6b68284b67\"},\"ticker\":{\"type\":\"BasicTicker\",\"id\":\"4790005a-184c-44cd-c430-d44d8e4487c9\"},\"plot\":{\"id\":\"dfc5d210-21c2-4941-c9e8-e315d3e43f11\",\"type\":\"Plot\",\"subtype\":\"Figure\"},\"axis_label\":null,\"id\":\"851d1b8b-11ef-4d4f-cd56-15c4c5291a50\",\"doc\":null,\"tags\":[]}},{\"id\":\"edb83bf6-05e3-44b6-c4a2-4de8e78dc2eb\",\"type\":\"Grid\",\"attributes\":{\"dimension\":0,\"plot\":{\"id\":\"dfc5d210-21c2-4941-c9e8-e315d3e43f11\",\"type\":\"Plot\",\"subtype\":\"Figure\"},\"ticker\":{\"type\":\"BasicTicker\",\"id\":\"4790005a-184c-44cd-c430-d44d8e4487c9\"},\"id\":\"edb83bf6-05e3-44b6-c4a2-4de8e78dc2eb\",\"doc\":null,\"tags\":[]}},{\"id\":\"9ad64c8d-0dc1-490d-c9da-0dd82bac1e91\",\"type\":\"BasicTickFormatter\",\"attributes\":{\"id\":\"9ad64c8d-0dc1-490d-c9da-0dd82bac1e91\",\"tags\":[],\"doc\":null}},{\"id\":\"88fe02b4-c305-4443-c4bc-51a48e8ab53c\",\"type\":\"BasicTicker\",\"attributes\":{\"num_minor_ticks\":5,\"id\":\"88fe02b4-c305-4443-c4bc-51a48e8ab53c\",\"tags\":[],\"doc\":null}},{\"id\":\"3de3aa81-2bc2-4514-c55b-552a597be5ee\",\"type\":\"LinearAxis\",\"attributes\":{\"formatter\":{\"type\":\"BasicTickFormatter\",\"id\":\"9ad64c8d-0dc1-490d-c9da-0dd82bac1e91\"},\"ticker\":{\"type\":\"BasicTicker\",\"id\":\"88fe02b4-c305-4443-c4bc-51a48e8ab53c\"},\"plot\":{\"id\":\"dfc5d210-21c2-4941-c9e8-e315d3e43f11\",\"type\":\"Plot\",\"subtype\":\"Figure\"},\"axis_label\":null,\"id\":\"3de3aa81-2bc2-4514-c55b-552a597be5ee\",\"doc\":null,\"tags\":[]}},{\"id\":\"30478146-1415-43bc-c354-2f11b7f63741\",\"type\":\"Grid\",\"attributes\":{\"dimension\":1,\"plot\":{\"id\":\"dfc5d210-21c2-4941-c9e8-e315d3e43f11\",\"type\":\"Plot\",\"subtype\":\"Figure\"},\"ticker\":{\"type\":\"BasicTicker\",\"id\":\"88fe02b4-c305-4443-c4bc-51a48e8ab53c\"},\"id\":\"30478146-1415-43bc-c354-2f11b7f63741\",\"doc\":null,\"tags\":[]}},{\"id\":\"67fedde7-77f3-4be4-cbee-f8d7e302e1f3\",\"type\":\"PanTool\",\"attributes\":{\"plot\":{\"id\":\"dfc5d210-21c2-4941-c9e8-e315d3e43f11\",\"type\":\"Plot\",\"subtype\":\"Figure\"},\"dimensions\":[\"width\",\"height\"],\"id\":\"67fedde7-77f3-4be4-cbee-f8d7e302e1f3\",\"doc\":null,\"tags\":[]}},{\"id\":\"bf1c741c-5060-4927-c9b9-07391de6e8a4\",\"type\":\"WheelZoomTool\",\"attributes\":{\"plot\":{\"id\":\"dfc5d210-21c2-4941-c9e8-e315d3e43f11\",\"type\":\"Plot\",\"subtype\":\"Figure\"},\"dimensions\":[\"width\",\"height\"],\"id\":\"bf1c741c-5060-4927-c9b9-07391de6e8a4\",\"doc\":null,\"tags\":[]}},{\"id\":\"e4375cef-c895-46d0-c6a9-fab205519e72\",\"type\":\"BoxZoomTool\",\"attributes\":{\"plot\":{\"id\":\"dfc5d210-21c2-4941-c9e8-e315d3e43f11\",\"type\":\"Plot\",\"subtype\":\"Figure\"},\"id\":\"e4375cef-c895-46d0-c6a9-fab205519e72\",\"tags\":[],\"doc\":null}},{\"id\":\"648b2e60-e405-4c40-cc5b-fff61141078a\",\"type\":\"PreviewSaveTool\",\"attributes\":{\"plot\":{\"id\":\"dfc5d210-21c2-4941-c9e8-e315d3e43f11\",\"type\":\"Plot\",\"subtype\":\"Figure\"},\"id\":\"648b2e60-e405-4c40-cc5b-fff61141078a\",\"tags\":[],\"doc\":null}},{\"id\":\"489e075e-014c-4ef5-ce93-ac111bcdfad3\",\"type\":\"ResizeTool\",\"attributes\":{\"plot\":{\"id\":\"dfc5d210-21c2-4941-c9e8-e315d3e43f11\",\"type\":\"Plot\",\"subtype\":\"Figure\"},\"id\":\"489e075e-014c-4ef5-ce93-ac111bcdfad3\",\"tags\":[],\"doc\":null}},{\"id\":\"4323d333-fe4b-47ae-c720-624cf01f3eae\",\"type\":\"ResetTool\",\"attributes\":{\"plot\":{\"id\":\"dfc5d210-21c2-4941-c9e8-e315d3e43f11\",\"type\":\"Plot\",\"subtype\":\"Figure\"},\"id\":\"4323d333-fe4b-47ae-c720-624cf01f3eae\",\"tags\":[],\"doc\":null}},{\"id\":\"1aa638fb-0aeb-4e45-cebe-45eea8d8a6e4\",\"type\":\"Legend\",\"attributes\":{\"plot\":{\"id\":\"dfc5d210-21c2-4941-c9e8-e315d3e43f11\",\"type\":\"Plot\",\"subtype\":\"Figure\"},\"legends\":[[\"Tanh\",[{\"type\":\"GlyphRenderer\",\"id\":\"2ce6d563-645b-437e-c3e5-955c0880629e\"}]],[\"HardTanh\",[{\"type\":\"GlyphRenderer\",\"id\":\"bc15cc70-ce9e-41f7-c15e-cf43818825f6\"}]],[\"SoftSign\",[{\"type\":\"GlyphRenderer\",\"id\":\"916b9db1-7745-489e-c89f-1f690cc20823\"}]],[\"Sigmoid\",[{\"type\":\"GlyphRenderer\",\"id\":\"4c92973d-d7fe-41e5-c1dd-b80d028b6905\"}]]],\"id\":\"1aa638fb-0aeb-4e45-cebe-45eea8d8a6e4\",\"doc\":null,\"tags\":[]}},{\"id\":\"dfc5d210-21c2-4941-c9e8-e315d3e43f11\",\"type\":\"Plot\",\"attributes\":{\"x_range\":{\"type\":\"DataRange1d\",\"id\":\"c1b533d8-3c18-4cdd-cc47-403647fe1018\"},\"tool_events\":{\"type\":\"ToolEvents\",\"id\":\"fc73a7e6-7404-4f02-cf0e-21bbb4c021ef\"},\"below\":[{\"type\":\"LinearAxis\",\"id\":\"851d1b8b-11ef-4d4f-cd56-15c4c5291a50\"}],\"renderers\":[{\"type\":\"GlyphRenderer\",\"id\":\"2ce6d563-645b-437e-c3e5-955c0880629e\"},{\"type\":\"GlyphRenderer\",\"id\":\"bc15cc70-ce9e-41f7-c15e-cf43818825f6\"},{\"type\":\"GlyphRenderer\",\"id\":\"916b9db1-7745-489e-c89f-1f690cc20823\"},{\"type\":\"GlyphRenderer\",\"id\":\"4c92973d-d7fe-41e5-c1dd-b80d028b6905\"},{\"type\":\"LinearAxis\",\"id\":\"851d1b8b-11ef-4d4f-cd56-15c4c5291a50\"},{\"type\":\"Grid\",\"id\":\"edb83bf6-05e3-44b6-c4a2-4de8e78dc2eb\"},{\"type\":\"LinearAxis\",\"id\":\"3de3aa81-2bc2-4514-c55b-552a597be5ee\"},{\"type\":\"Grid\",\"id\":\"30478146-1415-43bc-c354-2f11b7f63741\"},{\"type\":\"Legend\",\"id\":\"1aa638fb-0aeb-4e45-cebe-45eea8d8a6e4\"}],\"above\":[],\"tools\":[{\"type\":\"PanTool\",\"id\":\"67fedde7-77f3-4be4-cbee-f8d7e302e1f3\"},{\"type\":\"WheelZoomTool\",\"id\":\"bf1c741c-5060-4927-c9b9-07391de6e8a4\"},{\"type\":\"BoxZoomTool\",\"id\":\"e4375cef-c895-46d0-c6a9-fab205519e72\"},{\"type\":\"PreviewSaveTool\",\"id\":\"648b2e60-e405-4c40-cc5b-fff61141078a\"},{\"type\":\"ResizeTool\",\"id\":\"489e075e-014c-4ef5-ce93-ac111bcdfad3\"},{\"type\":\"ResetTool\",\"id\":\"4323d333-fe4b-47ae-c720-624cf01f3eae\"}],\"doc\":null,\"right\":[],\"title\":\"Tanh\\/HardTanh\\/Sigmoid activation functions\",\"extra_x_ranges\":{},\"left\":[{\"type\":\"LinearAxis\",\"id\":\"3de3aa81-2bc2-4514-c55b-552a597be5ee\"}],\"y_range\":{\"type\":\"DataRange1d\",\"id\":\"f7004df0-ddf7-4d03-cdb8-4fa1de6e3bcf\"},\"id\":\"dfc5d210-21c2-4941-c9e8-e315d3e43f11\",\"extra_y_ranges\":{},\"tags\":[]}}];\n",
       "  Bokeh.load_models(all_models);\n",
       "  var model = Bokeh.Collections(modeltype).get(modelid);\n",
       "  $(\"#a5b6de1d-d2b3-4e39-ce5e-d76a30234d47\").html(''); // clear any previous plot in window_id\n",
       "  var view = new model.default_view({model: model, el: \"#a5b6de1d-d2b3-4e39-ce5e-d76a30234d47\"});\n",
       "    } else {\n",
       "  load_lib(bokehjs_url, function() {\n",
       "      console.log(\"Bokeh: BokehJS plotting callback run at\", new Date())\n",
       "      var modelid = \"dfc5d210-21c2-4941-c9e8-e315d3e43f11\";\n",
       "      var modeltype = \"Plot\";\n",
       "      var all_models = [{\"id\":\"dbcc3eaa-b727-47b6-c720-42663355dce0\",\"type\":\"ColumnDataSource\",\"attributes\":{\"data\":{\"y\":[-0.9999092042626,-0.99988910295055,-0.99986455170076,-0.9998345655543,-0.99979794161218,-0.99975321084803,-0.99969857928388,-0.99963185619007,-0.99955036645953,-0.9994508436878,-0.99932929973907,-0.99918086567003,-0.99899959778584,-0.99877824128113,-0.99850794233233,-0.9981778976112,-0.99777492793428,-0.99728296009914,-0.99668239783965,-0.9959493592219,-0.99505475368673,-0.99396316735058,-0.99263152020113,-0.99100745367812,-0.9890274022011,-0.98661429815143,-0.98367485769368,-0.98009639626619,-0.97574313003145,-0.97045193661345,-0.96402758007582,-0.95623745812774,-0.94680601284627,-0.9354090706031,-0.92166855440647,-0.90514825364487,-0.88535164820226,-0.86172315931331,-0.83365460701216,-0.80049902176063,-0.76159415595576,-0.71629787019902,-0.66403677026785,-0.60436777711716,-0.53704956699804,-0.46211715726001,-0.37994896225522,-0.29131261245159,-0.1973753202249,-0.099667994624956,0,0.099667994624956,0.1973753202249,0.29131261245159,0.37994896225522,0.46211715726001,0.53704956699804,0.60436777711716,0.66403677026785,0.71629787019902,0.76159415595576,0.80049902176063,0.83365460701216,0.86172315931331,0.88535164820226,0.90514825364487,0.92166855440647,0.9354090706031,0.94680601284627,0.95623745812774,0.96402758007582,0.97045193661345,0.97574313003145,0.98009639626619,0.98367485769368,0.98661429815143,0.9890274022011,0.99100745367812,0.99263152020113,0.99396316735058,0.99505475368673,0.9959493592219,0.99668239783965,0.99728296009914,0.99777492793428,0.9981778976112,0.99850794233233,0.99877824128113,0.99899959778584,0.99918086567003,0.99932929973907,0.9994508436878,0.99955036645953,0.99963185619007,0.99969857928388,0.99975321084803,0.99979794161218,0.9998345655543,0.99986455170076,0.99988910295055,0.9999092042626],\"x\":[-5,-4.9,-4.8,-4.7,-4.6,-4.5,-4.4,-4.3,-4.2,-4.1,-4,-3.9,-3.8,-3.7,-3.6,-3.5,-3.4,-3.3,-3.2,-3.1,-3,-2.9,-2.8,-2.7,-2.6,-2.5,-2.4,-2.3,-2.2,-2.1,-2,-1.9,-1.8,-1.7,-1.6,-1.5,-1.4,-1.3,-1.2,-1.1,-1,-0.9,-0.8,-0.7,-0.6,-0.5,-0.4,-0.3,-0.2,-0.1,0,0.1,0.2,0.3,0.4,0.5,0.6,0.7,0.8,0.9,1,1.1,1.2,1.3,1.4,1.5,1.6,1.7,1.8,1.9,2,2.1,2.2,2.3,2.4,2.5,2.6,2.7,2.8,2.9,3,3.1,3.2,3.3,3.4,3.5,3.6,3.7,3.8,3.9,4,4.1,4.2,4.3,4.4,4.5,4.6,4.7,4.8,4.9,5]},\"column_names\":[\"y\",\"x\"],\"cont_ranges\":{},\"discrete_ranges\":{},\"selected\":[],\"id\":\"dbcc3eaa-b727-47b6-c720-42663355dce0\",\"doc\":null,\"tags\":[]}},{\"id\":\"5009ef23-82c9-4a61-ca83-74682f17fda2\",\"type\":\"Line\",\"attributes\":{\"fill_alpha\":{\"units\":\"data\",\"value\":0.2},\"line_alpha\":{\"units\":\"data\",\"value\":1},\"doc\":null,\"size\":{\"units\":\"screen\",\"value\":10},\"fill_color\":{\"value\":\"red\"},\"line_color\":{\"value\":\"red\"},\"x\":{\"units\":\"data\",\"field\":\"x\"},\"id\":\"5009ef23-82c9-4a61-ca83-74682f17fda2\",\"y\":{\"units\":\"data\",\"field\":\"y\"},\"tags\":[]}},{\"id\":\"cb31dc76-94d6-465b-c6f7-be2f9280a00e\",\"type\":\"Line\",\"attributes\":{\"fill_alpha\":{\"units\":\"data\",\"value\":0.2},\"line_alpha\":{\"units\":\"data\",\"value\":1},\"doc\":null,\"size\":{\"units\":\"screen\",\"value\":10},\"fill_color\":{\"value\":\"red\"},\"line_color\":{\"value\":\"red\"},\"x\":{\"units\":\"data\",\"field\":\"x\"},\"id\":\"cb31dc76-94d6-465b-c6f7-be2f9280a00e\",\"y\":{\"units\":\"data\",\"field\":\"y\"},\"tags\":[]}},{\"id\":\"2ce6d563-645b-437e-c3e5-955c0880629e\",\"type\":\"GlyphRenderer\",\"attributes\":{\"name\":null,\"nonselection_glyph\":{\"type\":\"Line\",\"id\":\"cb31dc76-94d6-465b-c6f7-be2f9280a00e\"},\"doc\":null,\"server_data_source\":null,\"data_source\":{\"type\":\"ColumnDataSource\",\"id\":\"dbcc3eaa-b727-47b6-c720-42663355dce0\"},\"glyph\":{\"type\":\"Line\",\"id\":\"5009ef23-82c9-4a61-ca83-74682f17fda2\"},\"selection_glyph\":null,\"id\":\"2ce6d563-645b-437e-c3e5-955c0880629e\",\"tags\":[]}},{\"id\":\"ae9bdc2a-8636-481f-c89f-c93e65dd2be2\",\"type\":\"ColumnDataSource\",\"attributes\":{\"data\":{\"y\":[-1,-1,-1,-1,-1,-1,-1,-1,-1,-1,-1,-1,-1,-1,-1,-1,-1,-1,-1,-1,-1,-1,-1,-1,-1,-1,-1,-1,-1,-1,-1,-1,-1,-1,-1,-1,-1,-1,-1,-1,-1,-0.9,-0.8,-0.7,-0.6,-0.5,-0.4,-0.3,-0.2,-0.1,0,0.1,0.2,0.3,0.4,0.5,0.6,0.7,0.8,0.9,1,1,1,1,1,1,1,1,1,1,1,1,1,1,1,1,1,1,1,1,1,1,1,1,1,1,1,1,1,1,1,1,1,1,1,1,1,1,1,1,1],\"x\":[-5,-4.9,-4.8,-4.7,-4.6,-4.5,-4.4,-4.3,-4.2,-4.1,-4,-3.9,-3.8,-3.7,-3.6,-3.5,-3.4,-3.3,-3.2,-3.1,-3,-2.9,-2.8,-2.7,-2.6,-2.5,-2.4,-2.3,-2.2,-2.1,-2,-1.9,-1.8,-1.7,-1.6,-1.5,-1.4,-1.3,-1.2,-1.1,-1,-0.9,-0.8,-0.7,-0.6,-0.5,-0.4,-0.3,-0.2,-0.1,0,0.1,0.2,0.3,0.4,0.5,0.6,0.7,0.8,0.9,1,1.1,1.2,1.3,1.4,1.5,1.6,1.7,1.8,1.9,2,2.1,2.2,2.3,2.4,2.5,2.6,2.7,2.8,2.9,3,3.1,3.2,3.3,3.4,3.5,3.6,3.7,3.8,3.9,4,4.1,4.2,4.3,4.4,4.5,4.6,4.7,4.8,4.9,5]},\"column_names\":[\"y\",\"x\"],\"cont_ranges\":{},\"discrete_ranges\":{},\"selected\":[],\"id\":\"ae9bdc2a-8636-481f-c89f-c93e65dd2be2\",\"doc\":null,\"tags\":[]}},{\"id\":\"6ea307e2-93aa-4cdd-cc53-0fe234bdd645\",\"type\":\"Line\",\"attributes\":{\"fill_alpha\":{\"units\":\"data\",\"value\":0.2},\"line_alpha\":{\"units\":\"data\",\"value\":1},\"doc\":null,\"size\":{\"units\":\"screen\",\"value\":10},\"fill_color\":{\"value\":\"green\"},\"line_color\":{\"value\":\"green\"},\"x\":{\"units\":\"data\",\"field\":\"x\"},\"id\":\"6ea307e2-93aa-4cdd-cc53-0fe234bdd645\",\"y\":{\"units\":\"data\",\"field\":\"y\"},\"tags\":[]}},{\"id\":\"16ca4d4e-69df-4fa1-cf2a-9b4b1287e209\",\"type\":\"Line\",\"attributes\":{\"fill_alpha\":{\"units\":\"data\",\"value\":0.2},\"line_alpha\":{\"units\":\"data\",\"value\":1},\"doc\":null,\"size\":{\"units\":\"screen\",\"value\":10},\"fill_color\":{\"value\":\"green\"},\"line_color\":{\"value\":\"green\"},\"x\":{\"units\":\"data\",\"field\":\"x\"},\"id\":\"16ca4d4e-69df-4fa1-cf2a-9b4b1287e209\",\"y\":{\"units\":\"data\",\"field\":\"y\"},\"tags\":[]}},{\"id\":\"bc15cc70-ce9e-41f7-c15e-cf43818825f6\",\"type\":\"GlyphRenderer\",\"attributes\":{\"name\":null,\"nonselection_glyph\":{\"type\":\"Line\",\"id\":\"16ca4d4e-69df-4fa1-cf2a-9b4b1287e209\"},\"doc\":null,\"server_data_source\":null,\"data_source\":{\"type\":\"ColumnDataSource\",\"id\":\"ae9bdc2a-8636-481f-c89f-c93e65dd2be2\"},\"glyph\":{\"type\":\"Line\",\"id\":\"6ea307e2-93aa-4cdd-cc53-0fe234bdd645\"},\"selection_glyph\":null,\"id\":\"bc15cc70-ce9e-41f7-c15e-cf43818825f6\",\"tags\":[]}},{\"id\":\"f58a716c-0919-4ed1-ce81-4532f5591c71\",\"type\":\"ColumnDataSource\",\"attributes\":{\"data\":{\"y\":[-0.83333333333333,-0.83050847457627,-0.82758620689655,-0.82456140350877,-0.82142857142857,-0.81818181818182,-0.81481481481481,-0.81132075471698,-0.80769230769231,-0.80392156862745,-0.8,-0.79591836734694,-0.79166666666667,-0.78723404255319,-0.78260869565217,-0.77777777777778,-0.77272727272727,-0.76744186046512,-0.76190476190476,-0.75609756097561,-0.75,-0.74358974358974,-0.73684210526316,-0.72972972972973,-0.72222222222222,-0.71428571428571,-0.70588235294118,-0.6969696969697,-0.6875,-0.67741935483871,-0.66666666666667,-0.6551724137931,-0.64285714285714,-0.62962962962963,-0.61538461538462,-0.6,-0.58333333333333,-0.56521739130435,-0.54545454545455,-0.52380952380952,-0.5,-0.47368421052632,-0.44444444444444,-0.41176470588235,-0.375,-0.33333333333333,-0.28571428571429,-0.23076923076923,-0.16666666666667,-0.090909090909091,0,0.090909090909091,0.16666666666667,0.23076923076923,0.28571428571429,0.33333333333333,0.375,0.41176470588235,0.44444444444444,0.47368421052632,0.5,0.52380952380952,0.54545454545455,0.56521739130435,0.58333333333333,0.6,0.61538461538462,0.62962962962963,0.64285714285714,0.6551724137931,0.66666666666667,0.67741935483871,0.6875,0.6969696969697,0.70588235294118,0.71428571428571,0.72222222222222,0.72972972972973,0.73684210526316,0.74358974358974,0.75,0.75609756097561,0.76190476190476,0.76744186046512,0.77272727272727,0.77777777777778,0.78260869565217,0.78723404255319,0.79166666666667,0.79591836734694,0.8,0.80392156862745,0.80769230769231,0.81132075471698,0.81481481481481,0.81818181818182,0.82142857142857,0.82456140350877,0.82758620689655,0.83050847457627,0.83333333333333],\"x\":[-5,-4.9,-4.8,-4.7,-4.6,-4.5,-4.4,-4.3,-4.2,-4.1,-4,-3.9,-3.8,-3.7,-3.6,-3.5,-3.4,-3.3,-3.2,-3.1,-3,-2.9,-2.8,-2.7,-2.6,-2.5,-2.4,-2.3,-2.2,-2.1,-2,-1.9,-1.8,-1.7,-1.6,-1.5,-1.4,-1.3,-1.2,-1.1,-1,-0.9,-0.8,-0.7,-0.6,-0.5,-0.4,-0.3,-0.2,-0.1,0,0.1,0.2,0.3,0.4,0.5,0.6,0.7,0.8,0.9,1,1.1,1.2,1.3,1.4,1.5,1.6,1.7,1.8,1.9,2,2.1,2.2,2.3,2.4,2.5,2.6,2.7,2.8,2.9,3,3.1,3.2,3.3,3.4,3.5,3.6,3.7,3.8,3.9,4,4.1,4.2,4.3,4.4,4.5,4.6,4.7,4.8,4.9,5]},\"column_names\":[\"y\",\"x\"],\"cont_ranges\":{},\"discrete_ranges\":{},\"selected\":[],\"id\":\"f58a716c-0919-4ed1-ce81-4532f5591c71\",\"doc\":null,\"tags\":[]}},{\"id\":\"7d0e3034-00f9-433f-c303-8ee9f15f43eb\",\"type\":\"Line\",\"attributes\":{\"fill_alpha\":{\"units\":\"data\",\"value\":0.2},\"line_alpha\":{\"units\":\"data\",\"value\":1},\"doc\":null,\"size\":{\"units\":\"screen\",\"value\":10},\"fill_color\":{\"value\":\"blue\"},\"line_color\":{\"value\":\"blue\"},\"x\":{\"units\":\"data\",\"field\":\"x\"},\"id\":\"7d0e3034-00f9-433f-c303-8ee9f15f43eb\",\"y\":{\"units\":\"data\",\"field\":\"y\"},\"tags\":[]}},{\"id\":\"3f6751a2-733b-4934-c931-1d1d86374e94\",\"type\":\"Line\",\"attributes\":{\"fill_alpha\":{\"units\":\"data\",\"value\":0.2},\"line_alpha\":{\"units\":\"data\",\"value\":1},\"doc\":null,\"size\":{\"units\":\"screen\",\"value\":10},\"fill_color\":{\"value\":\"blue\"},\"line_color\":{\"value\":\"blue\"},\"x\":{\"units\":\"data\",\"field\":\"x\"},\"id\":\"3f6751a2-733b-4934-c931-1d1d86374e94\",\"y\":{\"units\":\"data\",\"field\":\"y\"},\"tags\":[]}},{\"id\":\"916b9db1-7745-489e-c89f-1f690cc20823\",\"type\":\"GlyphRenderer\",\"attributes\":{\"name\":null,\"nonselection_glyph\":{\"type\":\"Line\",\"id\":\"3f6751a2-733b-4934-c931-1d1d86374e94\"},\"doc\":null,\"server_data_source\":null,\"data_source\":{\"type\":\"ColumnDataSource\",\"id\":\"f58a716c-0919-4ed1-ce81-4532f5591c71\"},\"glyph\":{\"type\":\"Line\",\"id\":\"7d0e3034-00f9-433f-c303-8ee9f15f43eb\"},\"selection_glyph\":null,\"id\":\"916b9db1-7745-489e-c89f-1f690cc20823\",\"tags\":[]}},{\"id\":\"1abaa17f-bd72-4876-c83c-1f031df8990d\",\"type\":\"ColumnDataSource\",\"attributes\":{\"data\":{\"y\":[0.0066928509242849,0.007391541344282,0.0081625711531599,0.0090132986528478,0.0099518018669043,0.010986942630593,0.012128434984274,0.013386917827665,0.014774031693273,0.016302499371441,0.017986209962092,0.019840305734078,0.02188127093613,0.024127021417669,0.026596993576866,0.029312230751356,0.03229546469845,0.035571189272636,0.039165722796764,0.043107254941086,0.047425873177567,0.052153563078418,0.057324175898869,0.062973356056996,0.069138420343347,0.075858180021244,0.083172696493922,0.091122961014856,0.099750489119685,0.10909682119561,0.11920292202212,0.130108474363,0.14185106490049,0.15446526508353,0.16798161486608,0.18242552380636,0.19781611144142,0.21416501695744,0.23147521650098,0.24973989440488,0.26894142137,0.289050497375,0.31002551887239,0.33181222783183,0.3543436937742,0.37754066879815,0.40131233988755,0.42555748318834,0.45016600268752,0.47502081252106,0.5,0.52497918747894,0.54983399731248,0.57444251681166,0.59868766011245,0.62245933120185,0.6456563062258,0.66818777216817,0.68997448112761,0.710949502625,0.73105857863,0.75026010559512,0.76852478349902,0.78583498304256,0.80218388855858,0.81757447619364,0.83201838513392,0.84553473491647,0.85814893509951,0.869891525637,0.88079707797788,0.89090317880439,0.90024951088031,0.90887703898514,0.91682730350608,0.92414181997876,0.93086157965665,0.937026643943,0.94267582410113,0.94784643692158,0.95257412682243,0.95689274505891,0.96083427720324,0.96442881072736,0.96770453530155,0.97068776924864,0.97340300642313,0.97587297858233,0.97811872906387,0.98015969426592,0.98201379003791,0.98369750062856,0.98522596830673,0.98661308217234,0.98787156501573,0.98901305736941,0.9900481981331,0.99098670134715,0.99183742884684,0.99260845865572,0.99330714907572],\"x\":[-5,-4.9,-4.8,-4.7,-4.6,-4.5,-4.4,-4.3,-4.2,-4.1,-4,-3.9,-3.8,-3.7,-3.6,-3.5,-3.4,-3.3,-3.2,-3.1,-3,-2.9,-2.8,-2.7,-2.6,-2.5,-2.4,-2.3,-2.2,-2.1,-2,-1.9,-1.8,-1.7,-1.6,-1.5,-1.4,-1.3,-1.2,-1.1,-1,-0.9,-0.8,-0.7,-0.6,-0.5,-0.4,-0.3,-0.2,-0.1,0,0.1,0.2,0.3,0.4,0.5,0.6,0.7,0.8,0.9,1,1.1,1.2,1.3,1.4,1.5,1.6,1.7,1.8,1.9,2,2.1,2.2,2.3,2.4,2.5,2.6,2.7,2.8,2.9,3,3.1,3.2,3.3,3.4,3.5,3.6,3.7,3.8,3.9,4,4.1,4.2,4.3,4.4,4.5,4.6,4.7,4.8,4.9,5]},\"column_names\":[\"y\",\"x\"],\"cont_ranges\":{},\"discrete_ranges\":{},\"selected\":[],\"id\":\"1abaa17f-bd72-4876-c83c-1f031df8990d\",\"doc\":null,\"tags\":[]}},{\"id\":\"6b9474d1-8d60-4850-c806-e7a23f5fff7f\",\"type\":\"Line\",\"attributes\":{\"fill_alpha\":{\"units\":\"data\",\"value\":0.2},\"line_alpha\":{\"units\":\"data\",\"value\":1},\"doc\":null,\"size\":{\"units\":\"screen\",\"value\":10},\"fill_color\":{\"value\":\"black\"},\"line_color\":{\"value\":\"black\"},\"x\":{\"units\":\"data\",\"field\":\"x\"},\"id\":\"6b9474d1-8d60-4850-c806-e7a23f5fff7f\",\"y\":{\"units\":\"data\",\"field\":\"y\"},\"tags\":[]}},{\"id\":\"a49f8f88-172c-43fc-c36e-1e4be944b303\",\"type\":\"Line\",\"attributes\":{\"fill_alpha\":{\"units\":\"data\",\"value\":0.2},\"line_alpha\":{\"units\":\"data\",\"value\":1},\"doc\":null,\"size\":{\"units\":\"screen\",\"value\":10},\"fill_color\":{\"value\":\"black\"},\"line_color\":{\"value\":\"black\"},\"x\":{\"units\":\"data\",\"field\":\"x\"},\"id\":\"a49f8f88-172c-43fc-c36e-1e4be944b303\",\"y\":{\"units\":\"data\",\"field\":\"y\"},\"tags\":[]}},{\"id\":\"4c92973d-d7fe-41e5-c1dd-b80d028b6905\",\"type\":\"GlyphRenderer\",\"attributes\":{\"name\":null,\"nonselection_glyph\":{\"type\":\"Line\",\"id\":\"a49f8f88-172c-43fc-c36e-1e4be944b303\"},\"doc\":null,\"server_data_source\":null,\"data_source\":{\"type\":\"ColumnDataSource\",\"id\":\"1abaa17f-bd72-4876-c83c-1f031df8990d\"},\"glyph\":{\"type\":\"Line\",\"id\":\"6b9474d1-8d60-4850-c806-e7a23f5fff7f\"},\"selection_glyph\":null,\"id\":\"4c92973d-d7fe-41e5-c1dd-b80d028b6905\",\"tags\":[]}},{\"id\":\"c1b533d8-3c18-4cdd-cc47-403647fe1018\",\"type\":\"DataRange1d\",\"attributes\":{\"sources\":[{\"columns\":[\"x\"],\"source\":{\"type\":\"ColumnDataSource\",\"id\":\"dbcc3eaa-b727-47b6-c720-42663355dce0\"}},{\"columns\":[\"x\"],\"source\":{\"type\":\"ColumnDataSource\",\"id\":\"ae9bdc2a-8636-481f-c89f-c93e65dd2be2\"}},{\"columns\":[\"x\"],\"source\":{\"type\":\"ColumnDataSource\",\"id\":\"f58a716c-0919-4ed1-ce81-4532f5591c71\"}},{\"columns\":[\"x\"],\"source\":{\"type\":\"ColumnDataSource\",\"id\":\"1abaa17f-bd72-4876-c83c-1f031df8990d\"}}],\"id\":\"c1b533d8-3c18-4cdd-cc47-403647fe1018\",\"tags\":[],\"doc\":null}},{\"id\":\"f7004df0-ddf7-4d03-cdb8-4fa1de6e3bcf\",\"type\":\"DataRange1d\",\"attributes\":{\"sources\":[{\"columns\":[\"y\"],\"source\":{\"type\":\"ColumnDataSource\",\"id\":\"dbcc3eaa-b727-47b6-c720-42663355dce0\"}},{\"columns\":[\"y\"],\"source\":{\"type\":\"ColumnDataSource\",\"id\":\"ae9bdc2a-8636-481f-c89f-c93e65dd2be2\"}},{\"columns\":[\"y\"],\"source\":{\"type\":\"ColumnDataSource\",\"id\":\"f58a716c-0919-4ed1-ce81-4532f5591c71\"}},{\"columns\":[\"y\"],\"source\":{\"type\":\"ColumnDataSource\",\"id\":\"1abaa17f-bd72-4876-c83c-1f031df8990d\"}}],\"id\":\"f7004df0-ddf7-4d03-cdb8-4fa1de6e3bcf\",\"tags\":[],\"doc\":null}},{\"id\":\"fc73a7e6-7404-4f02-cf0e-21bbb4c021ef\",\"type\":\"ToolEvents\",\"attributes\":{\"tags\":[],\"id\":\"fc73a7e6-7404-4f02-cf0e-21bbb4c021ef\",\"geometries\":[],\"doc\":null}},{\"id\":\"3341b4ae-cbb7-4b06-cb09-af6b68284b67\",\"type\":\"BasicTickFormatter\",\"attributes\":{\"id\":\"3341b4ae-cbb7-4b06-cb09-af6b68284b67\",\"tags\":[],\"doc\":null}},{\"id\":\"4790005a-184c-44cd-c430-d44d8e4487c9\",\"type\":\"BasicTicker\",\"attributes\":{\"num_minor_ticks\":5,\"id\":\"4790005a-184c-44cd-c430-d44d8e4487c9\",\"tags\":[],\"doc\":null}},{\"id\":\"851d1b8b-11ef-4d4f-cd56-15c4c5291a50\",\"type\":\"LinearAxis\",\"attributes\":{\"formatter\":{\"type\":\"BasicTickFormatter\",\"id\":\"3341b4ae-cbb7-4b06-cb09-af6b68284b67\"},\"ticker\":{\"type\":\"BasicTicker\",\"id\":\"4790005a-184c-44cd-c430-d44d8e4487c9\"},\"plot\":{\"id\":\"dfc5d210-21c2-4941-c9e8-e315d3e43f11\",\"type\":\"Plot\",\"subtype\":\"Figure\"},\"axis_label\":null,\"id\":\"851d1b8b-11ef-4d4f-cd56-15c4c5291a50\",\"doc\":null,\"tags\":[]}},{\"id\":\"edb83bf6-05e3-44b6-c4a2-4de8e78dc2eb\",\"type\":\"Grid\",\"attributes\":{\"dimension\":0,\"plot\":{\"id\":\"dfc5d210-21c2-4941-c9e8-e315d3e43f11\",\"type\":\"Plot\",\"subtype\":\"Figure\"},\"ticker\":{\"type\":\"BasicTicker\",\"id\":\"4790005a-184c-44cd-c430-d44d8e4487c9\"},\"id\":\"edb83bf6-05e3-44b6-c4a2-4de8e78dc2eb\",\"doc\":null,\"tags\":[]}},{\"id\":\"9ad64c8d-0dc1-490d-c9da-0dd82bac1e91\",\"type\":\"BasicTickFormatter\",\"attributes\":{\"id\":\"9ad64c8d-0dc1-490d-c9da-0dd82bac1e91\",\"tags\":[],\"doc\":null}},{\"id\":\"88fe02b4-c305-4443-c4bc-51a48e8ab53c\",\"type\":\"BasicTicker\",\"attributes\":{\"num_minor_ticks\":5,\"id\":\"88fe02b4-c305-4443-c4bc-51a48e8ab53c\",\"tags\":[],\"doc\":null}},{\"id\":\"3de3aa81-2bc2-4514-c55b-552a597be5ee\",\"type\":\"LinearAxis\",\"attributes\":{\"formatter\":{\"type\":\"BasicTickFormatter\",\"id\":\"9ad64c8d-0dc1-490d-c9da-0dd82bac1e91\"},\"ticker\":{\"type\":\"BasicTicker\",\"id\":\"88fe02b4-c305-4443-c4bc-51a48e8ab53c\"},\"plot\":{\"id\":\"dfc5d210-21c2-4941-c9e8-e315d3e43f11\",\"type\":\"Plot\",\"subtype\":\"Figure\"},\"axis_label\":null,\"id\":\"3de3aa81-2bc2-4514-c55b-552a597be5ee\",\"doc\":null,\"tags\":[]}},{\"id\":\"30478146-1415-43bc-c354-2f11b7f63741\",\"type\":\"Grid\",\"attributes\":{\"dimension\":1,\"plot\":{\"id\":\"dfc5d210-21c2-4941-c9e8-e315d3e43f11\",\"type\":\"Plot\",\"subtype\":\"Figure\"},\"ticker\":{\"type\":\"BasicTicker\",\"id\":\"88fe02b4-c305-4443-c4bc-51a48e8ab53c\"},\"id\":\"30478146-1415-43bc-c354-2f11b7f63741\",\"doc\":null,\"tags\":[]}},{\"id\":\"67fedde7-77f3-4be4-cbee-f8d7e302e1f3\",\"type\":\"PanTool\",\"attributes\":{\"plot\":{\"id\":\"dfc5d210-21c2-4941-c9e8-e315d3e43f11\",\"type\":\"Plot\",\"subtype\":\"Figure\"},\"dimensions\":[\"width\",\"height\"],\"id\":\"67fedde7-77f3-4be4-cbee-f8d7e302e1f3\",\"doc\":null,\"tags\":[]}},{\"id\":\"bf1c741c-5060-4927-c9b9-07391de6e8a4\",\"type\":\"WheelZoomTool\",\"attributes\":{\"plot\":{\"id\":\"dfc5d210-21c2-4941-c9e8-e315d3e43f11\",\"type\":\"Plot\",\"subtype\":\"Figure\"},\"dimensions\":[\"width\",\"height\"],\"id\":\"bf1c741c-5060-4927-c9b9-07391de6e8a4\",\"doc\":null,\"tags\":[]}},{\"id\":\"e4375cef-c895-46d0-c6a9-fab205519e72\",\"type\":\"BoxZoomTool\",\"attributes\":{\"plot\":{\"id\":\"dfc5d210-21c2-4941-c9e8-e315d3e43f11\",\"type\":\"Plot\",\"subtype\":\"Figure\"},\"id\":\"e4375cef-c895-46d0-c6a9-fab205519e72\",\"tags\":[],\"doc\":null}},{\"id\":\"648b2e60-e405-4c40-cc5b-fff61141078a\",\"type\":\"PreviewSaveTool\",\"attributes\":{\"plot\":{\"id\":\"dfc5d210-21c2-4941-c9e8-e315d3e43f11\",\"type\":\"Plot\",\"subtype\":\"Figure\"},\"id\":\"648b2e60-e405-4c40-cc5b-fff61141078a\",\"tags\":[],\"doc\":null}},{\"id\":\"489e075e-014c-4ef5-ce93-ac111bcdfad3\",\"type\":\"ResizeTool\",\"attributes\":{\"plot\":{\"id\":\"dfc5d210-21c2-4941-c9e8-e315d3e43f11\",\"type\":\"Plot\",\"subtype\":\"Figure\"},\"id\":\"489e075e-014c-4ef5-ce93-ac111bcdfad3\",\"tags\":[],\"doc\":null}},{\"id\":\"4323d333-fe4b-47ae-c720-624cf01f3eae\",\"type\":\"ResetTool\",\"attributes\":{\"plot\":{\"id\":\"dfc5d210-21c2-4941-c9e8-e315d3e43f11\",\"type\":\"Plot\",\"subtype\":\"Figure\"},\"id\":\"4323d333-fe4b-47ae-c720-624cf01f3eae\",\"tags\":[],\"doc\":null}},{\"id\":\"1aa638fb-0aeb-4e45-cebe-45eea8d8a6e4\",\"type\":\"Legend\",\"attributes\":{\"plot\":{\"id\":\"dfc5d210-21c2-4941-c9e8-e315d3e43f11\",\"type\":\"Plot\",\"subtype\":\"Figure\"},\"legends\":[[\"Tanh\",[{\"type\":\"GlyphRenderer\",\"id\":\"2ce6d563-645b-437e-c3e5-955c0880629e\"}]],[\"HardTanh\",[{\"type\":\"GlyphRenderer\",\"id\":\"bc15cc70-ce9e-41f7-c15e-cf43818825f6\"}]],[\"SoftSign\",[{\"type\":\"GlyphRenderer\",\"id\":\"916b9db1-7745-489e-c89f-1f690cc20823\"}]],[\"Sigmoid\",[{\"type\":\"GlyphRenderer\",\"id\":\"4c92973d-d7fe-41e5-c1dd-b80d028b6905\"}]]],\"id\":\"1aa638fb-0aeb-4e45-cebe-45eea8d8a6e4\",\"doc\":null,\"tags\":[]}},{\"id\":\"dfc5d210-21c2-4941-c9e8-e315d3e43f11\",\"type\":\"Plot\",\"attributes\":{\"x_range\":{\"type\":\"DataRange1d\",\"id\":\"c1b533d8-3c18-4cdd-cc47-403647fe1018\"},\"tool_events\":{\"type\":\"ToolEvents\",\"id\":\"fc73a7e6-7404-4f02-cf0e-21bbb4c021ef\"},\"below\":[{\"type\":\"LinearAxis\",\"id\":\"851d1b8b-11ef-4d4f-cd56-15c4c5291a50\"}],\"renderers\":[{\"type\":\"GlyphRenderer\",\"id\":\"2ce6d563-645b-437e-c3e5-955c0880629e\"},{\"type\":\"GlyphRenderer\",\"id\":\"bc15cc70-ce9e-41f7-c15e-cf43818825f6\"},{\"type\":\"GlyphRenderer\",\"id\":\"916b9db1-7745-489e-c89f-1f690cc20823\"},{\"type\":\"GlyphRenderer\",\"id\":\"4c92973d-d7fe-41e5-c1dd-b80d028b6905\"},{\"type\":\"LinearAxis\",\"id\":\"851d1b8b-11ef-4d4f-cd56-15c4c5291a50\"},{\"type\":\"Grid\",\"id\":\"edb83bf6-05e3-44b6-c4a2-4de8e78dc2eb\"},{\"type\":\"LinearAxis\",\"id\":\"3de3aa81-2bc2-4514-c55b-552a597be5ee\"},{\"type\":\"Grid\",\"id\":\"30478146-1415-43bc-c354-2f11b7f63741\"},{\"type\":\"Legend\",\"id\":\"1aa638fb-0aeb-4e45-cebe-45eea8d8a6e4\"}],\"above\":[],\"tools\":[{\"type\":\"PanTool\",\"id\":\"67fedde7-77f3-4be4-cbee-f8d7e302e1f3\"},{\"type\":\"WheelZoomTool\",\"id\":\"bf1c741c-5060-4927-c9b9-07391de6e8a4\"},{\"type\":\"BoxZoomTool\",\"id\":\"e4375cef-c895-46d0-c6a9-fab205519e72\"},{\"type\":\"PreviewSaveTool\",\"id\":\"648b2e60-e405-4c40-cc5b-fff61141078a\"},{\"type\":\"ResizeTool\",\"id\":\"489e075e-014c-4ef5-ce93-ac111bcdfad3\"},{\"type\":\"ResetTool\",\"id\":\"4323d333-fe4b-47ae-c720-624cf01f3eae\"}],\"doc\":null,\"right\":[],\"title\":\"Tanh\\/HardTanh\\/Sigmoid activation functions\",\"extra_x_ranges\":{},\"left\":[{\"type\":\"LinearAxis\",\"id\":\"3de3aa81-2bc2-4514-c55b-552a597be5ee\"}],\"y_range\":{\"type\":\"DataRange1d\",\"id\":\"f7004df0-ddf7-4d03-cdb8-4fa1de6e3bcf\"},\"id\":\"dfc5d210-21c2-4941-c9e8-e315d3e43f11\",\"extra_y_ranges\":{},\"tags\":[]}}];\n",
       "      Bokeh.load_models(all_models);\n",
       "      var model = Bokeh.Collections(modeltype).get(modelid);\n",
       "      $(\"#a5b6de1d-d2b3-4e39-ce5e-d76a30234d47\").html(''); // clear any previous plot in window_id\n",
       "      var view = new model.default_view({model: model, el: \"#a5b6de1d-d2b3-4e39-ce5e-d76a30234d47\"});\n",
       "  });\n",
       "    }\n",
       "});\n",
       "</script>\n",
       "<div class=\"plotdiv\" id=\"a5b6de1d-d2b3-4e39-ce5e-d76a30234d47\"></div>\n"
      ]
     },
     "metadata": {},
     "output_type": "display_data"
    }
   ],
   "source": [
    "ys1 = nn.Tanh():forward(xs)\n",
    "ys2 = nn.HardTanh():forward(xs)\n",
    "\n",
    "ys3 = nn.SoftSign():forward(xs)\n",
    "ys4 = nn.Sigmoid():forward(xs)\n",
    "\n",
    "p = Plot():line(xs,ys1,'red','Tanh'):line(xs,ys2,'green','HardTanh')\n",
    "p:line(xs,ys3,'blue','SoftSign'):line(xs,ys4,'black', 'Sigmoid')\n",
    "p:title('Tanh/HardTanh/Sigmoid activation functions'):legend(true):draw()"
   ]
  },
  {
   "cell_type": "code",
   "execution_count": 9,
   "metadata": {
    "collapsed": false,
    "scrolled": false
   },
   "outputs": [
    {
     "data": {
      "text/html": [
       "<script type=\"text/javascript\">\n",
       "$(function() {\n",
       "    if (typeof (window._bokeh_onload_callbacks) === \"undefined\"){\n",
       "  window._bokeh_onload_callbacks = [];\n",
       "    }\n",
       "    function load_lib(url, callback){\n",
       "  window._bokeh_onload_callbacks.push(callback);\n",
       "  if (window._bokeh_is_loading){\n",
       "      console.log(\"Bokeh: BokehJS is being loaded, scheduling callback at\", new Date());\n",
       "      return null;\n",
       "  }\n",
       "  console.log(\"Bokeh: BokehJS not loaded, scheduling load and callback at\", new Date());\n",
       "  window._bokeh_is_loading = true;\n",
       "  var s = document.createElement('script');\n",
       "  s.src = url;\n",
       "  s.async = true;\n",
       "  s.onreadystatechange = s.onload = function(){\n",
       "      Bokeh.embed.inject_css(\"http://cdn.pydata.org/bokeh-0.7.0.min.css\");\n",
       "      window._bokeh_onload_callbacks.forEach(function(callback){callback()});\n",
       "  };\n",
       "  s.onerror = function(){\n",
       "      console.warn(\"failed to load library \" + url);\n",
       "  };\n",
       "  document.getElementsByTagName(\"head\")[0].appendChild(s);\n",
       "    }\n",
       "\n",
       "    bokehjs_url = \"http://cdn.pydata.org/bokeh-0.7.0.min.js\"\n",
       "\n",
       "    var elt = document.getElementById(\"68582311-abde-4789-c715-78a4d0c0d2cc\");\n",
       "    if(elt==null) {\n",
       "  console.log(\"Bokeh: ERROR: autoload.js configured with elementid '68582311-abde-4789-c715-78a4d0c0d2cc'\"\n",
       "        + \"but no matching script tag was found. \")\n",
       "  return false;\n",
       "    }\n",
       "\n",
       "    if(typeof(Bokeh) !== \"undefined\") {\n",
       "  console.log(\"Bokeh: BokehJS loaded, going straight to plotting\");\n",
       "  var modelid = \"49fd7e0a-99e4-42c9-c230-569e198fd904\";\n",
       "  var modeltype = \"Plot\";\n",
       "  var all_models = [{\"id\":\"71c762a4-7339-4c46-cc34-a9cde1830045\",\"type\":\"ColumnDataSource\",\"attributes\":{\"data\":{\"y\":[0,0,0,0,0,0,0,0,0,0,0,0,0,0,0,0,0,0,0,0,0,0,0,0,0,0,0,0,0,0,0,0,0,0,0,0,0,0,0,0,0,0,0,0,0,0,0,0,0,0,0,0.1,0.2,0.3,0.4,0.5,0.6,0.7,0.8,0.9,1,1.1,1.2,1.3,1.4,1.5,1.6,1.7,1.8,1.9,2,2.1,2.2,2.3,2.4,2.5,2.6,2.7,2.8,2.9,3,3.1,3.2,3.3,3.4,3.5,3.6,3.7,3.8,3.9,4,4.1,4.2,4.3,4.4,4.5,4.6,4.7,4.8,4.9,5],\"x\":[-5,-4.9,-4.8,-4.7,-4.6,-4.5,-4.4,-4.3,-4.2,-4.1,-4,-3.9,-3.8,-3.7,-3.6,-3.5,-3.4,-3.3,-3.2,-3.1,-3,-2.9,-2.8,-2.7,-2.6,-2.5,-2.4,-2.3,-2.2,-2.1,-2,-1.9,-1.8,-1.7,-1.6,-1.5,-1.4,-1.3,-1.2,-1.1,-1,-0.9,-0.8,-0.7,-0.6,-0.5,-0.4,-0.3,-0.2,-0.1,0,0.1,0.2,0.3,0.4,0.5,0.6,0.7,0.8,0.9,1,1.1,1.2,1.3,1.4,1.5,1.6,1.7,1.8,1.9,2,2.1,2.2,2.3,2.4,2.5,2.6,2.7,2.8,2.9,3,3.1,3.2,3.3,3.4,3.5,3.6,3.7,3.8,3.9,4,4.1,4.2,4.3,4.4,4.5,4.6,4.7,4.8,4.9,5]},\"column_names\":[\"y\",\"x\"],\"cont_ranges\":{},\"discrete_ranges\":{},\"selected\":[],\"id\":\"71c762a4-7339-4c46-cc34-a9cde1830045\",\"doc\":null,\"tags\":[]}},{\"id\":\"c743e878-2950-4f7e-cfc8-7835840a558a\",\"type\":\"Line\",\"attributes\":{\"fill_alpha\":{\"units\":\"data\",\"value\":0.2},\"line_alpha\":{\"units\":\"data\",\"value\":1},\"doc\":null,\"size\":{\"units\":\"screen\",\"value\":10},\"fill_color\":{\"value\":\"red\"},\"line_color\":{\"value\":\"red\"},\"x\":{\"units\":\"data\",\"field\":\"x\"},\"id\":\"c743e878-2950-4f7e-cfc8-7835840a558a\",\"y\":{\"units\":\"data\",\"field\":\"y\"},\"tags\":[]}},{\"id\":\"80916607-4ec3-4111-c1ce-45221464354c\",\"type\":\"Line\",\"attributes\":{\"fill_alpha\":{\"units\":\"data\",\"value\":0.2},\"line_alpha\":{\"units\":\"data\",\"value\":1},\"doc\":null,\"size\":{\"units\":\"screen\",\"value\":10},\"fill_color\":{\"value\":\"red\"},\"line_color\":{\"value\":\"red\"},\"x\":{\"units\":\"data\",\"field\":\"x\"},\"id\":\"80916607-4ec3-4111-c1ce-45221464354c\",\"y\":{\"units\":\"data\",\"field\":\"y\"},\"tags\":[]}},{\"id\":\"38bd9b0b-8d2c-432c-c33c-6353b5ddd497\",\"type\":\"GlyphRenderer\",\"attributes\":{\"name\":null,\"nonselection_glyph\":{\"type\":\"Line\",\"id\":\"80916607-4ec3-4111-c1ce-45221464354c\"},\"doc\":null,\"server_data_source\":null,\"data_source\":{\"type\":\"ColumnDataSource\",\"id\":\"71c762a4-7339-4c46-cc34-a9cde1830045\"},\"glyph\":{\"type\":\"Line\",\"id\":\"c743e878-2950-4f7e-cfc8-7835840a558a\"},\"selection_glyph\":null,\"id\":\"38bd9b0b-8d2c-432c-c33c-6353b5ddd497\",\"tags\":[]}},{\"id\":\"38e71985-908a-4f41-cfdb-a4f2127a8589\",\"type\":\"ColumnDataSource\",\"attributes\":{\"data\":{\"y\":[0.0067153484891181,0.0074189941486867,0.0081960673382678,0.0090541641698875,0.010001652055652,0.011047744848594,0.012202584607696,0.013477330416026,0.014884254671918,0.01643684725291,0.01814992791781,0.020039767260398,0.022124216454879,0.024422845933779,0.026957093008208,0.029750418272621,0.032828470424865,0.036219258870659,0.03995333316243,0.044063967938574,0.048587351573742,0.053562776217963,0.059032826287971,0.065043561776591,0.07164469196767,0.07888973429255,0.08683615215395,0.095545464597963,0.1050833197687,0.11551952317975,0.12692801104297,0.13938675828296,0.15297761052607,0.16778602938627,0.18390074088834,0.20141327798275,0.22041740991845,0.24100845383299,0.26328246733803,0.28733532511543,0.31326168751822,0.34115387473209,0.37110066594778,0.40318604888546,0.43748795048589,0.47407698418011,0.51301525239995,0.55435524446853,0.59813886938159,0.64439666007357,0.69314718055995,0.74439666007357,0.79813886938159,0.85435524446853,0.91301525239995,0.97407698418011,1.0374879504859,1.1031860488855,1.1711006659478,1.2411538747321,1.3132616875182,1.3873353251154,1.463282467338,1.541008453833,1.6204174099185,1.7014132779828,1.7839007408883,1.8677860293863,1.9529776105261,2.039386758283,2.126928011043,2.2155195231798,2.3050833197687,2.395545464598,2.486836152154,2.5788897342925,2.6716446919677,2.7650435617766,2.859032826288,2.953562776218,3.0485873515737,3.1440639679386,3.2399533331624,3.3362192588707,3.4328284704249,3.5297504182726,3.6269570930082,3.7244228459338,3.8221242164549,3.9200397672604,4.0181499279178,4.1164368472529,4.2148842546719,4.313477330416,4.4122025846077,4.5110477448486,4.6100016520557,4.7090541641699,4.8081960673383,4.9074189941487,5.0067153484891],\"x\":[-5,-4.9,-4.8,-4.7,-4.6,-4.5,-4.4,-4.3,-4.2,-4.1,-4,-3.9,-3.8,-3.7,-3.6,-3.5,-3.4,-3.3,-3.2,-3.1,-3,-2.9,-2.8,-2.7,-2.6,-2.5,-2.4,-2.3,-2.2,-2.1,-2,-1.9,-1.8,-1.7,-1.6,-1.5,-1.4,-1.3,-1.2,-1.1,-1,-0.9,-0.8,-0.7,-0.6,-0.5,-0.4,-0.3,-0.2,-0.1,0,0.1,0.2,0.3,0.4,0.5,0.6,0.7,0.8,0.9,1,1.1,1.2,1.3,1.4,1.5,1.6,1.7,1.8,1.9,2,2.1,2.2,2.3,2.4,2.5,2.6,2.7,2.8,2.9,3,3.1,3.2,3.3,3.4,3.5,3.6,3.7,3.8,3.9,4,4.1,4.2,4.3,4.4,4.5,4.6,4.7,4.8,4.9,5]},\"column_names\":[\"y\",\"x\"],\"cont_ranges\":{},\"discrete_ranges\":{},\"selected\":[],\"id\":\"38e71985-908a-4f41-cfdb-a4f2127a8589\",\"doc\":null,\"tags\":[]}},{\"id\":\"fb1c0a8c-3974-4ba7-cb54-d027d9fce98f\",\"type\":\"Line\",\"attributes\":{\"fill_alpha\":{\"units\":\"data\",\"value\":0.2},\"line_alpha\":{\"units\":\"data\",\"value\":1},\"doc\":null,\"size\":{\"units\":\"screen\",\"value\":10},\"fill_color\":{\"value\":\"blue\"},\"line_color\":{\"value\":\"blue\"},\"x\":{\"units\":\"data\",\"field\":\"x\"},\"id\":\"fb1c0a8c-3974-4ba7-cb54-d027d9fce98f\",\"y\":{\"units\":\"data\",\"field\":\"y\"},\"tags\":[]}},{\"id\":\"3d45818a-b5bc-48e0-c871-129881dfe385\",\"type\":\"Line\",\"attributes\":{\"fill_alpha\":{\"units\":\"data\",\"value\":0.2},\"line_alpha\":{\"units\":\"data\",\"value\":1},\"doc\":null,\"size\":{\"units\":\"screen\",\"value\":10},\"fill_color\":{\"value\":\"blue\"},\"line_color\":{\"value\":\"blue\"},\"x\":{\"units\":\"data\",\"field\":\"x\"},\"id\":\"3d45818a-b5bc-48e0-c871-129881dfe385\",\"y\":{\"units\":\"data\",\"field\":\"y\"},\"tags\":[]}},{\"id\":\"bb20367c-45be-4187-c160-91a65e1b87ee\",\"type\":\"GlyphRenderer\",\"attributes\":{\"name\":null,\"nonselection_glyph\":{\"type\":\"Line\",\"id\":\"3d45818a-b5bc-48e0-c871-129881dfe385\"},\"doc\":null,\"server_data_source\":null,\"data_source\":{\"type\":\"ColumnDataSource\",\"id\":\"38e71985-908a-4f41-cfdb-a4f2127a8589\"},\"glyph\":{\"type\":\"Line\",\"id\":\"fb1c0a8c-3974-4ba7-cb54-d027d9fce98f\"},\"selection_glyph\":null,\"id\":\"bb20367c-45be-4187-c160-91a65e1b87ee\",\"tags\":[]}},{\"id\":\"75deb4e1-de4b-4277-c2b6-03402a290f7d\",\"type\":\"DataRange1d\",\"attributes\":{\"sources\":[{\"columns\":[\"x\"],\"source\":{\"type\":\"ColumnDataSource\",\"id\":\"71c762a4-7339-4c46-cc34-a9cde1830045\"}},{\"columns\":[\"x\"],\"source\":{\"type\":\"ColumnDataSource\",\"id\":\"38e71985-908a-4f41-cfdb-a4f2127a8589\"}}],\"id\":\"75deb4e1-de4b-4277-c2b6-03402a290f7d\",\"tags\":[],\"doc\":null}},{\"id\":\"c77fc70e-c027-4bdd-cb74-9efe64b30c3f\",\"type\":\"DataRange1d\",\"attributes\":{\"sources\":[{\"columns\":[\"y\"],\"source\":{\"type\":\"ColumnDataSource\",\"id\":\"71c762a4-7339-4c46-cc34-a9cde1830045\"}},{\"columns\":[\"y\"],\"source\":{\"type\":\"ColumnDataSource\",\"id\":\"38e71985-908a-4f41-cfdb-a4f2127a8589\"}}],\"id\":\"c77fc70e-c027-4bdd-cb74-9efe64b30c3f\",\"tags\":[],\"doc\":null}},{\"id\":\"6761a806-b16f-4d65-cdfb-ac8a32d052d3\",\"type\":\"ToolEvents\",\"attributes\":{\"tags\":[],\"id\":\"6761a806-b16f-4d65-cdfb-ac8a32d052d3\",\"geometries\":[],\"doc\":null}},{\"id\":\"94195310-aa19-4ca4-ccff-ddd71d30ae2e\",\"type\":\"BasicTickFormatter\",\"attributes\":{\"id\":\"94195310-aa19-4ca4-ccff-ddd71d30ae2e\",\"tags\":[],\"doc\":null}},{\"id\":\"1a51a132-5544-45d0-c517-c7413397c262\",\"type\":\"BasicTicker\",\"attributes\":{\"num_minor_ticks\":5,\"id\":\"1a51a132-5544-45d0-c517-c7413397c262\",\"tags\":[],\"doc\":null}},{\"id\":\"bb1614d0-945b-49bc-c939-478134e839e5\",\"type\":\"LinearAxis\",\"attributes\":{\"formatter\":{\"type\":\"BasicTickFormatter\",\"id\":\"94195310-aa19-4ca4-ccff-ddd71d30ae2e\"},\"ticker\":{\"type\":\"BasicTicker\",\"id\":\"1a51a132-5544-45d0-c517-c7413397c262\"},\"plot\":{\"id\":\"49fd7e0a-99e4-42c9-c230-569e198fd904\",\"type\":\"Plot\",\"subtype\":\"Figure\"},\"axis_label\":null,\"id\":\"bb1614d0-945b-49bc-c939-478134e839e5\",\"doc\":null,\"tags\":[]}},{\"id\":\"ba89f1af-8906-4b2e-cb32-cc24feeefc78\",\"type\":\"Grid\",\"attributes\":{\"dimension\":0,\"plot\":{\"id\":\"49fd7e0a-99e4-42c9-c230-569e198fd904\",\"type\":\"Plot\",\"subtype\":\"Figure\"},\"ticker\":{\"type\":\"BasicTicker\",\"id\":\"1a51a132-5544-45d0-c517-c7413397c262\"},\"id\":\"ba89f1af-8906-4b2e-cb32-cc24feeefc78\",\"doc\":null,\"tags\":[]}},{\"id\":\"6a3bde1f-0946-44d8-c4ae-464b440e8a88\",\"type\":\"BasicTickFormatter\",\"attributes\":{\"id\":\"6a3bde1f-0946-44d8-c4ae-464b440e8a88\",\"tags\":[],\"doc\":null}},{\"id\":\"c2b03050-7182-4818-c81f-517947bf8a35\",\"type\":\"BasicTicker\",\"attributes\":{\"num_minor_ticks\":5,\"id\":\"c2b03050-7182-4818-c81f-517947bf8a35\",\"tags\":[],\"doc\":null}},{\"id\":\"70af5f75-a406-4cb3-ccd2-c2d320ffe43a\",\"type\":\"LinearAxis\",\"attributes\":{\"formatter\":{\"type\":\"BasicTickFormatter\",\"id\":\"6a3bde1f-0946-44d8-c4ae-464b440e8a88\"},\"ticker\":{\"type\":\"BasicTicker\",\"id\":\"c2b03050-7182-4818-c81f-517947bf8a35\"},\"plot\":{\"id\":\"49fd7e0a-99e4-42c9-c230-569e198fd904\",\"type\":\"Plot\",\"subtype\":\"Figure\"},\"axis_label\":null,\"id\":\"70af5f75-a406-4cb3-ccd2-c2d320ffe43a\",\"doc\":null,\"tags\":[]}},{\"id\":\"d8f84276-0c60-46a2-c679-e3d3417d7849\",\"type\":\"Grid\",\"attributes\":{\"dimension\":1,\"plot\":{\"id\":\"49fd7e0a-99e4-42c9-c230-569e198fd904\",\"type\":\"Plot\",\"subtype\":\"Figure\"},\"ticker\":{\"type\":\"BasicTicker\",\"id\":\"c2b03050-7182-4818-c81f-517947bf8a35\"},\"id\":\"d8f84276-0c60-46a2-c679-e3d3417d7849\",\"doc\":null,\"tags\":[]}},{\"id\":\"78b1c040-27e8-48fc-c89a-a00850c8fc2e\",\"type\":\"PanTool\",\"attributes\":{\"plot\":{\"id\":\"49fd7e0a-99e4-42c9-c230-569e198fd904\",\"type\":\"Plot\",\"subtype\":\"Figure\"},\"dimensions\":[\"width\",\"height\"],\"id\":\"78b1c040-27e8-48fc-c89a-a00850c8fc2e\",\"doc\":null,\"tags\":[]}},{\"id\":\"58a0b646-0879-4622-c6ba-6be7f1680868\",\"type\":\"WheelZoomTool\",\"attributes\":{\"plot\":{\"id\":\"49fd7e0a-99e4-42c9-c230-569e198fd904\",\"type\":\"Plot\",\"subtype\":\"Figure\"},\"dimensions\":[\"width\",\"height\"],\"id\":\"58a0b646-0879-4622-c6ba-6be7f1680868\",\"doc\":null,\"tags\":[]}},{\"id\":\"90cd3bab-7862-4102-c12a-1a4193098f73\",\"type\":\"BoxZoomTool\",\"attributes\":{\"plot\":{\"id\":\"49fd7e0a-99e4-42c9-c230-569e198fd904\",\"type\":\"Plot\",\"subtype\":\"Figure\"},\"id\":\"90cd3bab-7862-4102-c12a-1a4193098f73\",\"tags\":[],\"doc\":null}},{\"id\":\"7d2b0a47-170c-4ac1-ca4a-6685398c9c2b\",\"type\":\"PreviewSaveTool\",\"attributes\":{\"plot\":{\"id\":\"49fd7e0a-99e4-42c9-c230-569e198fd904\",\"type\":\"Plot\",\"subtype\":\"Figure\"},\"id\":\"7d2b0a47-170c-4ac1-ca4a-6685398c9c2b\",\"tags\":[],\"doc\":null}},{\"id\":\"79655b13-5385-4dc0-cd9f-9c4590daca1a\",\"type\":\"ResizeTool\",\"attributes\":{\"plot\":{\"id\":\"49fd7e0a-99e4-42c9-c230-569e198fd904\",\"type\":\"Plot\",\"subtype\":\"Figure\"},\"id\":\"79655b13-5385-4dc0-cd9f-9c4590daca1a\",\"tags\":[],\"doc\":null}},{\"id\":\"49639db4-a51b-49a2-c935-bff03b70d736\",\"type\":\"ResetTool\",\"attributes\":{\"plot\":{\"id\":\"49fd7e0a-99e4-42c9-c230-569e198fd904\",\"type\":\"Plot\",\"subtype\":\"Figure\"},\"id\":\"49639db4-a51b-49a2-c935-bff03b70d736\",\"tags\":[],\"doc\":null}},{\"id\":\"ae0cac3b-e2e6-4604-c6ee-599419a12508\",\"type\":\"Legend\",\"attributes\":{\"plot\":{\"id\":\"49fd7e0a-99e4-42c9-c230-569e198fd904\",\"type\":\"Plot\",\"subtype\":\"Figure\"},\"legends\":[[\"ReLU\",[{\"type\":\"GlyphRenderer\",\"id\":\"38bd9b0b-8d2c-432c-c33c-6353b5ddd497\"}]],[\"SoftPlus\",[{\"type\":\"GlyphRenderer\",\"id\":\"bb20367c-45be-4187-c160-91a65e1b87ee\"}]]],\"id\":\"ae0cac3b-e2e6-4604-c6ee-599419a12508\",\"doc\":null,\"tags\":[]}},{\"id\":\"49fd7e0a-99e4-42c9-c230-569e198fd904\",\"type\":\"Plot\",\"attributes\":{\"x_range\":{\"type\":\"DataRange1d\",\"id\":\"75deb4e1-de4b-4277-c2b6-03402a290f7d\"},\"tool_events\":{\"type\":\"ToolEvents\",\"id\":\"6761a806-b16f-4d65-cdfb-ac8a32d052d3\"},\"below\":[{\"type\":\"LinearAxis\",\"id\":\"bb1614d0-945b-49bc-c939-478134e839e5\"}],\"renderers\":[{\"type\":\"GlyphRenderer\",\"id\":\"38bd9b0b-8d2c-432c-c33c-6353b5ddd497\"},{\"type\":\"GlyphRenderer\",\"id\":\"bb20367c-45be-4187-c160-91a65e1b87ee\"},{\"type\":\"LinearAxis\",\"id\":\"bb1614d0-945b-49bc-c939-478134e839e5\"},{\"type\":\"Grid\",\"id\":\"ba89f1af-8906-4b2e-cb32-cc24feeefc78\"},{\"type\":\"LinearAxis\",\"id\":\"70af5f75-a406-4cb3-ccd2-c2d320ffe43a\"},{\"type\":\"Grid\",\"id\":\"d8f84276-0c60-46a2-c679-e3d3417d7849\"},{\"type\":\"Legend\",\"id\":\"ae0cac3b-e2e6-4604-c6ee-599419a12508\"}],\"above\":[],\"tools\":[{\"type\":\"PanTool\",\"id\":\"78b1c040-27e8-48fc-c89a-a00850c8fc2e\"},{\"type\":\"WheelZoomTool\",\"id\":\"58a0b646-0879-4622-c6ba-6be7f1680868\"},{\"type\":\"BoxZoomTool\",\"id\":\"90cd3bab-7862-4102-c12a-1a4193098f73\"},{\"type\":\"PreviewSaveTool\",\"id\":\"7d2b0a47-170c-4ac1-ca4a-6685398c9c2b\"},{\"type\":\"ResizeTool\",\"id\":\"79655b13-5385-4dc0-cd9f-9c4590daca1a\"},{\"type\":\"ResetTool\",\"id\":\"49639db4-a51b-49a2-c935-bff03b70d736\"}],\"doc\":null,\"right\":[],\"title\":\"ReLU and SoftPlus transfer functions\",\"extra_x_ranges\":{},\"left\":[{\"type\":\"LinearAxis\",\"id\":\"70af5f75-a406-4cb3-ccd2-c2d320ffe43a\"}],\"y_range\":{\"type\":\"DataRange1d\",\"id\":\"c77fc70e-c027-4bdd-cb74-9efe64b30c3f\"},\"id\":\"49fd7e0a-99e4-42c9-c230-569e198fd904\",\"extra_y_ranges\":{},\"tags\":[]}}];\n",
       "  Bokeh.load_models(all_models);\n",
       "  var model = Bokeh.Collections(modeltype).get(modelid);\n",
       "  $(\"#68582311-abde-4789-c715-78a4d0c0d2cc\").html(''); // clear any previous plot in window_id\n",
       "  var view = new model.default_view({model: model, el: \"#68582311-abde-4789-c715-78a4d0c0d2cc\"});\n",
       "    } else {\n",
       "  load_lib(bokehjs_url, function() {\n",
       "      console.log(\"Bokeh: BokehJS plotting callback run at\", new Date())\n",
       "      var modelid = \"49fd7e0a-99e4-42c9-c230-569e198fd904\";\n",
       "      var modeltype = \"Plot\";\n",
       "      var all_models = [{\"id\":\"71c762a4-7339-4c46-cc34-a9cde1830045\",\"type\":\"ColumnDataSource\",\"attributes\":{\"data\":{\"y\":[0,0,0,0,0,0,0,0,0,0,0,0,0,0,0,0,0,0,0,0,0,0,0,0,0,0,0,0,0,0,0,0,0,0,0,0,0,0,0,0,0,0,0,0,0,0,0,0,0,0,0,0.1,0.2,0.3,0.4,0.5,0.6,0.7,0.8,0.9,1,1.1,1.2,1.3,1.4,1.5,1.6,1.7,1.8,1.9,2,2.1,2.2,2.3,2.4,2.5,2.6,2.7,2.8,2.9,3,3.1,3.2,3.3,3.4,3.5,3.6,3.7,3.8,3.9,4,4.1,4.2,4.3,4.4,4.5,4.6,4.7,4.8,4.9,5],\"x\":[-5,-4.9,-4.8,-4.7,-4.6,-4.5,-4.4,-4.3,-4.2,-4.1,-4,-3.9,-3.8,-3.7,-3.6,-3.5,-3.4,-3.3,-3.2,-3.1,-3,-2.9,-2.8,-2.7,-2.6,-2.5,-2.4,-2.3,-2.2,-2.1,-2,-1.9,-1.8,-1.7,-1.6,-1.5,-1.4,-1.3,-1.2,-1.1,-1,-0.9,-0.8,-0.7,-0.6,-0.5,-0.4,-0.3,-0.2,-0.1,0,0.1,0.2,0.3,0.4,0.5,0.6,0.7,0.8,0.9,1,1.1,1.2,1.3,1.4,1.5,1.6,1.7,1.8,1.9,2,2.1,2.2,2.3,2.4,2.5,2.6,2.7,2.8,2.9,3,3.1,3.2,3.3,3.4,3.5,3.6,3.7,3.8,3.9,4,4.1,4.2,4.3,4.4,4.5,4.6,4.7,4.8,4.9,5]},\"column_names\":[\"y\",\"x\"],\"cont_ranges\":{},\"discrete_ranges\":{},\"selected\":[],\"id\":\"71c762a4-7339-4c46-cc34-a9cde1830045\",\"doc\":null,\"tags\":[]}},{\"id\":\"c743e878-2950-4f7e-cfc8-7835840a558a\",\"type\":\"Line\",\"attributes\":{\"fill_alpha\":{\"units\":\"data\",\"value\":0.2},\"line_alpha\":{\"units\":\"data\",\"value\":1},\"doc\":null,\"size\":{\"units\":\"screen\",\"value\":10},\"fill_color\":{\"value\":\"red\"},\"line_color\":{\"value\":\"red\"},\"x\":{\"units\":\"data\",\"field\":\"x\"},\"id\":\"c743e878-2950-4f7e-cfc8-7835840a558a\",\"y\":{\"units\":\"data\",\"field\":\"y\"},\"tags\":[]}},{\"id\":\"80916607-4ec3-4111-c1ce-45221464354c\",\"type\":\"Line\",\"attributes\":{\"fill_alpha\":{\"units\":\"data\",\"value\":0.2},\"line_alpha\":{\"units\":\"data\",\"value\":1},\"doc\":null,\"size\":{\"units\":\"screen\",\"value\":10},\"fill_color\":{\"value\":\"red\"},\"line_color\":{\"value\":\"red\"},\"x\":{\"units\":\"data\",\"field\":\"x\"},\"id\":\"80916607-4ec3-4111-c1ce-45221464354c\",\"y\":{\"units\":\"data\",\"field\":\"y\"},\"tags\":[]}},{\"id\":\"38bd9b0b-8d2c-432c-c33c-6353b5ddd497\",\"type\":\"GlyphRenderer\",\"attributes\":{\"name\":null,\"nonselection_glyph\":{\"type\":\"Line\",\"id\":\"80916607-4ec3-4111-c1ce-45221464354c\"},\"doc\":null,\"server_data_source\":null,\"data_source\":{\"type\":\"ColumnDataSource\",\"id\":\"71c762a4-7339-4c46-cc34-a9cde1830045\"},\"glyph\":{\"type\":\"Line\",\"id\":\"c743e878-2950-4f7e-cfc8-7835840a558a\"},\"selection_glyph\":null,\"id\":\"38bd9b0b-8d2c-432c-c33c-6353b5ddd497\",\"tags\":[]}},{\"id\":\"38e71985-908a-4f41-cfdb-a4f2127a8589\",\"type\":\"ColumnDataSource\",\"attributes\":{\"data\":{\"y\":[0.0067153484891181,0.0074189941486867,0.0081960673382678,0.0090541641698875,0.010001652055652,0.011047744848594,0.012202584607696,0.013477330416026,0.014884254671918,0.01643684725291,0.01814992791781,0.020039767260398,0.022124216454879,0.024422845933779,0.026957093008208,0.029750418272621,0.032828470424865,0.036219258870659,0.03995333316243,0.044063967938574,0.048587351573742,0.053562776217963,0.059032826287971,0.065043561776591,0.07164469196767,0.07888973429255,0.08683615215395,0.095545464597963,0.1050833197687,0.11551952317975,0.12692801104297,0.13938675828296,0.15297761052607,0.16778602938627,0.18390074088834,0.20141327798275,0.22041740991845,0.24100845383299,0.26328246733803,0.28733532511543,0.31326168751822,0.34115387473209,0.37110066594778,0.40318604888546,0.43748795048589,0.47407698418011,0.51301525239995,0.55435524446853,0.59813886938159,0.64439666007357,0.69314718055995,0.74439666007357,0.79813886938159,0.85435524446853,0.91301525239995,0.97407698418011,1.0374879504859,1.1031860488855,1.1711006659478,1.2411538747321,1.3132616875182,1.3873353251154,1.463282467338,1.541008453833,1.6204174099185,1.7014132779828,1.7839007408883,1.8677860293863,1.9529776105261,2.039386758283,2.126928011043,2.2155195231798,2.3050833197687,2.395545464598,2.486836152154,2.5788897342925,2.6716446919677,2.7650435617766,2.859032826288,2.953562776218,3.0485873515737,3.1440639679386,3.2399533331624,3.3362192588707,3.4328284704249,3.5297504182726,3.6269570930082,3.7244228459338,3.8221242164549,3.9200397672604,4.0181499279178,4.1164368472529,4.2148842546719,4.313477330416,4.4122025846077,4.5110477448486,4.6100016520557,4.7090541641699,4.8081960673383,4.9074189941487,5.0067153484891],\"x\":[-5,-4.9,-4.8,-4.7,-4.6,-4.5,-4.4,-4.3,-4.2,-4.1,-4,-3.9,-3.8,-3.7,-3.6,-3.5,-3.4,-3.3,-3.2,-3.1,-3,-2.9,-2.8,-2.7,-2.6,-2.5,-2.4,-2.3,-2.2,-2.1,-2,-1.9,-1.8,-1.7,-1.6,-1.5,-1.4,-1.3,-1.2,-1.1,-1,-0.9,-0.8,-0.7,-0.6,-0.5,-0.4,-0.3,-0.2,-0.1,0,0.1,0.2,0.3,0.4,0.5,0.6,0.7,0.8,0.9,1,1.1,1.2,1.3,1.4,1.5,1.6,1.7,1.8,1.9,2,2.1,2.2,2.3,2.4,2.5,2.6,2.7,2.8,2.9,3,3.1,3.2,3.3,3.4,3.5,3.6,3.7,3.8,3.9,4,4.1,4.2,4.3,4.4,4.5,4.6,4.7,4.8,4.9,5]},\"column_names\":[\"y\",\"x\"],\"cont_ranges\":{},\"discrete_ranges\":{},\"selected\":[],\"id\":\"38e71985-908a-4f41-cfdb-a4f2127a8589\",\"doc\":null,\"tags\":[]}},{\"id\":\"fb1c0a8c-3974-4ba7-cb54-d027d9fce98f\",\"type\":\"Line\",\"attributes\":{\"fill_alpha\":{\"units\":\"data\",\"value\":0.2},\"line_alpha\":{\"units\":\"data\",\"value\":1},\"doc\":null,\"size\":{\"units\":\"screen\",\"value\":10},\"fill_color\":{\"value\":\"blue\"},\"line_color\":{\"value\":\"blue\"},\"x\":{\"units\":\"data\",\"field\":\"x\"},\"id\":\"fb1c0a8c-3974-4ba7-cb54-d027d9fce98f\",\"y\":{\"units\":\"data\",\"field\":\"y\"},\"tags\":[]}},{\"id\":\"3d45818a-b5bc-48e0-c871-129881dfe385\",\"type\":\"Line\",\"attributes\":{\"fill_alpha\":{\"units\":\"data\",\"value\":0.2},\"line_alpha\":{\"units\":\"data\",\"value\":1},\"doc\":null,\"size\":{\"units\":\"screen\",\"value\":10},\"fill_color\":{\"value\":\"blue\"},\"line_color\":{\"value\":\"blue\"},\"x\":{\"units\":\"data\",\"field\":\"x\"},\"id\":\"3d45818a-b5bc-48e0-c871-129881dfe385\",\"y\":{\"units\":\"data\",\"field\":\"y\"},\"tags\":[]}},{\"id\":\"bb20367c-45be-4187-c160-91a65e1b87ee\",\"type\":\"GlyphRenderer\",\"attributes\":{\"name\":null,\"nonselection_glyph\":{\"type\":\"Line\",\"id\":\"3d45818a-b5bc-48e0-c871-129881dfe385\"},\"doc\":null,\"server_data_source\":null,\"data_source\":{\"type\":\"ColumnDataSource\",\"id\":\"38e71985-908a-4f41-cfdb-a4f2127a8589\"},\"glyph\":{\"type\":\"Line\",\"id\":\"fb1c0a8c-3974-4ba7-cb54-d027d9fce98f\"},\"selection_glyph\":null,\"id\":\"bb20367c-45be-4187-c160-91a65e1b87ee\",\"tags\":[]}},{\"id\":\"75deb4e1-de4b-4277-c2b6-03402a290f7d\",\"type\":\"DataRange1d\",\"attributes\":{\"sources\":[{\"columns\":[\"x\"],\"source\":{\"type\":\"ColumnDataSource\",\"id\":\"71c762a4-7339-4c46-cc34-a9cde1830045\"}},{\"columns\":[\"x\"],\"source\":{\"type\":\"ColumnDataSource\",\"id\":\"38e71985-908a-4f41-cfdb-a4f2127a8589\"}}],\"id\":\"75deb4e1-de4b-4277-c2b6-03402a290f7d\",\"tags\":[],\"doc\":null}},{\"id\":\"c77fc70e-c027-4bdd-cb74-9efe64b30c3f\",\"type\":\"DataRange1d\",\"attributes\":{\"sources\":[{\"columns\":[\"y\"],\"source\":{\"type\":\"ColumnDataSource\",\"id\":\"71c762a4-7339-4c46-cc34-a9cde1830045\"}},{\"columns\":[\"y\"],\"source\":{\"type\":\"ColumnDataSource\",\"id\":\"38e71985-908a-4f41-cfdb-a4f2127a8589\"}}],\"id\":\"c77fc70e-c027-4bdd-cb74-9efe64b30c3f\",\"tags\":[],\"doc\":null}},{\"id\":\"6761a806-b16f-4d65-cdfb-ac8a32d052d3\",\"type\":\"ToolEvents\",\"attributes\":{\"tags\":[],\"id\":\"6761a806-b16f-4d65-cdfb-ac8a32d052d3\",\"geometries\":[],\"doc\":null}},{\"id\":\"94195310-aa19-4ca4-ccff-ddd71d30ae2e\",\"type\":\"BasicTickFormatter\",\"attributes\":{\"id\":\"94195310-aa19-4ca4-ccff-ddd71d30ae2e\",\"tags\":[],\"doc\":null}},{\"id\":\"1a51a132-5544-45d0-c517-c7413397c262\",\"type\":\"BasicTicker\",\"attributes\":{\"num_minor_ticks\":5,\"id\":\"1a51a132-5544-45d0-c517-c7413397c262\",\"tags\":[],\"doc\":null}},{\"id\":\"bb1614d0-945b-49bc-c939-478134e839e5\",\"type\":\"LinearAxis\",\"attributes\":{\"formatter\":{\"type\":\"BasicTickFormatter\",\"id\":\"94195310-aa19-4ca4-ccff-ddd71d30ae2e\"},\"ticker\":{\"type\":\"BasicTicker\",\"id\":\"1a51a132-5544-45d0-c517-c7413397c262\"},\"plot\":{\"id\":\"49fd7e0a-99e4-42c9-c230-569e198fd904\",\"type\":\"Plot\",\"subtype\":\"Figure\"},\"axis_label\":null,\"id\":\"bb1614d0-945b-49bc-c939-478134e839e5\",\"doc\":null,\"tags\":[]}},{\"id\":\"ba89f1af-8906-4b2e-cb32-cc24feeefc78\",\"type\":\"Grid\",\"attributes\":{\"dimension\":0,\"plot\":{\"id\":\"49fd7e0a-99e4-42c9-c230-569e198fd904\",\"type\":\"Plot\",\"subtype\":\"Figure\"},\"ticker\":{\"type\":\"BasicTicker\",\"id\":\"1a51a132-5544-45d0-c517-c7413397c262\"},\"id\":\"ba89f1af-8906-4b2e-cb32-cc24feeefc78\",\"doc\":null,\"tags\":[]}},{\"id\":\"6a3bde1f-0946-44d8-c4ae-464b440e8a88\",\"type\":\"BasicTickFormatter\",\"attributes\":{\"id\":\"6a3bde1f-0946-44d8-c4ae-464b440e8a88\",\"tags\":[],\"doc\":null}},{\"id\":\"c2b03050-7182-4818-c81f-517947bf8a35\",\"type\":\"BasicTicker\",\"attributes\":{\"num_minor_ticks\":5,\"id\":\"c2b03050-7182-4818-c81f-517947bf8a35\",\"tags\":[],\"doc\":null}},{\"id\":\"70af5f75-a406-4cb3-ccd2-c2d320ffe43a\",\"type\":\"LinearAxis\",\"attributes\":{\"formatter\":{\"type\":\"BasicTickFormatter\",\"id\":\"6a3bde1f-0946-44d8-c4ae-464b440e8a88\"},\"ticker\":{\"type\":\"BasicTicker\",\"id\":\"c2b03050-7182-4818-c81f-517947bf8a35\"},\"plot\":{\"id\":\"49fd7e0a-99e4-42c9-c230-569e198fd904\",\"type\":\"Plot\",\"subtype\":\"Figure\"},\"axis_label\":null,\"id\":\"70af5f75-a406-4cb3-ccd2-c2d320ffe43a\",\"doc\":null,\"tags\":[]}},{\"id\":\"d8f84276-0c60-46a2-c679-e3d3417d7849\",\"type\":\"Grid\",\"attributes\":{\"dimension\":1,\"plot\":{\"id\":\"49fd7e0a-99e4-42c9-c230-569e198fd904\",\"type\":\"Plot\",\"subtype\":\"Figure\"},\"ticker\":{\"type\":\"BasicTicker\",\"id\":\"c2b03050-7182-4818-c81f-517947bf8a35\"},\"id\":\"d8f84276-0c60-46a2-c679-e3d3417d7849\",\"doc\":null,\"tags\":[]}},{\"id\":\"78b1c040-27e8-48fc-c89a-a00850c8fc2e\",\"type\":\"PanTool\",\"attributes\":{\"plot\":{\"id\":\"49fd7e0a-99e4-42c9-c230-569e198fd904\",\"type\":\"Plot\",\"subtype\":\"Figure\"},\"dimensions\":[\"width\",\"height\"],\"id\":\"78b1c040-27e8-48fc-c89a-a00850c8fc2e\",\"doc\":null,\"tags\":[]}},{\"id\":\"58a0b646-0879-4622-c6ba-6be7f1680868\",\"type\":\"WheelZoomTool\",\"attributes\":{\"plot\":{\"id\":\"49fd7e0a-99e4-42c9-c230-569e198fd904\",\"type\":\"Plot\",\"subtype\":\"Figure\"},\"dimensions\":[\"width\",\"height\"],\"id\":\"58a0b646-0879-4622-c6ba-6be7f1680868\",\"doc\":null,\"tags\":[]}},{\"id\":\"90cd3bab-7862-4102-c12a-1a4193098f73\",\"type\":\"BoxZoomTool\",\"attributes\":{\"plot\":{\"id\":\"49fd7e0a-99e4-42c9-c230-569e198fd904\",\"type\":\"Plot\",\"subtype\":\"Figure\"},\"id\":\"90cd3bab-7862-4102-c12a-1a4193098f73\",\"tags\":[],\"doc\":null}},{\"id\":\"7d2b0a47-170c-4ac1-ca4a-6685398c9c2b\",\"type\":\"PreviewSaveTool\",\"attributes\":{\"plot\":{\"id\":\"49fd7e0a-99e4-42c9-c230-569e198fd904\",\"type\":\"Plot\",\"subtype\":\"Figure\"},\"id\":\"7d2b0a47-170c-4ac1-ca4a-6685398c9c2b\",\"tags\":[],\"doc\":null}},{\"id\":\"79655b13-5385-4dc0-cd9f-9c4590daca1a\",\"type\":\"ResizeTool\",\"attributes\":{\"plot\":{\"id\":\"49fd7e0a-99e4-42c9-c230-569e198fd904\",\"type\":\"Plot\",\"subtype\":\"Figure\"},\"id\":\"79655b13-5385-4dc0-cd9f-9c4590daca1a\",\"tags\":[],\"doc\":null}},{\"id\":\"49639db4-a51b-49a2-c935-bff03b70d736\",\"type\":\"ResetTool\",\"attributes\":{\"plot\":{\"id\":\"49fd7e0a-99e4-42c9-c230-569e198fd904\",\"type\":\"Plot\",\"subtype\":\"Figure\"},\"id\":\"49639db4-a51b-49a2-c935-bff03b70d736\",\"tags\":[],\"doc\":null}},{\"id\":\"ae0cac3b-e2e6-4604-c6ee-599419a12508\",\"type\":\"Legend\",\"attributes\":{\"plot\":{\"id\":\"49fd7e0a-99e4-42c9-c230-569e198fd904\",\"type\":\"Plot\",\"subtype\":\"Figure\"},\"legends\":[[\"ReLU\",[{\"type\":\"GlyphRenderer\",\"id\":\"38bd9b0b-8d2c-432c-c33c-6353b5ddd497\"}]],[\"SoftPlus\",[{\"type\":\"GlyphRenderer\",\"id\":\"bb20367c-45be-4187-c160-91a65e1b87ee\"}]]],\"id\":\"ae0cac3b-e2e6-4604-c6ee-599419a12508\",\"doc\":null,\"tags\":[]}},{\"id\":\"49fd7e0a-99e4-42c9-c230-569e198fd904\",\"type\":\"Plot\",\"attributes\":{\"x_range\":{\"type\":\"DataRange1d\",\"id\":\"75deb4e1-de4b-4277-c2b6-03402a290f7d\"},\"tool_events\":{\"type\":\"ToolEvents\",\"id\":\"6761a806-b16f-4d65-cdfb-ac8a32d052d3\"},\"below\":[{\"type\":\"LinearAxis\",\"id\":\"bb1614d0-945b-49bc-c939-478134e839e5\"}],\"renderers\":[{\"type\":\"GlyphRenderer\",\"id\":\"38bd9b0b-8d2c-432c-c33c-6353b5ddd497\"},{\"type\":\"GlyphRenderer\",\"id\":\"bb20367c-45be-4187-c160-91a65e1b87ee\"},{\"type\":\"LinearAxis\",\"id\":\"bb1614d0-945b-49bc-c939-478134e839e5\"},{\"type\":\"Grid\",\"id\":\"ba89f1af-8906-4b2e-cb32-cc24feeefc78\"},{\"type\":\"LinearAxis\",\"id\":\"70af5f75-a406-4cb3-ccd2-c2d320ffe43a\"},{\"type\":\"Grid\",\"id\":\"d8f84276-0c60-46a2-c679-e3d3417d7849\"},{\"type\":\"Legend\",\"id\":\"ae0cac3b-e2e6-4604-c6ee-599419a12508\"}],\"above\":[],\"tools\":[{\"type\":\"PanTool\",\"id\":\"78b1c040-27e8-48fc-c89a-a00850c8fc2e\"},{\"type\":\"WheelZoomTool\",\"id\":\"58a0b646-0879-4622-c6ba-6be7f1680868\"},{\"type\":\"BoxZoomTool\",\"id\":\"90cd3bab-7862-4102-c12a-1a4193098f73\"},{\"type\":\"PreviewSaveTool\",\"id\":\"7d2b0a47-170c-4ac1-ca4a-6685398c9c2b\"},{\"type\":\"ResizeTool\",\"id\":\"79655b13-5385-4dc0-cd9f-9c4590daca1a\"},{\"type\":\"ResetTool\",\"id\":\"49639db4-a51b-49a2-c935-bff03b70d736\"}],\"doc\":null,\"right\":[],\"title\":\"ReLU and SoftPlus transfer functions\",\"extra_x_ranges\":{},\"left\":[{\"type\":\"LinearAxis\",\"id\":\"70af5f75-a406-4cb3-ccd2-c2d320ffe43a\"}],\"y_range\":{\"type\":\"DataRange1d\",\"id\":\"c77fc70e-c027-4bdd-cb74-9efe64b30c3f\"},\"id\":\"49fd7e0a-99e4-42c9-c230-569e198fd904\",\"extra_y_ranges\":{},\"tags\":[]}}];\n",
       "      Bokeh.load_models(all_models);\n",
       "      var model = Bokeh.Collections(modeltype).get(modelid);\n",
       "      $(\"#68582311-abde-4789-c715-78a4d0c0d2cc\").html(''); // clear any previous plot in window_id\n",
       "      var view = new model.default_view({model: model, el: \"#68582311-abde-4789-c715-78a4d0c0d2cc\"});\n",
       "  });\n",
       "    }\n",
       "});\n",
       "</script>\n",
       "<div class=\"plotdiv\" id=\"68582311-abde-4789-c715-78a4d0c0d2cc\"></div>\n"
      ]
     },
     "metadata": {},
     "output_type": "display_data"
    }
   ],
   "source": [
    "ys4 = nn.ReLU():forward(xs)\n",
    "ys5 = nn.SoftPlus():forward(xs)\n",
    "p = Plot():line(xs,ys4,'red','ReLU'):line(xs,ys5,'blue','SoftPlus'):title('ReLU and SoftPlus transfer functions'):legend(true):draw()"
   ]
  },
  {
   "cell_type": "markdown",
   "metadata": {},
   "source": [
    "# Convolutional layers\n",
    "- general info on [convolutional layers](https://github.com/torch/nn/blob/master/doc/convolution.md)\n",
    "- [nn.TemporalConvolution](https://github.com/torch/nn/blob/master/doc/convolution.md#nn.TemporalConvolution) is a 1D convolutional operator suitable for e.g. time series\n",
    "- [nn.SpatialConvolution](https://github.com/torch/nn/blob/master/doc/convolution.md#spatialconvolution) layer is a 2D convolution (for use with images)\n",
    "- max pooling and subsampling layers"
   ]
  },
  {
   "cell_type": "code",
   "execution_count": 10,
   "metadata": {
    "collapsed": false
   },
   "outputs": [
    {
     "data": {
      "text/plain": [
       "nn.TemporalConvolution\n",
       "{\n",
       "  gradBias : DoubleTensor - size: 1\n",
       "  dW : 1\n",
       "  bias : DoubleTensor - size: 1\n",
       "  gradInput : DoubleTensor - empty\n",
       "  weight : DoubleTensor - size: 1x2\n",
       "  inputFrameSize : 1\n",
       "  gradWeight : DoubleTensor - size: 1x2\n",
       "  outputFrameSize : 1\n",
       "  kW : 2\n",
       "  output : DoubleTensor - empty\n",
       "}\n",
       "-1  1\n",
       "[torch.DoubleTensor of size 1x2]\n",
       "\n",
       " 0\n",
       "[torch.DoubleTensor of size 1]\n"
      ]
     },
     "execution_count": 10,
     "metadata": {},
     "output_type": "execute_result"
    }
   ],
   "source": [
    "conv = nn.TemporalConvolution(1, 1, 2)\n",
    "print(conv)\n",
    "conv.weight[1][1] = -1\n",
    "conv.weight[1][2] = 1\n",
    "conv.bias[1] = 0\n",
    "print(conv.weight)\n",
    "print(conv.bias)"
   ]
  },
  {
   "cell_type": "code",
   "execution_count": 27,
   "metadata": {
    "collapsed": false
   },
   "outputs": [
    {
     "data": {
      "text/plain": [
       " 0.0137\n",
       " 0.1248\n",
       " 0.1646\n",
       " 0.0881\n",
       " 0.1878\n",
       " 0.1499\n",
       " 0.0037\n",
       " 0.1936\n",
       " 0.0187\n",
       " 0.0453\n",
       " 0.0861\n",
       " 0.0622\n",
       " 0.1421\n",
       " 0.1135\n",
       " 1.1879\n",
       " 1.0177\n",
       " 1.0174\n",
       " 1.1475\n",
       " 1.1970\n",
       " 1.0873\n",
       " 1.0716\n",
       " 1.0219\n",
       " 1.1737\n",
       " 1.1657\n",
       " 1.1500\n",
       " 1.0835\n",
       " 1.1193\n",
       " 1.0423\n",
       " 1.0835\n",
       " 1.0765\n",
       " 0.1079\n",
       " 0.0149\n",
       " 0.1398\n",
       " 0.1825\n",
       " 0.1795\n",
       " 0.1741\n",
       " 0.1980\n",
       " 0.0182\n",
       " 0.0917\n",
       " 0.0061\n",
       " 0.0710\n",
       " 0.0083\n",
       " 0.1668\n",
       " 0.1583\n",
       " 0.1155\n",
       " 0.0971\n",
       " 0.1353\n",
       " 0.0967\n",
       " 0.1023\n",
       " 0.0788\n",
       "[torch.DoubleTensor of size 50x1]\n",
       "\n"
      ]
     },
     "execution_count": 27,
     "metadata": {},
     "output_type": "execute_result"
    },
    {
     "data": {
      "text/plain": [
       " 0.1110\n",
       " 0.0398\n",
       "-0.0764\n",
       " 0.0996\n",
       "-0.0378\n",
       "-0.1463\n",
       " 0.1899\n",
       "-0.1749\n",
       " 0.0266\n",
       " 0.0408\n",
       "-0.0239\n",
       " 0.0799\n",
       "-0.0287\n",
       " 1.0744\n",
       "-0.1702\n",
       "-0.0003\n",
       " 0.1301\n",
       " 0.0495\n",
       "-0.1098\n",
       "-0.0157\n",
       "-0.0497\n",
       " 0.1518\n",
       "-0.0079\n",
       "-0.0157\n",
       "-0.0666\n",
       " 0.0359\n",
       "-0.0770\n",
       " 0.0413\n",
       "-0.0070\n",
       "-0.9686\n",
       "-0.0930\n",
       " 0.1249\n",
       " 0.0427\n",
       "-0.0030\n",
       "-0.0054\n",
       " 0.0239\n",
       "-0.1798\n",
       " 0.0735\n",
       "-0.0856\n",
       " 0.0649\n",
       "-0.0627\n",
       " 0.1585\n",
       "-0.0085\n",
       "-0.0428\n",
       "-0.0184\n",
       " 0.0382\n",
       "-0.0386\n",
       " 0.0056\n",
       "-0.0234\n",
       "[torch.DoubleTensor of size 49x1]\n",
       "\n"
      ]
     },
     "execution_count": 27,
     "metadata": {},
     "output_type": "execute_result"
    }
   ],
   "source": [
    "xs = torch.rand(50,1) * 0.2\n",
    "xs[{{15,30},1}] = xs[{{15,30},1}] + 1\n",
    "ys = conv:forward(xs)\n",
    "noutput = (xs:size(1) - 2) / 1 + 1\n",
    "print(xs)\n",
    "print(ys)"
   ]
  },
  {
   "cell_type": "code",
   "execution_count": 12,
   "metadata": {
    "collapsed": false
   },
   "outputs": [],
   "source": [
    "-- reshape the vectors for plotting\n",
    "time = torch.range(1,noutput)\n",
    "xsp = xs[{{2,noutput+1},{}}]:reshape(noutput)\n",
    "ysp = ys:reshape(noutput)"
   ]
  },
  {
   "cell_type": "code",
   "execution_count": 13,
   "metadata": {
    "collapsed": false
   },
   "outputs": [
    {
     "data": {
      "text/html": [
       "<script type=\"text/javascript\">\n",
       "$(function() {\n",
       "    if (typeof (window._bokeh_onload_callbacks) === \"undefined\"){\n",
       "  window._bokeh_onload_callbacks = [];\n",
       "    }\n",
       "    function load_lib(url, callback){\n",
       "  window._bokeh_onload_callbacks.push(callback);\n",
       "  if (window._bokeh_is_loading){\n",
       "      console.log(\"Bokeh: BokehJS is being loaded, scheduling callback at\", new Date());\n",
       "      return null;\n",
       "  }\n",
       "  console.log(\"Bokeh: BokehJS not loaded, scheduling load and callback at\", new Date());\n",
       "  window._bokeh_is_loading = true;\n",
       "  var s = document.createElement('script');\n",
       "  s.src = url;\n",
       "  s.async = true;\n",
       "  s.onreadystatechange = s.onload = function(){\n",
       "      Bokeh.embed.inject_css(\"http://cdn.pydata.org/bokeh-0.7.0.min.css\");\n",
       "      window._bokeh_onload_callbacks.forEach(function(callback){callback()});\n",
       "  };\n",
       "  s.onerror = function(){\n",
       "      console.warn(\"failed to load library \" + url);\n",
       "  };\n",
       "  document.getElementsByTagName(\"head\")[0].appendChild(s);\n",
       "    }\n",
       "\n",
       "    bokehjs_url = \"http://cdn.pydata.org/bokeh-0.7.0.min.js\"\n",
       "\n",
       "    var elt = document.getElementById(\"5ca795bb-e696-4f46-cf25-a9f5564f16c4\");\n",
       "    if(elt==null) {\n",
       "  console.log(\"Bokeh: ERROR: autoload.js configured with elementid '5ca795bb-e696-4f46-cf25-a9f5564f16c4'\"\n",
       "        + \"but no matching script tag was found. \")\n",
       "  return false;\n",
       "    }\n",
       "\n",
       "    if(typeof(Bokeh) !== \"undefined\") {\n",
       "  console.log(\"Bokeh: BokehJS loaded, going straight to plotting\");\n",
       "  var modelid = \"f4cb1888-616c-45a0-c59e-109620a30fc8\";\n",
       "  var modeltype = \"Plot\";\n",
       "  var all_models = [{\"id\":\"3dd3c44c-19a3-495b-c93f-c480dbfd62f0\",\"type\":\"ColumnDataSource\",\"attributes\":{\"data\":{\"y\":[1.0295331722591,1.1808708569501,1.1644552750979,1.0231114119291,1.0723701316863,1.0079865718726,1.0568672123831,1.1054834940005,1.0529635827057,1.0793315365911,1.0055332523305,1.1382315984461,1.0274897081312,2.1687143123709,2.0496475352906,2.0014242263045,2.1235409561079,2.0177723486442,2.1910430818796,2.0284853012301,2.1589129372966,2.0978151509073,2.029600724997,2.0438124155626,2.1082746166736,2.1025423996616,2.1211216575466,2.1769416984171,2.1213346280158,1.0751318746246,1.0073262761813,1.1780417663977,1.1146242323332,1.1811984451488,1.0695246839896,1.1406601263676,1.1343670662493,1.1620438347105,1.0724769243505,1.0709048821125,1.0132916105445,1.1800197194796,1.1075783054344,1.1119578807615,1.092246805504,1.1476203983184,1.1346256153192,1.1888765733223,1.0915200410411],\"x\":[1,2,3,4,5,6,7,8,9,10,11,12,13,14,15,16,17,18,19,20,21,22,23,24,25,26,27,28,29,30,31,32,33,34,35,36,37,38,39,40,41,42,43,44,45,46,47,48,49]},\"column_names\":[\"y\",\"x\"],\"cont_ranges\":{},\"discrete_ranges\":{},\"selected\":[],\"id\":\"3dd3c44c-19a3-495b-c93f-c480dbfd62f0\",\"doc\":null,\"tags\":[]}},{\"id\":\"aa79834e-62fe-4931-c97a-215505fb245f\",\"type\":\"Line\",\"attributes\":{\"fill_alpha\":{\"units\":\"data\",\"value\":0.2},\"line_alpha\":{\"units\":\"data\",\"value\":1},\"doc\":null,\"size\":{\"units\":\"screen\",\"value\":10},\"fill_color\":{\"value\":\"blue\"},\"line_color\":{\"value\":\"blue\"},\"x\":{\"units\":\"data\",\"field\":\"x\"},\"id\":\"aa79834e-62fe-4931-c97a-215505fb245f\",\"y\":{\"units\":\"data\",\"field\":\"y\"},\"tags\":[]}},{\"id\":\"305b746c-3634-4deb-cd6a-06ee12c7e68c\",\"type\":\"Line\",\"attributes\":{\"fill_alpha\":{\"units\":\"data\",\"value\":0.2},\"line_alpha\":{\"units\":\"data\",\"value\":1},\"doc\":null,\"size\":{\"units\":\"screen\",\"value\":10},\"fill_color\":{\"value\":\"blue\"},\"line_color\":{\"value\":\"blue\"},\"x\":{\"units\":\"data\",\"field\":\"x\"},\"id\":\"305b746c-3634-4deb-cd6a-06ee12c7e68c\",\"y\":{\"units\":\"data\",\"field\":\"y\"},\"tags\":[]}},{\"id\":\"0e95a6a2-8d86-410c-c12b-7da8a7372f42\",\"type\":\"GlyphRenderer\",\"attributes\":{\"name\":null,\"nonselection_glyph\":{\"type\":\"Line\",\"id\":\"305b746c-3634-4deb-cd6a-06ee12c7e68c\"},\"doc\":null,\"server_data_source\":null,\"data_source\":{\"type\":\"ColumnDataSource\",\"id\":\"3dd3c44c-19a3-495b-c93f-c480dbfd62f0\"},\"glyph\":{\"type\":\"Line\",\"id\":\"aa79834e-62fe-4931-c97a-215505fb245f\"},\"selection_glyph\":null,\"id\":\"0e95a6a2-8d86-410c-c12b-7da8a7372f42\",\"tags\":[]}},{\"id\":\"646beeb2-f4a7-41fc-c111-cf6af0eff6d8\",\"type\":\"ColumnDataSource\",\"attributes\":{\"data\":{\"y\":[-0.9771743515972,-0.84866231530905,-1.0164155818522,-1.1413438631687,-0.9507412802428,-1.0643835598137,-0.95111935948953,-0.95138371838257,-1.0525199112948,-0.97363204611465,-1.0737982842606,-0.86730165388435,-1.110741890315,0.14122460423969,-1.1190667770803,-1.0482233089861,-0.87788327019662,-1.1057686074637,-0.8267292667646,-1.1625577806495,-0.86957236393355,-1.0610977863893,-1.0682144259103,-0.98578830943443,-0.93553779888898,-1.005732217012,-0.98142074211501,-0.94417995912954,-1.0556070704013,-2.0462027533911,-1.0678055984434,-0.82928450978361,-1.0634175340645,-0.93342578718439,-1.1116737611592,-0.928864557622,-1.0062930601183,-0.97232323153876,-1.08956691036,-1.001572042238,-1.057613271568,-0.83327189106494,-1.0724414140452,-0.99562042467296,-1.0197110752575,-0.94462640718557,-1.0129947829992,-0.9457490419969,-1.0973565322813],\"x\":[1,2,3,4,5,6,7,8,9,10,11,12,13,14,15,16,17,18,19,20,21,22,23,24,25,26,27,28,29,30,31,32,33,34,35,36,37,38,39,40,41,42,43,44,45,46,47,48,49]},\"column_names\":[\"y\",\"x\"],\"cont_ranges\":{},\"discrete_ranges\":{},\"selected\":[],\"id\":\"646beeb2-f4a7-41fc-c111-cf6af0eff6d8\",\"doc\":null,\"tags\":[]}},{\"id\":\"4f4d10f5-e388-4b9b-cbf9-c9449d93716f\",\"type\":\"Line\",\"attributes\":{\"fill_alpha\":{\"units\":\"data\",\"value\":0.2},\"line_alpha\":{\"units\":\"data\",\"value\":1},\"doc\":null,\"size\":{\"units\":\"screen\",\"value\":10},\"fill_color\":{\"value\":\"red\"},\"line_color\":{\"value\":\"red\"},\"x\":{\"units\":\"data\",\"field\":\"x\"},\"id\":\"4f4d10f5-e388-4b9b-cbf9-c9449d93716f\",\"y\":{\"units\":\"data\",\"field\":\"y\"},\"tags\":[]}},{\"id\":\"640a6289-e4fe-4237-c22a-04d575afa26a\",\"type\":\"Line\",\"attributes\":{\"fill_alpha\":{\"units\":\"data\",\"value\":0.2},\"line_alpha\":{\"units\":\"data\",\"value\":1},\"doc\":null,\"size\":{\"units\":\"screen\",\"value\":10},\"fill_color\":{\"value\":\"red\"},\"line_color\":{\"value\":\"red\"},\"x\":{\"units\":\"data\",\"field\":\"x\"},\"id\":\"640a6289-e4fe-4237-c22a-04d575afa26a\",\"y\":{\"units\":\"data\",\"field\":\"y\"},\"tags\":[]}},{\"id\":\"23a6007e-c94b-4abe-ca14-4511e4e7105c\",\"type\":\"GlyphRenderer\",\"attributes\":{\"name\":null,\"nonselection_glyph\":{\"type\":\"Line\",\"id\":\"640a6289-e4fe-4237-c22a-04d575afa26a\"},\"doc\":null,\"server_data_source\":null,\"data_source\":{\"type\":\"ColumnDataSource\",\"id\":\"646beeb2-f4a7-41fc-c111-cf6af0eff6d8\"},\"glyph\":{\"type\":\"Line\",\"id\":\"4f4d10f5-e388-4b9b-cbf9-c9449d93716f\"},\"selection_glyph\":null,\"id\":\"23a6007e-c94b-4abe-ca14-4511e4e7105c\",\"tags\":[]}},{\"id\":\"6df259df-00d6-4c1d-cc95-9a45b54cc3c1\",\"type\":\"DataRange1d\",\"attributes\":{\"sources\":[{\"columns\":[\"x\"],\"source\":{\"type\":\"ColumnDataSource\",\"id\":\"3dd3c44c-19a3-495b-c93f-c480dbfd62f0\"}},{\"columns\":[\"x\"],\"source\":{\"type\":\"ColumnDataSource\",\"id\":\"646beeb2-f4a7-41fc-c111-cf6af0eff6d8\"}}],\"id\":\"6df259df-00d6-4c1d-cc95-9a45b54cc3c1\",\"tags\":[],\"doc\":null}},{\"id\":\"859ec279-368f-4bd5-cbfe-edc6559df4c5\",\"type\":\"DataRange1d\",\"attributes\":{\"sources\":[{\"columns\":[\"y\"],\"source\":{\"type\":\"ColumnDataSource\",\"id\":\"3dd3c44c-19a3-495b-c93f-c480dbfd62f0\"}},{\"columns\":[\"y\"],\"source\":{\"type\":\"ColumnDataSource\",\"id\":\"646beeb2-f4a7-41fc-c111-cf6af0eff6d8\"}}],\"id\":\"859ec279-368f-4bd5-cbfe-edc6559df4c5\",\"tags\":[],\"doc\":null}},{\"id\":\"3efc495f-e3c2-448d-c46e-43fafc3c538e\",\"type\":\"ToolEvents\",\"attributes\":{\"tags\":[],\"id\":\"3efc495f-e3c2-448d-c46e-43fafc3c538e\",\"geometries\":[],\"doc\":null}},{\"id\":\"a2845367-8bc9-4a0d-cab4-c2a59b2b0972\",\"type\":\"BasicTickFormatter\",\"attributes\":{\"id\":\"a2845367-8bc9-4a0d-cab4-c2a59b2b0972\",\"tags\":[],\"doc\":null}},{\"id\":\"a04ed1b4-3c62-4b65-cbb4-c3d180329b66\",\"type\":\"BasicTicker\",\"attributes\":{\"num_minor_ticks\":5,\"id\":\"a04ed1b4-3c62-4b65-cbb4-c3d180329b66\",\"tags\":[],\"doc\":null}},{\"id\":\"77eec186-0054-431c-c372-a14b085461d5\",\"type\":\"LinearAxis\",\"attributes\":{\"formatter\":{\"type\":\"BasicTickFormatter\",\"id\":\"a2845367-8bc9-4a0d-cab4-c2a59b2b0972\"},\"ticker\":{\"type\":\"BasicTicker\",\"id\":\"a04ed1b4-3c62-4b65-cbb4-c3d180329b66\"},\"plot\":{\"id\":\"f4cb1888-616c-45a0-c59e-109620a30fc8\",\"type\":\"Plot\",\"subtype\":\"Figure\"},\"axis_label\":\"samples\",\"id\":\"77eec186-0054-431c-c372-a14b085461d5\",\"doc\":null,\"tags\":[]}},{\"id\":\"5a5b9abf-c699-4165-c113-4182642f97d5\",\"type\":\"Grid\",\"attributes\":{\"dimension\":0,\"plot\":{\"id\":\"f4cb1888-616c-45a0-c59e-109620a30fc8\",\"type\":\"Plot\",\"subtype\":\"Figure\"},\"ticker\":{\"type\":\"BasicTicker\",\"id\":\"a04ed1b4-3c62-4b65-cbb4-c3d180329b66\"},\"id\":\"5a5b9abf-c699-4165-c113-4182642f97d5\",\"doc\":null,\"tags\":[]}},{\"id\":\"595acf0b-a9ae-4013-c05d-28642b4958df\",\"type\":\"BasicTickFormatter\",\"attributes\":{\"id\":\"595acf0b-a9ae-4013-c05d-28642b4958df\",\"tags\":[],\"doc\":null}},{\"id\":\"e9c556fc-44be-4b94-cb22-6242330a5b29\",\"type\":\"BasicTicker\",\"attributes\":{\"num_minor_ticks\":5,\"id\":\"e9c556fc-44be-4b94-cb22-6242330a5b29\",\"tags\":[],\"doc\":null}},{\"id\":\"63cdae29-d8e5-4d25-cd6f-c002c1bdd632\",\"type\":\"LinearAxis\",\"attributes\":{\"formatter\":{\"type\":\"BasicTickFormatter\",\"id\":\"595acf0b-a9ae-4013-c05d-28642b4958df\"},\"ticker\":{\"type\":\"BasicTicker\",\"id\":\"e9c556fc-44be-4b94-cb22-6242330a5b29\"},\"plot\":{\"id\":\"f4cb1888-616c-45a0-c59e-109620a30fc8\",\"type\":\"Plot\",\"subtype\":\"Figure\"},\"axis_label\":\"signal\",\"id\":\"63cdae29-d8e5-4d25-cd6f-c002c1bdd632\",\"doc\":null,\"tags\":[]}},{\"id\":\"879eedd4-3204-4e47-ce4f-e4eee7874098\",\"type\":\"Grid\",\"attributes\":{\"dimension\":1,\"plot\":{\"id\":\"f4cb1888-616c-45a0-c59e-109620a30fc8\",\"type\":\"Plot\",\"subtype\":\"Figure\"},\"ticker\":{\"type\":\"BasicTicker\",\"id\":\"e9c556fc-44be-4b94-cb22-6242330a5b29\"},\"id\":\"879eedd4-3204-4e47-ce4f-e4eee7874098\",\"doc\":null,\"tags\":[]}},{\"id\":\"d912b050-9b49-47dd-c708-a95a55d6bb2b\",\"type\":\"PanTool\",\"attributes\":{\"plot\":{\"id\":\"f4cb1888-616c-45a0-c59e-109620a30fc8\",\"type\":\"Plot\",\"subtype\":\"Figure\"},\"dimensions\":[\"width\",\"height\"],\"id\":\"d912b050-9b49-47dd-c708-a95a55d6bb2b\",\"doc\":null,\"tags\":[]}},{\"id\":\"83cf6174-83d8-4560-c54d-eeb4c0590d89\",\"type\":\"WheelZoomTool\",\"attributes\":{\"plot\":{\"id\":\"f4cb1888-616c-45a0-c59e-109620a30fc8\",\"type\":\"Plot\",\"subtype\":\"Figure\"},\"dimensions\":[\"width\",\"height\"],\"id\":\"83cf6174-83d8-4560-c54d-eeb4c0590d89\",\"doc\":null,\"tags\":[]}},{\"id\":\"c3e338b3-6705-46a9-c67d-b37158e63e27\",\"type\":\"BoxZoomTool\",\"attributes\":{\"plot\":{\"id\":\"f4cb1888-616c-45a0-c59e-109620a30fc8\",\"type\":\"Plot\",\"subtype\":\"Figure\"},\"id\":\"c3e338b3-6705-46a9-c67d-b37158e63e27\",\"tags\":[],\"doc\":null}},{\"id\":\"84082131-4e92-4dae-cd99-46d07a0861bd\",\"type\":\"PreviewSaveTool\",\"attributes\":{\"plot\":{\"id\":\"f4cb1888-616c-45a0-c59e-109620a30fc8\",\"type\":\"Plot\",\"subtype\":\"Figure\"},\"id\":\"84082131-4e92-4dae-cd99-46d07a0861bd\",\"tags\":[],\"doc\":null}},{\"id\":\"3b2ab9be-6086-4d96-cd0b-29e168a85086\",\"type\":\"ResizeTool\",\"attributes\":{\"plot\":{\"id\":\"f4cb1888-616c-45a0-c59e-109620a30fc8\",\"type\":\"Plot\",\"subtype\":\"Figure\"},\"id\":\"3b2ab9be-6086-4d96-cd0b-29e168a85086\",\"tags\":[],\"doc\":null}},{\"id\":\"d5b747fd-daeb-4556-c591-a030e515e25b\",\"type\":\"ResetTool\",\"attributes\":{\"plot\":{\"id\":\"f4cb1888-616c-45a0-c59e-109620a30fc8\",\"type\":\"Plot\",\"subtype\":\"Figure\"},\"id\":\"d5b747fd-daeb-4556-c591-a030e515e25b\",\"tags\":[],\"doc\":null}},{\"id\":\"69164ef6-6c17-4715-c721-37c02b62bef0\",\"type\":\"Legend\",\"attributes\":{\"plot\":{\"id\":\"f4cb1888-616c-45a0-c59e-109620a30fc8\",\"type\":\"Plot\",\"subtype\":\"Figure\"},\"legends\":[[\"input\",[{\"type\":\"GlyphRenderer\",\"id\":\"0e95a6a2-8d86-410c-c12b-7da8a7372f42\"}]],[\"output\",[{\"type\":\"GlyphRenderer\",\"id\":\"23a6007e-c94b-4abe-ca14-4511e4e7105c\"}]]],\"id\":\"69164ef6-6c17-4715-c721-37c02b62bef0\",\"doc\":null,\"tags\":[]}},{\"id\":\"f4cb1888-616c-45a0-c59e-109620a30fc8\",\"type\":\"Plot\",\"attributes\":{\"x_range\":{\"type\":\"DataRange1d\",\"id\":\"6df259df-00d6-4c1d-cc95-9a45b54cc3c1\"},\"tool_events\":{\"type\":\"ToolEvents\",\"id\":\"3efc495f-e3c2-448d-c46e-43fafc3c538e\"},\"below\":[{\"type\":\"LinearAxis\",\"id\":\"77eec186-0054-431c-c372-a14b085461d5\"}],\"renderers\":[{\"type\":\"GlyphRenderer\",\"id\":\"0e95a6a2-8d86-410c-c12b-7da8a7372f42\"},{\"type\":\"GlyphRenderer\",\"id\":\"23a6007e-c94b-4abe-ca14-4511e4e7105c\"},{\"type\":\"LinearAxis\",\"id\":\"77eec186-0054-431c-c372-a14b085461d5\"},{\"type\":\"Grid\",\"id\":\"5a5b9abf-c699-4165-c113-4182642f97d5\"},{\"type\":\"LinearAxis\",\"id\":\"63cdae29-d8e5-4d25-cd6f-c002c1bdd632\"},{\"type\":\"Grid\",\"id\":\"879eedd4-3204-4e47-ce4f-e4eee7874098\"},{\"type\":\"Legend\",\"id\":\"69164ef6-6c17-4715-c721-37c02b62bef0\"}],\"above\":[],\"tools\":[{\"type\":\"PanTool\",\"id\":\"d912b050-9b49-47dd-c708-a95a55d6bb2b\"},{\"type\":\"WheelZoomTool\",\"id\":\"83cf6174-83d8-4560-c54d-eeb4c0590d89\"},{\"type\":\"BoxZoomTool\",\"id\":\"c3e338b3-6705-46a9-c67d-b37158e63e27\"},{\"type\":\"PreviewSaveTool\",\"id\":\"84082131-4e92-4dae-cd99-46d07a0861bd\"},{\"type\":\"ResizeTool\",\"id\":\"3b2ab9be-6086-4d96-cd0b-29e168a85086\"},{\"type\":\"ResetTool\",\"id\":\"d5b747fd-daeb-4556-c591-a030e515e25b\"}],\"doc\":null,\"right\":[],\"title\":\"Effect of 1D conv [shifted]\",\"extra_x_ranges\":{},\"left\":[{\"type\":\"LinearAxis\",\"id\":\"63cdae29-d8e5-4d25-cd6f-c002c1bdd632\"}],\"y_range\":{\"type\":\"DataRange1d\",\"id\":\"859ec279-368f-4bd5-cbfe-edc6559df4c5\"},\"id\":\"f4cb1888-616c-45a0-c59e-109620a30fc8\",\"extra_y_ranges\":{},\"tags\":[]}}];\n",
       "  Bokeh.load_models(all_models);\n",
       "  var model = Bokeh.Collections(modeltype).get(modelid);\n",
       "  $(\"#5ca795bb-e696-4f46-cf25-a9f5564f16c4\").html(''); // clear any previous plot in window_id\n",
       "  var view = new model.default_view({model: model, el: \"#5ca795bb-e696-4f46-cf25-a9f5564f16c4\"});\n",
       "    } else {\n",
       "  load_lib(bokehjs_url, function() {\n",
       "      console.log(\"Bokeh: BokehJS plotting callback run at\", new Date())\n",
       "      var modelid = \"f4cb1888-616c-45a0-c59e-109620a30fc8\";\n",
       "      var modeltype = \"Plot\";\n",
       "      var all_models = [{\"id\":\"3dd3c44c-19a3-495b-c93f-c480dbfd62f0\",\"type\":\"ColumnDataSource\",\"attributes\":{\"data\":{\"y\":[1.0295331722591,1.1808708569501,1.1644552750979,1.0231114119291,1.0723701316863,1.0079865718726,1.0568672123831,1.1054834940005,1.0529635827057,1.0793315365911,1.0055332523305,1.1382315984461,1.0274897081312,2.1687143123709,2.0496475352906,2.0014242263045,2.1235409561079,2.0177723486442,2.1910430818796,2.0284853012301,2.1589129372966,2.0978151509073,2.029600724997,2.0438124155626,2.1082746166736,2.1025423996616,2.1211216575466,2.1769416984171,2.1213346280158,1.0751318746246,1.0073262761813,1.1780417663977,1.1146242323332,1.1811984451488,1.0695246839896,1.1406601263676,1.1343670662493,1.1620438347105,1.0724769243505,1.0709048821125,1.0132916105445,1.1800197194796,1.1075783054344,1.1119578807615,1.092246805504,1.1476203983184,1.1346256153192,1.1888765733223,1.0915200410411],\"x\":[1,2,3,4,5,6,7,8,9,10,11,12,13,14,15,16,17,18,19,20,21,22,23,24,25,26,27,28,29,30,31,32,33,34,35,36,37,38,39,40,41,42,43,44,45,46,47,48,49]},\"column_names\":[\"y\",\"x\"],\"cont_ranges\":{},\"discrete_ranges\":{},\"selected\":[],\"id\":\"3dd3c44c-19a3-495b-c93f-c480dbfd62f0\",\"doc\":null,\"tags\":[]}},{\"id\":\"aa79834e-62fe-4931-c97a-215505fb245f\",\"type\":\"Line\",\"attributes\":{\"fill_alpha\":{\"units\":\"data\",\"value\":0.2},\"line_alpha\":{\"units\":\"data\",\"value\":1},\"doc\":null,\"size\":{\"units\":\"screen\",\"value\":10},\"fill_color\":{\"value\":\"blue\"},\"line_color\":{\"value\":\"blue\"},\"x\":{\"units\":\"data\",\"field\":\"x\"},\"id\":\"aa79834e-62fe-4931-c97a-215505fb245f\",\"y\":{\"units\":\"data\",\"field\":\"y\"},\"tags\":[]}},{\"id\":\"305b746c-3634-4deb-cd6a-06ee12c7e68c\",\"type\":\"Line\",\"attributes\":{\"fill_alpha\":{\"units\":\"data\",\"value\":0.2},\"line_alpha\":{\"units\":\"data\",\"value\":1},\"doc\":null,\"size\":{\"units\":\"screen\",\"value\":10},\"fill_color\":{\"value\":\"blue\"},\"line_color\":{\"value\":\"blue\"},\"x\":{\"units\":\"data\",\"field\":\"x\"},\"id\":\"305b746c-3634-4deb-cd6a-06ee12c7e68c\",\"y\":{\"units\":\"data\",\"field\":\"y\"},\"tags\":[]}},{\"id\":\"0e95a6a2-8d86-410c-c12b-7da8a7372f42\",\"type\":\"GlyphRenderer\",\"attributes\":{\"name\":null,\"nonselection_glyph\":{\"type\":\"Line\",\"id\":\"305b746c-3634-4deb-cd6a-06ee12c7e68c\"},\"doc\":null,\"server_data_source\":null,\"data_source\":{\"type\":\"ColumnDataSource\",\"id\":\"3dd3c44c-19a3-495b-c93f-c480dbfd62f0\"},\"glyph\":{\"type\":\"Line\",\"id\":\"aa79834e-62fe-4931-c97a-215505fb245f\"},\"selection_glyph\":null,\"id\":\"0e95a6a2-8d86-410c-c12b-7da8a7372f42\",\"tags\":[]}},{\"id\":\"646beeb2-f4a7-41fc-c111-cf6af0eff6d8\",\"type\":\"ColumnDataSource\",\"attributes\":{\"data\":{\"y\":[-0.9771743515972,-0.84866231530905,-1.0164155818522,-1.1413438631687,-0.9507412802428,-1.0643835598137,-0.95111935948953,-0.95138371838257,-1.0525199112948,-0.97363204611465,-1.0737982842606,-0.86730165388435,-1.110741890315,0.14122460423969,-1.1190667770803,-1.0482233089861,-0.87788327019662,-1.1057686074637,-0.8267292667646,-1.1625577806495,-0.86957236393355,-1.0610977863893,-1.0682144259103,-0.98578830943443,-0.93553779888898,-1.005732217012,-0.98142074211501,-0.94417995912954,-1.0556070704013,-2.0462027533911,-1.0678055984434,-0.82928450978361,-1.0634175340645,-0.93342578718439,-1.1116737611592,-0.928864557622,-1.0062930601183,-0.97232323153876,-1.08956691036,-1.001572042238,-1.057613271568,-0.83327189106494,-1.0724414140452,-0.99562042467296,-1.0197110752575,-0.94462640718557,-1.0129947829992,-0.9457490419969,-1.0973565322813],\"x\":[1,2,3,4,5,6,7,8,9,10,11,12,13,14,15,16,17,18,19,20,21,22,23,24,25,26,27,28,29,30,31,32,33,34,35,36,37,38,39,40,41,42,43,44,45,46,47,48,49]},\"column_names\":[\"y\",\"x\"],\"cont_ranges\":{},\"discrete_ranges\":{},\"selected\":[],\"id\":\"646beeb2-f4a7-41fc-c111-cf6af0eff6d8\",\"doc\":null,\"tags\":[]}},{\"id\":\"4f4d10f5-e388-4b9b-cbf9-c9449d93716f\",\"type\":\"Line\",\"attributes\":{\"fill_alpha\":{\"units\":\"data\",\"value\":0.2},\"line_alpha\":{\"units\":\"data\",\"value\":1},\"doc\":null,\"size\":{\"units\":\"screen\",\"value\":10},\"fill_color\":{\"value\":\"red\"},\"line_color\":{\"value\":\"red\"},\"x\":{\"units\":\"data\",\"field\":\"x\"},\"id\":\"4f4d10f5-e388-4b9b-cbf9-c9449d93716f\",\"y\":{\"units\":\"data\",\"field\":\"y\"},\"tags\":[]}},{\"id\":\"640a6289-e4fe-4237-c22a-04d575afa26a\",\"type\":\"Line\",\"attributes\":{\"fill_alpha\":{\"units\":\"data\",\"value\":0.2},\"line_alpha\":{\"units\":\"data\",\"value\":1},\"doc\":null,\"size\":{\"units\":\"screen\",\"value\":10},\"fill_color\":{\"value\":\"red\"},\"line_color\":{\"value\":\"red\"},\"x\":{\"units\":\"data\",\"field\":\"x\"},\"id\":\"640a6289-e4fe-4237-c22a-04d575afa26a\",\"y\":{\"units\":\"data\",\"field\":\"y\"},\"tags\":[]}},{\"id\":\"23a6007e-c94b-4abe-ca14-4511e4e7105c\",\"type\":\"GlyphRenderer\",\"attributes\":{\"name\":null,\"nonselection_glyph\":{\"type\":\"Line\",\"id\":\"640a6289-e4fe-4237-c22a-04d575afa26a\"},\"doc\":null,\"server_data_source\":null,\"data_source\":{\"type\":\"ColumnDataSource\",\"id\":\"646beeb2-f4a7-41fc-c111-cf6af0eff6d8\"},\"glyph\":{\"type\":\"Line\",\"id\":\"4f4d10f5-e388-4b9b-cbf9-c9449d93716f\"},\"selection_glyph\":null,\"id\":\"23a6007e-c94b-4abe-ca14-4511e4e7105c\",\"tags\":[]}},{\"id\":\"6df259df-00d6-4c1d-cc95-9a45b54cc3c1\",\"type\":\"DataRange1d\",\"attributes\":{\"sources\":[{\"columns\":[\"x\"],\"source\":{\"type\":\"ColumnDataSource\",\"id\":\"3dd3c44c-19a3-495b-c93f-c480dbfd62f0\"}},{\"columns\":[\"x\"],\"source\":{\"type\":\"ColumnDataSource\",\"id\":\"646beeb2-f4a7-41fc-c111-cf6af0eff6d8\"}}],\"id\":\"6df259df-00d6-4c1d-cc95-9a45b54cc3c1\",\"tags\":[],\"doc\":null}},{\"id\":\"859ec279-368f-4bd5-cbfe-edc6559df4c5\",\"type\":\"DataRange1d\",\"attributes\":{\"sources\":[{\"columns\":[\"y\"],\"source\":{\"type\":\"ColumnDataSource\",\"id\":\"3dd3c44c-19a3-495b-c93f-c480dbfd62f0\"}},{\"columns\":[\"y\"],\"source\":{\"type\":\"ColumnDataSource\",\"id\":\"646beeb2-f4a7-41fc-c111-cf6af0eff6d8\"}}],\"id\":\"859ec279-368f-4bd5-cbfe-edc6559df4c5\",\"tags\":[],\"doc\":null}},{\"id\":\"3efc495f-e3c2-448d-c46e-43fafc3c538e\",\"type\":\"ToolEvents\",\"attributes\":{\"tags\":[],\"id\":\"3efc495f-e3c2-448d-c46e-43fafc3c538e\",\"geometries\":[],\"doc\":null}},{\"id\":\"a2845367-8bc9-4a0d-cab4-c2a59b2b0972\",\"type\":\"BasicTickFormatter\",\"attributes\":{\"id\":\"a2845367-8bc9-4a0d-cab4-c2a59b2b0972\",\"tags\":[],\"doc\":null}},{\"id\":\"a04ed1b4-3c62-4b65-cbb4-c3d180329b66\",\"type\":\"BasicTicker\",\"attributes\":{\"num_minor_ticks\":5,\"id\":\"a04ed1b4-3c62-4b65-cbb4-c3d180329b66\",\"tags\":[],\"doc\":null}},{\"id\":\"77eec186-0054-431c-c372-a14b085461d5\",\"type\":\"LinearAxis\",\"attributes\":{\"formatter\":{\"type\":\"BasicTickFormatter\",\"id\":\"a2845367-8bc9-4a0d-cab4-c2a59b2b0972\"},\"ticker\":{\"type\":\"BasicTicker\",\"id\":\"a04ed1b4-3c62-4b65-cbb4-c3d180329b66\"},\"plot\":{\"id\":\"f4cb1888-616c-45a0-c59e-109620a30fc8\",\"type\":\"Plot\",\"subtype\":\"Figure\"},\"axis_label\":\"samples\",\"id\":\"77eec186-0054-431c-c372-a14b085461d5\",\"doc\":null,\"tags\":[]}},{\"id\":\"5a5b9abf-c699-4165-c113-4182642f97d5\",\"type\":\"Grid\",\"attributes\":{\"dimension\":0,\"plot\":{\"id\":\"f4cb1888-616c-45a0-c59e-109620a30fc8\",\"type\":\"Plot\",\"subtype\":\"Figure\"},\"ticker\":{\"type\":\"BasicTicker\",\"id\":\"a04ed1b4-3c62-4b65-cbb4-c3d180329b66\"},\"id\":\"5a5b9abf-c699-4165-c113-4182642f97d5\",\"doc\":null,\"tags\":[]}},{\"id\":\"595acf0b-a9ae-4013-c05d-28642b4958df\",\"type\":\"BasicTickFormatter\",\"attributes\":{\"id\":\"595acf0b-a9ae-4013-c05d-28642b4958df\",\"tags\":[],\"doc\":null}},{\"id\":\"e9c556fc-44be-4b94-cb22-6242330a5b29\",\"type\":\"BasicTicker\",\"attributes\":{\"num_minor_ticks\":5,\"id\":\"e9c556fc-44be-4b94-cb22-6242330a5b29\",\"tags\":[],\"doc\":null}},{\"id\":\"63cdae29-d8e5-4d25-cd6f-c002c1bdd632\",\"type\":\"LinearAxis\",\"attributes\":{\"formatter\":{\"type\":\"BasicTickFormatter\",\"id\":\"595acf0b-a9ae-4013-c05d-28642b4958df\"},\"ticker\":{\"type\":\"BasicTicker\",\"id\":\"e9c556fc-44be-4b94-cb22-6242330a5b29\"},\"plot\":{\"id\":\"f4cb1888-616c-45a0-c59e-109620a30fc8\",\"type\":\"Plot\",\"subtype\":\"Figure\"},\"axis_label\":\"signal\",\"id\":\"63cdae29-d8e5-4d25-cd6f-c002c1bdd632\",\"doc\":null,\"tags\":[]}},{\"id\":\"879eedd4-3204-4e47-ce4f-e4eee7874098\",\"type\":\"Grid\",\"attributes\":{\"dimension\":1,\"plot\":{\"id\":\"f4cb1888-616c-45a0-c59e-109620a30fc8\",\"type\":\"Plot\",\"subtype\":\"Figure\"},\"ticker\":{\"type\":\"BasicTicker\",\"id\":\"e9c556fc-44be-4b94-cb22-6242330a5b29\"},\"id\":\"879eedd4-3204-4e47-ce4f-e4eee7874098\",\"doc\":null,\"tags\":[]}},{\"id\":\"d912b050-9b49-47dd-c708-a95a55d6bb2b\",\"type\":\"PanTool\",\"attributes\":{\"plot\":{\"id\":\"f4cb1888-616c-45a0-c59e-109620a30fc8\",\"type\":\"Plot\",\"subtype\":\"Figure\"},\"dimensions\":[\"width\",\"height\"],\"id\":\"d912b050-9b49-47dd-c708-a95a55d6bb2b\",\"doc\":null,\"tags\":[]}},{\"id\":\"83cf6174-83d8-4560-c54d-eeb4c0590d89\",\"type\":\"WheelZoomTool\",\"attributes\":{\"plot\":{\"id\":\"f4cb1888-616c-45a0-c59e-109620a30fc8\",\"type\":\"Plot\",\"subtype\":\"Figure\"},\"dimensions\":[\"width\",\"height\"],\"id\":\"83cf6174-83d8-4560-c54d-eeb4c0590d89\",\"doc\":null,\"tags\":[]}},{\"id\":\"c3e338b3-6705-46a9-c67d-b37158e63e27\",\"type\":\"BoxZoomTool\",\"attributes\":{\"plot\":{\"id\":\"f4cb1888-616c-45a0-c59e-109620a30fc8\",\"type\":\"Plot\",\"subtype\":\"Figure\"},\"id\":\"c3e338b3-6705-46a9-c67d-b37158e63e27\",\"tags\":[],\"doc\":null}},{\"id\":\"84082131-4e92-4dae-cd99-46d07a0861bd\",\"type\":\"PreviewSaveTool\",\"attributes\":{\"plot\":{\"id\":\"f4cb1888-616c-45a0-c59e-109620a30fc8\",\"type\":\"Plot\",\"subtype\":\"Figure\"},\"id\":\"84082131-4e92-4dae-cd99-46d07a0861bd\",\"tags\":[],\"doc\":null}},{\"id\":\"3b2ab9be-6086-4d96-cd0b-29e168a85086\",\"type\":\"ResizeTool\",\"attributes\":{\"plot\":{\"id\":\"f4cb1888-616c-45a0-c59e-109620a30fc8\",\"type\":\"Plot\",\"subtype\":\"Figure\"},\"id\":\"3b2ab9be-6086-4d96-cd0b-29e168a85086\",\"tags\":[],\"doc\":null}},{\"id\":\"d5b747fd-daeb-4556-c591-a030e515e25b\",\"type\":\"ResetTool\",\"attributes\":{\"plot\":{\"id\":\"f4cb1888-616c-45a0-c59e-109620a30fc8\",\"type\":\"Plot\",\"subtype\":\"Figure\"},\"id\":\"d5b747fd-daeb-4556-c591-a030e515e25b\",\"tags\":[],\"doc\":null}},{\"id\":\"69164ef6-6c17-4715-c721-37c02b62bef0\",\"type\":\"Legend\",\"attributes\":{\"plot\":{\"id\":\"f4cb1888-616c-45a0-c59e-109620a30fc8\",\"type\":\"Plot\",\"subtype\":\"Figure\"},\"legends\":[[\"input\",[{\"type\":\"GlyphRenderer\",\"id\":\"0e95a6a2-8d86-410c-c12b-7da8a7372f42\"}]],[\"output\",[{\"type\":\"GlyphRenderer\",\"id\":\"23a6007e-c94b-4abe-ca14-4511e4e7105c\"}]]],\"id\":\"69164ef6-6c17-4715-c721-37c02b62bef0\",\"doc\":null,\"tags\":[]}},{\"id\":\"f4cb1888-616c-45a0-c59e-109620a30fc8\",\"type\":\"Plot\",\"attributes\":{\"x_range\":{\"type\":\"DataRange1d\",\"id\":\"6df259df-00d6-4c1d-cc95-9a45b54cc3c1\"},\"tool_events\":{\"type\":\"ToolEvents\",\"id\":\"3efc495f-e3c2-448d-c46e-43fafc3c538e\"},\"below\":[{\"type\":\"LinearAxis\",\"id\":\"77eec186-0054-431c-c372-a14b085461d5\"}],\"renderers\":[{\"type\":\"GlyphRenderer\",\"id\":\"0e95a6a2-8d86-410c-c12b-7da8a7372f42\"},{\"type\":\"GlyphRenderer\",\"id\":\"23a6007e-c94b-4abe-ca14-4511e4e7105c\"},{\"type\":\"LinearAxis\",\"id\":\"77eec186-0054-431c-c372-a14b085461d5\"},{\"type\":\"Grid\",\"id\":\"5a5b9abf-c699-4165-c113-4182642f97d5\"},{\"type\":\"LinearAxis\",\"id\":\"63cdae29-d8e5-4d25-cd6f-c002c1bdd632\"},{\"type\":\"Grid\",\"id\":\"879eedd4-3204-4e47-ce4f-e4eee7874098\"},{\"type\":\"Legend\",\"id\":\"69164ef6-6c17-4715-c721-37c02b62bef0\"}],\"above\":[],\"tools\":[{\"type\":\"PanTool\",\"id\":\"d912b050-9b49-47dd-c708-a95a55d6bb2b\"},{\"type\":\"WheelZoomTool\",\"id\":\"83cf6174-83d8-4560-c54d-eeb4c0590d89\"},{\"type\":\"BoxZoomTool\",\"id\":\"c3e338b3-6705-46a9-c67d-b37158e63e27\"},{\"type\":\"PreviewSaveTool\",\"id\":\"84082131-4e92-4dae-cd99-46d07a0861bd\"},{\"type\":\"ResizeTool\",\"id\":\"3b2ab9be-6086-4d96-cd0b-29e168a85086\"},{\"type\":\"ResetTool\",\"id\":\"d5b747fd-daeb-4556-c591-a030e515e25b\"}],\"doc\":null,\"right\":[],\"title\":\"Effect of 1D conv [shifted]\",\"extra_x_ranges\":{},\"left\":[{\"type\":\"LinearAxis\",\"id\":\"63cdae29-d8e5-4d25-cd6f-c002c1bdd632\"}],\"y_range\":{\"type\":\"DataRange1d\",\"id\":\"859ec279-368f-4bd5-cbfe-edc6559df4c5\"},\"id\":\"f4cb1888-616c-45a0-c59e-109620a30fc8\",\"extra_y_ranges\":{},\"tags\":[]}}];\n",
       "      Bokeh.load_models(all_models);\n",
       "      var model = Bokeh.Collections(modeltype).get(modelid);\n",
       "      $(\"#5ca795bb-e696-4f46-cf25-a9f5564f16c4\").html(''); // clear any previous plot in window_id\n",
       "      var view = new model.default_view({model: model, el: \"#5ca795bb-e696-4f46-cf25-a9f5564f16c4\"});\n",
       "  });\n",
       "    }\n",
       "});\n",
       "</script>\n",
       "<div class=\"plotdiv\" id=\"5ca795bb-e696-4f46-cf25-a9f5564f16c4\"></div>\n"
      ]
     },
     "metadata": {},
     "output_type": "display_data"
    }
   ],
   "source": [
    "p = Plot():title('Effect of 1D conv [shifted]'):line(time,xsp+1,'blue','input'):line(time, ysp-1,'red','output')\n",
    "p:xaxis('samples'):yaxis('signal'):legend(true):draw()"
   ]
  },
  {
   "cell_type": "code",
   "execution_count": 14,
   "metadata": {
    "collapsed": false
   },
   "outputs": [
    {
     "data": {
      "text/plain": [
       "==> loading dataset\t\n"
      ]
     },
     "execution_count": 14,
     "metadata": {},
     "output_type": "execute_result"
    }
   ],
   "source": [
    "-- snippet shamelessly ripped from https://github.com/torch/tutorials/blob/master/A_datasets/mnist.lua \n",
    "-- load the training data (downloads when first used)\n",
    "tar = 'http://torch7.s3-website-us-east-1.amazonaws.com/data/mnist.t7.tgz'\n",
    "\n",
    "if not paths.dirp('mnist.t7') then\n",
    "   print('==> downloading dataset')\n",
    "   os.execute('wget ' .. tar)\n",
    "   os.execute('tar xvf ' .. paths.basename(tar))\n",
    "end\n",
    "test_file = 'mnist.t7/test_32x32.t7'\n",
    "\n",
    "----------------------------------------------------------------------\n",
    "print('==> loading dataset')\n",
    "\n",
    "-- We load the dataset from disk, it's straightforward\n",
    "test_data = torch.load(test_file,'ascii')"
   ]
  },
  {
   "cell_type": "code",
   "execution_count": 15,
   "metadata": {
    "collapsed": false
   },
   "outputs": [
    {
     "data": {
      "text/plain": [
       "Size of the input is 1 x 32 x 32\t\n"
      ]
     },
     "execution_count": 15,
     "metadata": {},
     "output_type": "execute_result"
    },
    {
     "data": {
      "image/png": "[encoded data removed]",
      "text/plain": [
       "Console does not support images"
      ]
     },
     "metadata": {
      "image/png": {
       "height": 32,
       "width": 32
      }
     },
     "output_type": "display_data"
    }
   ],
   "source": [
    "-- Let's plot one of the examples\n",
    "inp2d = test_data.data[{244}]:type('torch.DoubleTensor')\n",
    "print('Size of the input is ' .. inp2d:size(1) .. ' x ' .. inp2d:size(2) .. ' x ' .. inp2d:size(3))\n",
    "itorch.image(inp2d)"
   ]
  },
  {
   "cell_type": "code",
   "execution_count": 16,
   "metadata": {
    "collapsed": false
   },
   "outputs": [],
   "source": [
    "?nn.SpatialConvolution"
   ]
  },
  {
   "cell_type": "code",
   "execution_count": 17,
   "metadata": {
    "collapsed": false
   },
   "outputs": [
    {
     "data": {
      "text/plain": [
       "+++++++++++++++++++++++++++++++++++++++++++++++++++++++++++++++++++++\t\n",
       "\u001b[1;35mSpatialConvolution\u001b[0m\n",
       "\n",
       "\u001b[0;36m\u001b[0;36m module = nn.SpatialConvolution(nInputPlane, nOutputPlane, kW, kH, [dW], \n",
       "[dH], [padW], [padH]) \u001b[0m\u001b[0m\n",
       "\n",
       "Applies a 2D convolution over an input image composed of several input \n",
       "planes. The\u001b[0;32m input \u001b[0mtensor in\u001b[0;32m forward(input) \u001b[0mis expected to be a 3D \n",
       "tensor (\u001b[0;32m nInputPlane x height x width \u001b[0m).\n",
       "\n",
       "The parameters are the following:\n",
       "\n",
       "\u001b[0;34m> \u001b[0m\u001b[0;32m nInputPlane \u001b[0m: The number of expected input planes in the image \n",
       "given into\u001b[0;32m forward() \u001b[0m.\n",
       "\u001b[0;34m> \u001b[0m\u001b[0;32m nOutputPlane \u001b[0m: The number of output planes the convolution layer \n",
       "will produce.\n",
       "\u001b[0;34m> \u001b[0m\u001b[0;32m kW \u001b[0m: The kernel width of the convolution\n",
       "\u001b[0;34m> \u001b[0m\u001b[0;32m kH \u001b[0m: The kernel height of the convolution\n",
       "\u001b[0;34m> \u001b[0m\u001b[0;32m dW \u001b[0m: The step of the convolution in the width dimension. Default \n",
       "is\u001b[0;32m 1 \u001b[0m.\n",
       "\u001b[0;34m> \u001b[0m\u001b[0;32m dH \u001b[0m: The step of the convolution in the height dimension. Default \n",
       "is\u001b[0;32m 1 \u001b[0m.\n",
       "\u001b[0;34m> \u001b[0m\u001b[0;32m padW \u001b[0m: The additional zeros added per width to the input planes. \n",
       "Default is\u001b[0;32m 0 \u001b[0m, a good number is\u001b[0;32m (kW-1)/2 \u001b[0m.\n",
       "\u001b[0;34m> \u001b[0m\u001b[0;32m padH \u001b[0m: The additional zeros added per height to the input planes. \n",
       "Default is\u001b[0;32m padW \u001b[0m, a good number is\u001b[0;32m (kH-1)/2 \u001b[0m.\n",
       "\n",
       "\n",
       "Note that depending of the size of your kernel, several (of the last)\n",
       "columns or rows of the input image might be lost. It is up to the user \n",
       "to\n",
       "add proper padding in images.\n",
       "\n",
       "If the input image is a 3D tensor\u001b[0;32m nInputPlane x height x width \u001b[0m, the \n",
       "output image size\n",
       "will be\u001b[0;32m nOutputPlane x oheight x owidth \u001b[0mwhere\n",
       "\u001b[0;36m\u001b[0;36m owidth  = floor((width  + 2*padW - kW) / dW + 1)\n",
       "oheight = floor((height + 2*padH - kH) / dH + 1) \u001b[0m\u001b[0m\n",
       "\n",
       "The parameters of the convolution can be found in\u001b[0;32m self.weight \u001b[0m(Tensor \n",
       "of\n",
       "size\u001b[0;32m nOutputPlane x nInputPlane x kH x kW \u001b[0m) and\u001b[0;32m self.bias \u001b[0m(Tensor \n",
       "of\n",
       "size\u001b[0;32m nOutputPlane \u001b[0m). The corresponding gradients can be found in\u001b[0;32m self.gradWeight \n",
       "\u001b[0mand\u001b[0;32m self.gradBias \u001b[0m.\n",
       "\n",
       "The output value of the layer can be precisely described as:\n",
       "\u001b[0;36m\u001b[0;36m output[i][j][k] = bias[k]\n",
       "  + sum_l sum_{s=1}^kW sum_{t=1}^kH weight[s][t][l][k]\n",
       "                                    * input[dW*(i-1)+s)][dH*(j-1)+t][l] \n",
       "\u001b[0m\u001b[0m\t\n",
       "+++++++++++++++++++++++++++++++++++++++++++++++++++++++++++++++++++++\t\n",
       "\n"
      ]
     },
     "execution_count": 17,
     "metadata": {},
     "output_type": "execute_result"
    },
    {
     "data": {
      "text/plain": [
       "nn.SpatialConvolution(1 -> 1, 3x3)\n",
       "{\n",
       "  dH : 1\n",
       "  dW : 1\n",
       "  nOutputPlane : 1\n",
       "  output : DoubleTensor - empty\n",
       "  gradInput : DoubleTensor - empty\n",
       "  gradBias : DoubleTensor - size: 1\n",
       "  padH : 0\n",
       "  weight : DoubleTensor - size: 1x1x3x3\n",
       "  bias : DoubleTensor - size: 1\n",
       "  gradWeight : DoubleTensor - size: 1x1x3x3\n",
       "  padW : 0\n",
       "  nInputPlane : 1\n",
       "  kW : 3\n",
       "  kH : 3\n",
       "}\n",
       "(1,1,.,.) = \n",
       " -1 -1 -1\n",
       " -1  8 -1\n",
       " -1 -1 -1\n",
       "[torch.DoubleTensor of size 1x1x3x3]\n",
       "\n"
      ]
     },
     "execution_count": 17,
     "metadata": {},
     "output_type": "execute_result"
    }
   ],
   "source": [
    "-- now we build a simple spatial convolution layer.\n",
    "-- Question: what does it do?\n",
    "conv2 = nn.SpatialConvolution(1, 1, 3, 3)\n",
    "print(conv2)\n",
    "conv2.weight[{1,1,{1,3},{1,3}}] = -1\n",
    "conv2.weight[{1,1,2,2}] = 8\n",
    "conv2.bias[1] = 0\n",
    "print(conv2.weight)"
   ]
  },
  {
   "cell_type": "code",
   "execution_count": 18,
   "metadata": {
    "collapsed": false
   },
   "outputs": [
    {
     "data": {
      "image/png": "[encoded data removed]",
      "text/plain": [
       "Console does not support images"
      ]
     },
     "metadata": {
      "image/png": {
       "height": 30,
       "width": 30
      }
     },
     "output_type": "display_data"
    },
    {
     "data": {
      "text/plain": [
       "\n",
       "  1\n",
       " 30\n",
       " 30\n",
       "[torch.LongStorage of size 3]\n",
       "\n"
      ]
     },
     "execution_count": 18,
     "metadata": {},
     "output_type": "execute_result"
    }
   ],
   "source": [
    "out2d = conv2:forward(inp2d)\n",
    "itorch.image(out2d)\n",
    "print(out2d:size())"
   ]
  },
  {
   "cell_type": "code",
   "execution_count": 19,
   "metadata": {
    "collapsed": false
   },
   "outputs": [
    {
     "data": {
      "image/png": "[encoded data removed]",
      "text/plain": [
       "Console does not support images"
      ]
     },
     "metadata": {
      "image/png": {
       "height": 30,
       "width": 30
      }
     },
     "output_type": "display_data"
    }
   ],
   "source": [
    "-- what about this filter?\n",
    "conv2.weight[{1,1,{1,3},{1,3}}] = 1./8\n",
    "itorch.image(conv2:forward(inp2d))"
   ]
  },
  {
   "cell_type": "markdown",
   "metadata": {},
   "source": [
    "## Intrinsically vector transfer functions\n",
    "- these layers are typically used in the last (output layer) of the network\n",
    "- for multiclass classification problems - [SoftMax](https://github.com/torch/nn/blob/master/doc/transfer.md#softmax) layer\n",
    "- logarithmic verions of above: LogSoftMax are useful in conjunction with the Negative Log Likelihood loss function"
   ]
  },
  {
   "cell_type": "code",
   "execution_count": 20,
   "metadata": {
    "collapsed": false
   },
   "outputs": [
    {
     "data": {
      "text/plain": [
       " 0.0012\n",
       " 0.7302\n",
       " 0.2686\n",
       "[torch.DoubleTensor of size 3]\n",
       "\n",
       "1\t\n"
      ]
     },
     "execution_count": 20,
     "metadata": {},
     "output_type": "execute_result"
    }
   ],
   "source": [
    "-- softmax converts an output vector into a probability distribution:\n",
    "smax = nn.SoftMax()\n",
    "\n",
    "-- try different inputs here, observe that (1) sum is always 1 and (2) entries are always non-negative\n",
    "x = torch.Tensor{-4.4, 2, 1}\n",
    "y = smax:forward(x)\n",
    "\n",
    "-- all elements \n",
    "print(y)\n",
    "print(torch.sum(y))"
   ]
  },
  {
   "cell_type": "markdown",
   "metadata": {},
   "source": [
    "# Important loss functions [a.k.a. criteria]\n",
    "- [Mean Square Error](https://github.com/torch/nn/blob/master/doc/criterion.md#nn.MSECriterion)\n",
    "- [Negative Log Likelihood](https://github.com/torch/nn/blob/master/doc/criterion.md#nn.ClassNLLCriterion) (for use with LogSoftMax layer as it expects logarithms on input)\n",
    "- [Cross Entropy](https://github.com/torch/nn/blob/master/doc/criterion.md#crossentropycriterion) combines LogSoftMax with NLL"
   ]
  },
  {
   "cell_type": "code",
   "execution_count": 21,
   "metadata": {
    "collapsed": false
   },
   "outputs": [
    {
     "data": {
      "text/plain": [
       "MSE loss when output = -1 and target = 3 is 16\t\n"
      ]
     },
     "execution_count": 21,
     "metadata": {},
     "output_type": "execute_result"
    }
   ],
   "source": [
    "loss = nn.MSECriterion()\n",
    "y = torch.Tensor{-1}\n",
    "t = torch.Tensor{3}\n",
    "print('MSE loss when output = ' .. y[1] .. ' and target = ' .. t[1] .. ' is ' .. loss:forward(y, t))"
   ]
  },
  {
   "cell_type": "code",
   "execution_count": 22,
   "metadata": {
    "collapsed": false
   },
   "outputs": [
    {
     "data": {
      "text/plain": [
       "Linear layer output is [1, 2, 4, 0.1]\t\n"
      ]
     },
     "execution_count": 22,
     "metadata": {},
     "output_type": "execute_result"
    }
   ],
   "source": [
    "-- Negative log likelihood penalizes wrong predictions \n",
    "loss = nn.ClassNLLCriterion()\n",
    "x = torch.Tensor{1,2,4,0.1}\n",
    "print('Linear layer output is ' .. utils.vec2str(x))\n",
    "lsm = nn.LogSoftMax()\n",
    "y = lsm:forward(x) -- logarithms of the predictions\n",
    "print('LogSoftMax layer output is ' .. utils.vec2str(y))\n",
    "t = 3 -- correct class is 3\n",
    "print('NLL loss assuming target = ' .. t .. ' is ' .. loss:forward(y, t))"
   ]
  },
  {
   "cell_type": "code",
   "execution_count": 23,
   "metadata": {
    "collapsed": false
   },
   "outputs": [
    {
     "data": {
      "text/plain": [
       "LogSoftMax layer output is [-3.18682, -2.18682, -0.186823, -4.08682]\t\n",
       "NLL loss assuming target = 3 is 0.18682331504156\t\n",
       " 0\n",
       " 0\n",
       "-1\n",
       " 0\n",
       "[torch.DoubleTensor of size 4]\n",
       "\n"
      ]
     },
     "execution_count": 23,
     "metadata": {},
     "output_type": "execute_result"
    },
    {
     "data": {
      "text/plain": [
       " 0.0413\n",
       " 0.1123\n",
       "-0.1704\n",
       " 0.0168\n",
       "[torch.DoubleTensor of size 4]\n",
       "\n"
      ]
     },
     "execution_count": 23,
     "metadata": {},
     "output_type": "execute_result"
    }
   ],
   "source": [
    "-- how does the loss backpropagate?\n",
    "-- to increase the loss the output from logsoftmax would have to be decreased in the 3rd element\n",
    "-- (as a result, this would make the correct class less probable)\n",
    "dloss_dy = loss:backward(y, t)\n",
    "print(dloss_dy)\n",
    "\n",
    "-- we backpropagate through the logsoftmax nonlinearity, observe how the signal propagates into all\n",
    "-- fields\n",
    "dloss_dx = lsm:backward(x, dloss_dy)\n",
    "print(dloss_dx)"
   ]
  },
  {
   "cell_type": "code",
   "execution_count": 24,
   "metadata": {
    "collapsed": false
   },
   "outputs": [
    {
     "data": {
      "text/plain": [
       "0.18682331504156\t\n"
      ]
     },
     "execution_count": 24,
     "metadata": {},
     "output_type": "execute_result"
    }
   ],
   "source": [
    "-- cross entropy combines logsoftmax + class negative log likelihood\n",
    "loss = nn.CrossEntropyCriterion()\n",
    "-- let's verify that the loss is the same\n",
    "print(loss:forward(x, t))"
   ]
  },
  {
   "cell_type": "code",
   "execution_count": 25,
   "metadata": {
    "collapsed": false
   },
   "outputs": [
    {
     "data": {
      "text/plain": [
       " 0.0413\n",
       " 0.1123\n",
       "-0.1704\n",
       " 0.0168\n",
       "[torch.DoubleTensor of size 4]\n",
       "\n"
      ]
     },
     "execution_count": 25,
     "metadata": {},
     "output_type": "execute_result"
    }
   ],
   "source": [
    "-- and that the gradient is the same\n",
    "dloss_dx = loss:backward(x, t)\n",
    "print(dloss_dx)"
   ]
  },
  {
   "cell_type": "code",
   "execution_count": null,
   "metadata": {
    "collapsed": true
   },
   "outputs": [],
   "source": []
  }
 ],
 "metadata": {
  "kernelspec": {
   "display_name": "iTorch",
   "language": "lua",
   "name": "itorch"
  },
  "language_info": {
   "name": "lua",
   "version": "20100"
  }
 },
 "nbformat": 4,
 "nbformat_minor": 0
}
