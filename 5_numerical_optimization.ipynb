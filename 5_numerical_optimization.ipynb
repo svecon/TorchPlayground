{
 "cells": [
  {
   "cell_type": "markdown",
   "metadata": {},
   "source": [
    "# Numerical optimization\n",
    "- a quick primer on numerical optimization (NO) for neural networks\n",
    "- key to understanding NO for networks: networks are just functions, general NO methods apply\n",
    "- let's review some that have been applied in NNs on 3d functions\n",
    "- we look at the following methods: stochastic gradient descent, momentum method, rmsprop, adagrad, adadelta, nesterov accelerated gradient\n",
    "- also some specialized strategies are applied: learning rate decay schedule\n",
    "- a nice [review](http://www.matthewzeiler.com/pubs/googleTR2012/googleTR2012.pdf) of some functions (but biased of course)\n",
    "- some nice test functions are taken from [here](https://en.wikipedia.org/wiki/Test_functions_for_optimization)\n",
    "- we are using methods from the package [optim](https://github.com/torch/optim)"
   ]
  },
  {
   "cell_type": "code",
   "execution_count": 15,
   "metadata": {
    "collapsed": false
   },
   "outputs": [],
   "source": [
    "Plot = require 'itorch.Plot'\n",
    "require 'optim'\n",
    "require 'utils'\n",
    "require 'gnuplotx'"
   ]
  },
  {
   "cell_type": "code",
   "execution_count": 2,
   "metadata": {
    "collapsed": false
   },
   "outputs": [],
   "source": [
    "-- this is a 'training' function that starts at a given point and then runs\n",
    "-- the optimizer 'optim_func' for a 'nsteps' steps\n",
    "function compute_track(x_init, f, df, optim_func, opt_config, nsteps)\n",
    "    \n",
    "    -- number of parameters\n",
    "    local n = x_init:nElement()\n",
    "    \n",
    "    -- start at given initial point\n",
    "    local x = x_init:clone()\n",
    "    \n",
    "    -- allocate nsteps+1 spaces for optimizer path (+1 is for initial state)\n",
    "    local track = torch.zeros(nsteps+1,n+1)\n",
    "    track[{1,{1,n}}] = x\n",
    "    track[{1,n+1}] = f(x)\n",
    "    \n",
    "    -- opt_state carries information optimizer wants to remember between optimization steps\n",
    "    local opt_state = {}\n",
    "\n",
    "    for i=2,nsteps+1 do\n",
    "        -- compute the next x values according to the optimizer\n",
    "        x = optim_func(function (x) return f(x), df(x) end, x, opt_config, opt_state)\n",
    "        track[{i,{1,n}}] = x\n",
    "\n",
    "        -- store the new point in the track array\n",
    "        local fx = f(x)\n",
    "        -- we need the path to be visible, so we lift it 10% above the error surface\n",
    "        track[{i,n+1}] = fx + 0.05 * math.abs(fx)\n",
    "    end\n",
    "    \n",
    "    return track\n",
    "end"
   ]
  },
  {
   "cell_type": "markdown",
   "metadata": {},
   "source": [
    "# 1D function optimization"
   ]
  },
  {
   "cell_type": "code",
   "execution_count": 3,
   "metadata": {
    "collapsed": false
   },
   "outputs": [
    {
     "data": {
      "text/plain": [
       "+++++++++++++++++++++++++++++++++++++++++++++++++++++++++++++++++++++\t\n",
       "\u001b[1;35m[res] torch.pow([res,] x, n)\u001b[0m\n",
       "\n",
       "\n",
       "Let\u001b[0;32m x \u001b[0mbe a tensor and\u001b[0;32m n \u001b[0ma number.\n",
       "\n",
       "\u001b[0;32m y=torch.pow(x,n) \u001b[0mreturns a new tensor with the elements of\u001b[0;32m x \u001b[0mto the \n",
       "power of\u001b[0;32m n \u001b[0m.\n",
       "\n",
       "\u001b[0;32m y=torch.pow(n,x) \u001b[0mreturns, a new tensor with\u001b[0;32m n \u001b[0mto the power of the \n",
       "elements of\u001b[0;32m x \u001b[0m.\n",
       "\n",
       "\u001b[0;32m x:pow(n) \u001b[0mreplaces all elements in-place with the elements of\u001b[0;32m x \u001b[0mto \n",
       "the power of\u001b[0;32m n \u001b[0m.\t\n",
       "+++++++++++++++++++++++++++++++++++++++++++++++++++++++++++++++++++++\t\n",
       "\n"
      ]
     },
     "execution_count": 3,
     "metadata": {},
     "output_type": "execute_result"
    }
   ],
   "source": [
    "?torch.pow"
   ]
  },
  {
   "cell_type": "code",
   "execution_count": 4,
   "metadata": {
    "collapsed": true
   },
   "outputs": [],
   "source": [
    "-- work with 1D functions first\n",
    "\n",
    "pb_f = function (x) return x*x end\n",
    "pb_df = function (x) return x*2 end\n",
    "pb_range = {-5, 5, 0, 25}"
   ]
  },
  {
   "cell_type": "code",
   "execution_count": 5,
   "metadata": {
    "collapsed": false
   },
   "outputs": [],
   "source": [
    "xs = torch.linspace(-5,5,40)\n",
    "ys = utils.map(pb_f, xs)"
   ]
  },
  {
   "cell_type": "code",
   "execution_count": 6,
   "metadata": {
    "collapsed": false
   },
   "outputs": [],
   "source": [
    "x_init = torch.Tensor{4}\n",
    "nsteps = 10\n",
    "sgd_cfg = { learningRate = 0.01 }\n",
    "sgd_track = compute_track(x_init, pb_f, pb_df, optim.sgd, sgd_cfg, nsteps)"
   ]
  },
  {
   "cell_type": "code",
   "execution_count": 7,
   "metadata": {
    "collapsed": false
   },
   "outputs": [
    {
     "data": {
      "text/html": [
       "<script type=\"text/javascript\">\n",
       "$(function() {\n",
       "    if (typeof (window._bokeh_onload_callbacks) === \"undefined\"){\n",
       "  window._bokeh_onload_callbacks = [];\n",
       "    }\n",
       "    function load_lib(url, callback){\n",
       "  window._bokeh_onload_callbacks.push(callback);\n",
       "  if (window._bokeh_is_loading){\n",
       "      console.log(\"Bokeh: BokehJS is being loaded, scheduling callback at\", new Date());\n",
       "      return null;\n",
       "  }\n",
       "  console.log(\"Bokeh: BokehJS not loaded, scheduling load and callback at\", new Date());\n",
       "  window._bokeh_is_loading = true;\n",
       "  var s = document.createElement('script');\n",
       "  s.src = url;\n",
       "  s.async = true;\n",
       "  s.onreadystatechange = s.onload = function(){\n",
       "      Bokeh.embed.inject_css(\"http://cdn.pydata.org/bokeh-0.7.0.min.css\");\n",
       "      window._bokeh_onload_callbacks.forEach(function(callback){callback()});\n",
       "  };\n",
       "  s.onerror = function(){\n",
       "      console.warn(\"failed to load library \" + url);\n",
       "  };\n",
       "  document.getElementsByTagName(\"head\")[0].appendChild(s);\n",
       "    }\n",
       "\n",
       "    bokehjs_url = \"http://cdn.pydata.org/bokeh-0.7.0.min.js\"\n",
       "\n",
       "    var elt = document.getElementById(\"c1b533d8-3c18-4cdd-cc47-403647fe1018\");\n",
       "    if(elt==null) {\n",
       "  console.log(\"Bokeh: ERROR: autoload.js configured with elementid 'c1b533d8-3c18-4cdd-cc47-403647fe1018'\"\n",
       "        + \"but no matching script tag was found. \")\n",
       "  return false;\n",
       "    }\n",
       "\n",
       "    if(typeof(Bokeh) !== \"undefined\") {\n",
       "  console.log(\"Bokeh: BokehJS loaded, going straight to plotting\");\n",
       "  var modelid = \"8065d0d8-e099-4afe-ca1c-cd2fa32b7fc2\";\n",
       "  var modeltype = \"Plot\";\n",
       "  var all_models = [{\"id\":\"b8bff12f-b404-43d6-c3ca-4404aedee39e\",\"type\":\"ColumnDataSource\",\"attributes\":{\"data\":{\"y\":[25,22.50164365549,20.134779750164,17.899408284024,15.795529257068,13.823142669297,11.98224852071,10.272846811308,8.6949375410914,7.2485207100592,5.9335963182117,4.750164365549,3.698224852071,2.7777777777778,1.9888231426693,1.3313609467456,0.80539119000658,0.41091387245233,0.14792899408284,0.016436554898093,0.016436554898093,0.14792899408284,0.41091387245233,0.80539119000658,1.3313609467456,1.9888231426693,2.7777777777778,3.698224852071,4.750164365549,5.9335963182117,7.2485207100592,8.6949375410914,10.272846811308,11.98224852071,13.823142669297,15.795529257068,17.899408284024,20.134779750164,22.50164365549,25],\"x\":[-5,-4.7435897435897,-4.4871794871795,-4.2307692307692,-3.974358974359,-3.7179487179487,-3.4615384615385,-3.2051282051282,-2.9487179487179,-2.6923076923077,-2.4358974358974,-2.1794871794872,-1.9230769230769,-1.6666666666667,-1.4102564102564,-1.1538461538462,-0.8974358974359,-0.64102564102564,-0.38461538461539,-0.12820512820513,0.12820512820513,0.38461538461539,0.64102564102564,0.8974358974359,1.1538461538462,1.4102564102564,1.6666666666667,1.9230769230769,2.1794871794872,2.4358974358974,2.6923076923077,2.9487179487179,3.2051282051282,3.4615384615385,3.7179487179487,3.974358974359,4.2307692307692,4.4871794871795,4.7435897435897,5]},\"column_names\":[\"y\",\"x\"],\"cont_ranges\":{},\"discrete_ranges\":{},\"selected\":[],\"id\":\"b8bff12f-b404-43d6-c3ca-4404aedee39e\",\"doc\":null,\"tags\":[]}},{\"id\":\"90ac4a97-417d-4903-c98b-ed9a675d4918\",\"type\":\"Line\",\"attributes\":{\"fill_alpha\":{\"units\":\"data\",\"value\":0.2},\"line_alpha\":{\"units\":\"data\",\"value\":1},\"doc\":null,\"size\":{\"units\":\"screen\",\"value\":10},\"fill_color\":{\"value\":\"red\"},\"line_color\":{\"value\":\"red\"},\"x\":{\"units\":\"data\",\"field\":\"x\"},\"id\":\"90ac4a97-417d-4903-c98b-ed9a675d4918\",\"y\":{\"units\":\"data\",\"field\":\"y\"},\"tags\":[]}},{\"id\":\"50ab886e-2ffc-4562-c531-022fe52b2fa8\",\"type\":\"Line\",\"attributes\":{\"fill_alpha\":{\"units\":\"data\",\"value\":0.2},\"line_alpha\":{\"units\":\"data\",\"value\":1},\"doc\":null,\"size\":{\"units\":\"screen\",\"value\":10},\"fill_color\":{\"value\":\"red\"},\"line_color\":{\"value\":\"red\"},\"x\":{\"units\":\"data\",\"field\":\"x\"},\"id\":\"50ab886e-2ffc-4562-c531-022fe52b2fa8\",\"y\":{\"units\":\"data\",\"field\":\"y\"},\"tags\":[]}},{\"id\":\"22748664-18c5-491a-c983-aa6519a2cf3d\",\"type\":\"GlyphRenderer\",\"attributes\":{\"name\":null,\"nonselection_glyph\":{\"type\":\"Line\",\"id\":\"50ab886e-2ffc-4562-c531-022fe52b2fa8\"},\"doc\":null,\"server_data_source\":null,\"data_source\":{\"type\":\"ColumnDataSource\",\"id\":\"b8bff12f-b404-43d6-c3ca-4404aedee39e\"},\"glyph\":{\"type\":\"Line\",\"id\":\"90ac4a97-417d-4903-c98b-ed9a675d4918\"},\"selection_glyph\":null,\"id\":\"22748664-18c5-491a-c983-aa6519a2cf3d\",\"tags\":[]}},{\"id\":\"dfc5d210-21c2-4941-c9e8-e315d3e43f11\",\"type\":\"DataRange1d\",\"attributes\":{\"sources\":[{\"columns\":[\"x\"],\"source\":{\"type\":\"ColumnDataSource\",\"id\":\"b8bff12f-b404-43d6-c3ca-4404aedee39e\"}}],\"id\":\"dfc5d210-21c2-4941-c9e8-e315d3e43f11\",\"tags\":[],\"doc\":null}},{\"id\":\"dbcc3eaa-b727-47b6-c720-42663355dce0\",\"type\":\"DataRange1d\",\"attributes\":{\"sources\":[{\"columns\":[\"y\"],\"source\":{\"type\":\"ColumnDataSource\",\"id\":\"b8bff12f-b404-43d6-c3ca-4404aedee39e\"}}],\"id\":\"dbcc3eaa-b727-47b6-c720-42663355dce0\",\"tags\":[],\"doc\":null}},{\"id\":\"5009ef23-82c9-4a61-ca83-74682f17fda2\",\"type\":\"ToolEvents\",\"attributes\":{\"tags\":[],\"id\":\"5009ef23-82c9-4a61-ca83-74682f17fda2\",\"geometries\":[],\"doc\":null}},{\"id\":\"cb31dc76-94d6-465b-c6f7-be2f9280a00e\",\"type\":\"BasicTickFormatter\",\"attributes\":{\"id\":\"cb31dc76-94d6-465b-c6f7-be2f9280a00e\",\"tags\":[],\"doc\":null}},{\"id\":\"2ce6d563-645b-437e-c3e5-955c0880629e\",\"type\":\"BasicTicker\",\"attributes\":{\"num_minor_ticks\":5,\"id\":\"2ce6d563-645b-437e-c3e5-955c0880629e\",\"tags\":[],\"doc\":null}},{\"id\":\"ae9bdc2a-8636-481f-c89f-c93e65dd2be2\",\"type\":\"LinearAxis\",\"attributes\":{\"formatter\":{\"type\":\"BasicTickFormatter\",\"id\":\"cb31dc76-94d6-465b-c6f7-be2f9280a00e\"},\"ticker\":{\"type\":\"BasicTicker\",\"id\":\"2ce6d563-645b-437e-c3e5-955c0880629e\"},\"plot\":{\"id\":\"8065d0d8-e099-4afe-ca1c-cd2fa32b7fc2\",\"type\":\"Plot\",\"subtype\":\"Figure\"},\"axis_label\":null,\"id\":\"ae9bdc2a-8636-481f-c89f-c93e65dd2be2\",\"doc\":null,\"tags\":[]}},{\"id\":\"6ea307e2-93aa-4cdd-cc53-0fe234bdd645\",\"type\":\"Grid\",\"attributes\":{\"dimension\":0,\"plot\":{\"id\":\"8065d0d8-e099-4afe-ca1c-cd2fa32b7fc2\",\"type\":\"Plot\",\"subtype\":\"Figure\"},\"ticker\":{\"type\":\"BasicTicker\",\"id\":\"2ce6d563-645b-437e-c3e5-955c0880629e\"},\"id\":\"6ea307e2-93aa-4cdd-cc53-0fe234bdd645\",\"doc\":null,\"tags\":[]}},{\"id\":\"16ca4d4e-69df-4fa1-cf2a-9b4b1287e209\",\"type\":\"BasicTickFormatter\",\"attributes\":{\"id\":\"16ca4d4e-69df-4fa1-cf2a-9b4b1287e209\",\"tags\":[],\"doc\":null}},{\"id\":\"bc15cc70-ce9e-41f7-c15e-cf43818825f6\",\"type\":\"BasicTicker\",\"attributes\":{\"num_minor_ticks\":5,\"id\":\"bc15cc70-ce9e-41f7-c15e-cf43818825f6\",\"tags\":[],\"doc\":null}},{\"id\":\"f58a716c-0919-4ed1-ce81-4532f5591c71\",\"type\":\"LinearAxis\",\"attributes\":{\"formatter\":{\"type\":\"BasicTickFormatter\",\"id\":\"16ca4d4e-69df-4fa1-cf2a-9b4b1287e209\"},\"ticker\":{\"type\":\"BasicTicker\",\"id\":\"bc15cc70-ce9e-41f7-c15e-cf43818825f6\"},\"plot\":{\"id\":\"8065d0d8-e099-4afe-ca1c-cd2fa32b7fc2\",\"type\":\"Plot\",\"subtype\":\"Figure\"},\"axis_label\":null,\"id\":\"f58a716c-0919-4ed1-ce81-4532f5591c71\",\"doc\":null,\"tags\":[]}},{\"id\":\"7d0e3034-00f9-433f-c303-8ee9f15f43eb\",\"type\":\"Grid\",\"attributes\":{\"dimension\":1,\"plot\":{\"id\":\"8065d0d8-e099-4afe-ca1c-cd2fa32b7fc2\",\"type\":\"Plot\",\"subtype\":\"Figure\"},\"ticker\":{\"type\":\"BasicTicker\",\"id\":\"bc15cc70-ce9e-41f7-c15e-cf43818825f6\"},\"id\":\"7d0e3034-00f9-433f-c303-8ee9f15f43eb\",\"doc\":null,\"tags\":[]}},{\"id\":\"3f6751a2-733b-4934-c931-1d1d86374e94\",\"type\":\"PanTool\",\"attributes\":{\"plot\":{\"id\":\"8065d0d8-e099-4afe-ca1c-cd2fa32b7fc2\",\"type\":\"Plot\",\"subtype\":\"Figure\"},\"dimensions\":[\"width\",\"height\"],\"id\":\"3f6751a2-733b-4934-c931-1d1d86374e94\",\"doc\":null,\"tags\":[]}},{\"id\":\"916b9db1-7745-489e-c89f-1f690cc20823\",\"type\":\"WheelZoomTool\",\"attributes\":{\"plot\":{\"id\":\"8065d0d8-e099-4afe-ca1c-cd2fa32b7fc2\",\"type\":\"Plot\",\"subtype\":\"Figure\"},\"dimensions\":[\"width\",\"height\"],\"id\":\"916b9db1-7745-489e-c89f-1f690cc20823\",\"doc\":null,\"tags\":[]}},{\"id\":\"1abaa17f-bd72-4876-c83c-1f031df8990d\",\"type\":\"BoxZoomTool\",\"attributes\":{\"plot\":{\"id\":\"8065d0d8-e099-4afe-ca1c-cd2fa32b7fc2\",\"type\":\"Plot\",\"subtype\":\"Figure\"},\"id\":\"1abaa17f-bd72-4876-c83c-1f031df8990d\",\"tags\":[],\"doc\":null}},{\"id\":\"6b9474d1-8d60-4850-c806-e7a23f5fff7f\",\"type\":\"PreviewSaveTool\",\"attributes\":{\"plot\":{\"id\":\"8065d0d8-e099-4afe-ca1c-cd2fa32b7fc2\",\"type\":\"Plot\",\"subtype\":\"Figure\"},\"id\":\"6b9474d1-8d60-4850-c806-e7a23f5fff7f\",\"tags\":[],\"doc\":null}},{\"id\":\"a49f8f88-172c-43fc-c36e-1e4be944b303\",\"type\":\"ResizeTool\",\"attributes\":{\"plot\":{\"id\":\"8065d0d8-e099-4afe-ca1c-cd2fa32b7fc2\",\"type\":\"Plot\",\"subtype\":\"Figure\"},\"id\":\"a49f8f88-172c-43fc-c36e-1e4be944b303\",\"tags\":[],\"doc\":null}},{\"id\":\"4c92973d-d7fe-41e5-c1dd-b80d028b6905\",\"type\":\"ResetTool\",\"attributes\":{\"plot\":{\"id\":\"8065d0d8-e099-4afe-ca1c-cd2fa32b7fc2\",\"type\":\"Plot\",\"subtype\":\"Figure\"},\"id\":\"4c92973d-d7fe-41e5-c1dd-b80d028b6905\",\"tags\":[],\"doc\":null}},{\"id\":\"8065d0d8-e099-4afe-ca1c-cd2fa32b7fc2\",\"type\":\"Plot\",\"attributes\":{\"x_range\":{\"type\":\"DataRange1d\",\"id\":\"dfc5d210-21c2-4941-c9e8-e315d3e43f11\"},\"tool_events\":{\"type\":\"ToolEvents\",\"id\":\"5009ef23-82c9-4a61-ca83-74682f17fda2\"},\"below\":[{\"type\":\"LinearAxis\",\"id\":\"ae9bdc2a-8636-481f-c89f-c93e65dd2be2\"}],\"renderers\":[{\"type\":\"GlyphRenderer\",\"id\":\"22748664-18c5-491a-c983-aa6519a2cf3d\"},{\"type\":\"LinearAxis\",\"id\":\"ae9bdc2a-8636-481f-c89f-c93e65dd2be2\"},{\"type\":\"Grid\",\"id\":\"6ea307e2-93aa-4cdd-cc53-0fe234bdd645\"},{\"type\":\"LinearAxis\",\"id\":\"f58a716c-0919-4ed1-ce81-4532f5591c71\"},{\"type\":\"Grid\",\"id\":\"7d0e3034-00f9-433f-c303-8ee9f15f43eb\"}],\"above\":[],\"tools\":[{\"type\":\"PanTool\",\"id\":\"3f6751a2-733b-4934-c931-1d1d86374e94\"},{\"type\":\"WheelZoomTool\",\"id\":\"916b9db1-7745-489e-c89f-1f690cc20823\"},{\"type\":\"BoxZoomTool\",\"id\":\"1abaa17f-bd72-4876-c83c-1f031df8990d\"},{\"type\":\"PreviewSaveTool\",\"id\":\"6b9474d1-8d60-4850-c806-e7a23f5fff7f\"},{\"type\":\"ResizeTool\",\"id\":\"a49f8f88-172c-43fc-c36e-1e4be944b303\"},{\"type\":\"ResetTool\",\"id\":\"4c92973d-d7fe-41e5-c1dd-b80d028b6905\"}],\"doc\":null,\"right\":[],\"title\":\"Untitled Plot\",\"extra_x_ranges\":{},\"left\":[{\"type\":\"LinearAxis\",\"id\":\"f58a716c-0919-4ed1-ce81-4532f5591c71\"}],\"y_range\":{\"type\":\"DataRange1d\",\"id\":\"dbcc3eaa-b727-47b6-c720-42663355dce0\"},\"id\":\"8065d0d8-e099-4afe-ca1c-cd2fa32b7fc2\",\"extra_y_ranges\":{},\"tags\":[]}}];\n",
       "  Bokeh.load_models(all_models);\n",
       "  var model = Bokeh.Collections(modeltype).get(modelid);\n",
       "  $(\"#c1b533d8-3c18-4cdd-cc47-403647fe1018\").html(''); // clear any previous plot in window_id\n",
       "  var view = new model.default_view({model: model, el: \"#c1b533d8-3c18-4cdd-cc47-403647fe1018\"});\n",
       "    } else {\n",
       "  load_lib(bokehjs_url, function() {\n",
       "      console.log(\"Bokeh: BokehJS plotting callback run at\", new Date())\n",
       "      var modelid = \"8065d0d8-e099-4afe-ca1c-cd2fa32b7fc2\";\n",
       "      var modeltype = \"Plot\";\n",
       "      var all_models = [{\"id\":\"b8bff12f-b404-43d6-c3ca-4404aedee39e\",\"type\":\"ColumnDataSource\",\"attributes\":{\"data\":{\"y\":[25,22.50164365549,20.134779750164,17.899408284024,15.795529257068,13.823142669297,11.98224852071,10.272846811308,8.6949375410914,7.2485207100592,5.9335963182117,4.750164365549,3.698224852071,2.7777777777778,1.9888231426693,1.3313609467456,0.80539119000658,0.41091387245233,0.14792899408284,0.016436554898093,0.016436554898093,0.14792899408284,0.41091387245233,0.80539119000658,1.3313609467456,1.9888231426693,2.7777777777778,3.698224852071,4.750164365549,5.9335963182117,7.2485207100592,8.6949375410914,10.272846811308,11.98224852071,13.823142669297,15.795529257068,17.899408284024,20.134779750164,22.50164365549,25],\"x\":[-5,-4.7435897435897,-4.4871794871795,-4.2307692307692,-3.974358974359,-3.7179487179487,-3.4615384615385,-3.2051282051282,-2.9487179487179,-2.6923076923077,-2.4358974358974,-2.1794871794872,-1.9230769230769,-1.6666666666667,-1.4102564102564,-1.1538461538462,-0.8974358974359,-0.64102564102564,-0.38461538461539,-0.12820512820513,0.12820512820513,0.38461538461539,0.64102564102564,0.8974358974359,1.1538461538462,1.4102564102564,1.6666666666667,1.9230769230769,2.1794871794872,2.4358974358974,2.6923076923077,2.9487179487179,3.2051282051282,3.4615384615385,3.7179487179487,3.974358974359,4.2307692307692,4.4871794871795,4.7435897435897,5]},\"column_names\":[\"y\",\"x\"],\"cont_ranges\":{},\"discrete_ranges\":{},\"selected\":[],\"id\":\"b8bff12f-b404-43d6-c3ca-4404aedee39e\",\"doc\":null,\"tags\":[]}},{\"id\":\"90ac4a97-417d-4903-c98b-ed9a675d4918\",\"type\":\"Line\",\"attributes\":{\"fill_alpha\":{\"units\":\"data\",\"value\":0.2},\"line_alpha\":{\"units\":\"data\",\"value\":1},\"doc\":null,\"size\":{\"units\":\"screen\",\"value\":10},\"fill_color\":{\"value\":\"red\"},\"line_color\":{\"value\":\"red\"},\"x\":{\"units\":\"data\",\"field\":\"x\"},\"id\":\"90ac4a97-417d-4903-c98b-ed9a675d4918\",\"y\":{\"units\":\"data\",\"field\":\"y\"},\"tags\":[]}},{\"id\":\"50ab886e-2ffc-4562-c531-022fe52b2fa8\",\"type\":\"Line\",\"attributes\":{\"fill_alpha\":{\"units\":\"data\",\"value\":0.2},\"line_alpha\":{\"units\":\"data\",\"value\":1},\"doc\":null,\"size\":{\"units\":\"screen\",\"value\":10},\"fill_color\":{\"value\":\"red\"},\"line_color\":{\"value\":\"red\"},\"x\":{\"units\":\"data\",\"field\":\"x\"},\"id\":\"50ab886e-2ffc-4562-c531-022fe52b2fa8\",\"y\":{\"units\":\"data\",\"field\":\"y\"},\"tags\":[]}},{\"id\":\"22748664-18c5-491a-c983-aa6519a2cf3d\",\"type\":\"GlyphRenderer\",\"attributes\":{\"name\":null,\"nonselection_glyph\":{\"type\":\"Line\",\"id\":\"50ab886e-2ffc-4562-c531-022fe52b2fa8\"},\"doc\":null,\"server_data_source\":null,\"data_source\":{\"type\":\"ColumnDataSource\",\"id\":\"b8bff12f-b404-43d6-c3ca-4404aedee39e\"},\"glyph\":{\"type\":\"Line\",\"id\":\"90ac4a97-417d-4903-c98b-ed9a675d4918\"},\"selection_glyph\":null,\"id\":\"22748664-18c5-491a-c983-aa6519a2cf3d\",\"tags\":[]}},{\"id\":\"dfc5d210-21c2-4941-c9e8-e315d3e43f11\",\"type\":\"DataRange1d\",\"attributes\":{\"sources\":[{\"columns\":[\"x\"],\"source\":{\"type\":\"ColumnDataSource\",\"id\":\"b8bff12f-b404-43d6-c3ca-4404aedee39e\"}}],\"id\":\"dfc5d210-21c2-4941-c9e8-e315d3e43f11\",\"tags\":[],\"doc\":null}},{\"id\":\"dbcc3eaa-b727-47b6-c720-42663355dce0\",\"type\":\"DataRange1d\",\"attributes\":{\"sources\":[{\"columns\":[\"y\"],\"source\":{\"type\":\"ColumnDataSource\",\"id\":\"b8bff12f-b404-43d6-c3ca-4404aedee39e\"}}],\"id\":\"dbcc3eaa-b727-47b6-c720-42663355dce0\",\"tags\":[],\"doc\":null}},{\"id\":\"5009ef23-82c9-4a61-ca83-74682f17fda2\",\"type\":\"ToolEvents\",\"attributes\":{\"tags\":[],\"id\":\"5009ef23-82c9-4a61-ca83-74682f17fda2\",\"geometries\":[],\"doc\":null}},{\"id\":\"cb31dc76-94d6-465b-c6f7-be2f9280a00e\",\"type\":\"BasicTickFormatter\",\"attributes\":{\"id\":\"cb31dc76-94d6-465b-c6f7-be2f9280a00e\",\"tags\":[],\"doc\":null}},{\"id\":\"2ce6d563-645b-437e-c3e5-955c0880629e\",\"type\":\"BasicTicker\",\"attributes\":{\"num_minor_ticks\":5,\"id\":\"2ce6d563-645b-437e-c3e5-955c0880629e\",\"tags\":[],\"doc\":null}},{\"id\":\"ae9bdc2a-8636-481f-c89f-c93e65dd2be2\",\"type\":\"LinearAxis\",\"attributes\":{\"formatter\":{\"type\":\"BasicTickFormatter\",\"id\":\"cb31dc76-94d6-465b-c6f7-be2f9280a00e\"},\"ticker\":{\"type\":\"BasicTicker\",\"id\":\"2ce6d563-645b-437e-c3e5-955c0880629e\"},\"plot\":{\"id\":\"8065d0d8-e099-4afe-ca1c-cd2fa32b7fc2\",\"type\":\"Plot\",\"subtype\":\"Figure\"},\"axis_label\":null,\"id\":\"ae9bdc2a-8636-481f-c89f-c93e65dd2be2\",\"doc\":null,\"tags\":[]}},{\"id\":\"6ea307e2-93aa-4cdd-cc53-0fe234bdd645\",\"type\":\"Grid\",\"attributes\":{\"dimension\":0,\"plot\":{\"id\":\"8065d0d8-e099-4afe-ca1c-cd2fa32b7fc2\",\"type\":\"Plot\",\"subtype\":\"Figure\"},\"ticker\":{\"type\":\"BasicTicker\",\"id\":\"2ce6d563-645b-437e-c3e5-955c0880629e\"},\"id\":\"6ea307e2-93aa-4cdd-cc53-0fe234bdd645\",\"doc\":null,\"tags\":[]}},{\"id\":\"16ca4d4e-69df-4fa1-cf2a-9b4b1287e209\",\"type\":\"BasicTickFormatter\",\"attributes\":{\"id\":\"16ca4d4e-69df-4fa1-cf2a-9b4b1287e209\",\"tags\":[],\"doc\":null}},{\"id\":\"bc15cc70-ce9e-41f7-c15e-cf43818825f6\",\"type\":\"BasicTicker\",\"attributes\":{\"num_minor_ticks\":5,\"id\":\"bc15cc70-ce9e-41f7-c15e-cf43818825f6\",\"tags\":[],\"doc\":null}},{\"id\":\"f58a716c-0919-4ed1-ce81-4532f5591c71\",\"type\":\"LinearAxis\",\"attributes\":{\"formatter\":{\"type\":\"BasicTickFormatter\",\"id\":\"16ca4d4e-69df-4fa1-cf2a-9b4b1287e209\"},\"ticker\":{\"type\":\"BasicTicker\",\"id\":\"bc15cc70-ce9e-41f7-c15e-cf43818825f6\"},\"plot\":{\"id\":\"8065d0d8-e099-4afe-ca1c-cd2fa32b7fc2\",\"type\":\"Plot\",\"subtype\":\"Figure\"},\"axis_label\":null,\"id\":\"f58a716c-0919-4ed1-ce81-4532f5591c71\",\"doc\":null,\"tags\":[]}},{\"id\":\"7d0e3034-00f9-433f-c303-8ee9f15f43eb\",\"type\":\"Grid\",\"attributes\":{\"dimension\":1,\"plot\":{\"id\":\"8065d0d8-e099-4afe-ca1c-cd2fa32b7fc2\",\"type\":\"Plot\",\"subtype\":\"Figure\"},\"ticker\":{\"type\":\"BasicTicker\",\"id\":\"bc15cc70-ce9e-41f7-c15e-cf43818825f6\"},\"id\":\"7d0e3034-00f9-433f-c303-8ee9f15f43eb\",\"doc\":null,\"tags\":[]}},{\"id\":\"3f6751a2-733b-4934-c931-1d1d86374e94\",\"type\":\"PanTool\",\"attributes\":{\"plot\":{\"id\":\"8065d0d8-e099-4afe-ca1c-cd2fa32b7fc2\",\"type\":\"Plot\",\"subtype\":\"Figure\"},\"dimensions\":[\"width\",\"height\"],\"id\":\"3f6751a2-733b-4934-c931-1d1d86374e94\",\"doc\":null,\"tags\":[]}},{\"id\":\"916b9db1-7745-489e-c89f-1f690cc20823\",\"type\":\"WheelZoomTool\",\"attributes\":{\"plot\":{\"id\":\"8065d0d8-e099-4afe-ca1c-cd2fa32b7fc2\",\"type\":\"Plot\",\"subtype\":\"Figure\"},\"dimensions\":[\"width\",\"height\"],\"id\":\"916b9db1-7745-489e-c89f-1f690cc20823\",\"doc\":null,\"tags\":[]}},{\"id\":\"1abaa17f-bd72-4876-c83c-1f031df8990d\",\"type\":\"BoxZoomTool\",\"attributes\":{\"plot\":{\"id\":\"8065d0d8-e099-4afe-ca1c-cd2fa32b7fc2\",\"type\":\"Plot\",\"subtype\":\"Figure\"},\"id\":\"1abaa17f-bd72-4876-c83c-1f031df8990d\",\"tags\":[],\"doc\":null}},{\"id\":\"6b9474d1-8d60-4850-c806-e7a23f5fff7f\",\"type\":\"PreviewSaveTool\",\"attributes\":{\"plot\":{\"id\":\"8065d0d8-e099-4afe-ca1c-cd2fa32b7fc2\",\"type\":\"Plot\",\"subtype\":\"Figure\"},\"id\":\"6b9474d1-8d60-4850-c806-e7a23f5fff7f\",\"tags\":[],\"doc\":null}},{\"id\":\"a49f8f88-172c-43fc-c36e-1e4be944b303\",\"type\":\"ResizeTool\",\"attributes\":{\"plot\":{\"id\":\"8065d0d8-e099-4afe-ca1c-cd2fa32b7fc2\",\"type\":\"Plot\",\"subtype\":\"Figure\"},\"id\":\"a49f8f88-172c-43fc-c36e-1e4be944b303\",\"tags\":[],\"doc\":null}},{\"id\":\"4c92973d-d7fe-41e5-c1dd-b80d028b6905\",\"type\":\"ResetTool\",\"attributes\":{\"plot\":{\"id\":\"8065d0d8-e099-4afe-ca1c-cd2fa32b7fc2\",\"type\":\"Plot\",\"subtype\":\"Figure\"},\"id\":\"4c92973d-d7fe-41e5-c1dd-b80d028b6905\",\"tags\":[],\"doc\":null}},{\"id\":\"8065d0d8-e099-4afe-ca1c-cd2fa32b7fc2\",\"type\":\"Plot\",\"attributes\":{\"x_range\":{\"type\":\"DataRange1d\",\"id\":\"dfc5d210-21c2-4941-c9e8-e315d3e43f11\"},\"tool_events\":{\"type\":\"ToolEvents\",\"id\":\"5009ef23-82c9-4a61-ca83-74682f17fda2\"},\"below\":[{\"type\":\"LinearAxis\",\"id\":\"ae9bdc2a-8636-481f-c89f-c93e65dd2be2\"}],\"renderers\":[{\"type\":\"GlyphRenderer\",\"id\":\"22748664-18c5-491a-c983-aa6519a2cf3d\"},{\"type\":\"LinearAxis\",\"id\":\"ae9bdc2a-8636-481f-c89f-c93e65dd2be2\"},{\"type\":\"Grid\",\"id\":\"6ea307e2-93aa-4cdd-cc53-0fe234bdd645\"},{\"type\":\"LinearAxis\",\"id\":\"f58a716c-0919-4ed1-ce81-4532f5591c71\"},{\"type\":\"Grid\",\"id\":\"7d0e3034-00f9-433f-c303-8ee9f15f43eb\"}],\"above\":[],\"tools\":[{\"type\":\"PanTool\",\"id\":\"3f6751a2-733b-4934-c931-1d1d86374e94\"},{\"type\":\"WheelZoomTool\",\"id\":\"916b9db1-7745-489e-c89f-1f690cc20823\"},{\"type\":\"BoxZoomTool\",\"id\":\"1abaa17f-bd72-4876-c83c-1f031df8990d\"},{\"type\":\"PreviewSaveTool\",\"id\":\"6b9474d1-8d60-4850-c806-e7a23f5fff7f\"},{\"type\":\"ResizeTool\",\"id\":\"a49f8f88-172c-43fc-c36e-1e4be944b303\"},{\"type\":\"ResetTool\",\"id\":\"4c92973d-d7fe-41e5-c1dd-b80d028b6905\"}],\"doc\":null,\"right\":[],\"title\":\"Untitled Plot\",\"extra_x_ranges\":{},\"left\":[{\"type\":\"LinearAxis\",\"id\":\"f58a716c-0919-4ed1-ce81-4532f5591c71\"}],\"y_range\":{\"type\":\"DataRange1d\",\"id\":\"dbcc3eaa-b727-47b6-c720-42663355dce0\"},\"id\":\"8065d0d8-e099-4afe-ca1c-cd2fa32b7fc2\",\"extra_y_ranges\":{},\"tags\":[]}}];\n",
       "      Bokeh.load_models(all_models);\n",
       "      var model = Bokeh.Collections(modeltype).get(modelid);\n",
       "      $(\"#c1b533d8-3c18-4cdd-cc47-403647fe1018\").html(''); // clear any previous plot in window_id\n",
       "      var view = new model.default_view({model: model, el: \"#c1b533d8-3c18-4cdd-cc47-403647fe1018\"});\n",
       "  });\n",
       "    }\n",
       "});\n",
       "</script>\n",
       "<div class=\"plotdiv\" id=\"c1b533d8-3c18-4cdd-cc47-403647fe1018\"></div>\n"
      ]
     },
     "metadata": {},
     "output_type": "display_data"
    }
   ],
   "source": [
    "p = Plot()\n",
    "p:line(xs,ys)\n",
    "--circle(sgd_track[{{},1}],sgd_track[{{},2}],'red')\n",
    "--p:xaxis('x'):yaxis('err'):title('Optimizer path')\n",
    "p:draw()"
   ]
  },
  {
   "cell_type": "code",
   "execution_count": 8,
   "metadata": {
    "collapsed": false
   },
   "outputs": [],
   "source": [
    "-- we will start with a simple test function - a 2D quadratic\n",
    "\n",
    "-- the function value\n",
    "sphere_f = function (x) return torch.sum(torch.pow(x,2)) end\n",
    "-- the function gradient\n",
    "sphere_df = function (x) return x * 2 end\n",
    "sphere_range = {-5, 5, -5, 5, 0, 30}\n",
    "\n",
    "-- Beale's function\n",
    "beale_f = function (x) return (1.5 - x[1] + x[1]*x[2])^2 + (2.25 - x[1] + x[1]*x[2]^2)^2 + (2.625 - x[1] + x[1]*x[2]^3)^2 end\n",
    "beale_df = function (x)\n",
    "    local df_dx = torch.zeros(2)\n",
    "    local a = 1.5 - x[1] + x[1]*x[2]\n",
    "    local b = 2.25 - x[1] + x[1]*x[2]^2\n",
    "    local c = 2.625 - x[1] + x[1]*x[2]^3\n",
    "    \n",
    "    df_dx[1] = 2*a*(-1 + x[2]) + 2*b*(-1+x[2]^2) + 2*c*(-1 + x[2]^3)\n",
    "    df_dx[2] = 2*a*x[1] + 4*b*x[1]*x[2] + 6*c*x[1]*x[2]^2\n",
    "    return df_dx\n",
    "end\n",
    "beale_range = {-5, 5, -5, 5, 0, 200}\n",
    "\n",
    "-- Golstein-Price function\n",
    "gp_f = function (x) return (1+(x[1]+x[2]+1)^2*(19-14*x[1]+3*x[1]^2-14*x[2]+6*x[1]*x[2]+3*x[2]^2))*(30+(2*x[1]-3*x[2])^2*(18-32*x[1]+12*x[1]^2+48*x[2]-36*x[1]*x[2]+27*x[2]^2)) end\n",
    "gp_df = function (x)\n",
    "    local a = x[1]+x[2]+1\n",
    "    local b = 19-14*x[1]+3*x[1]^2-14*x[2]+6*x[1]*x[2]+3*x[2]^2\n",
    "    local c = 2*x[1]-3*x[2]\n",
    "    local d = 18-32*x[1]+12*x[1]^2+48*x[2]-36*x[1]*x[2]+27*x[2]^2\n",
    "    local df_dx = torch.zeros(2)\n",
    "    df_dx[1] = (1 + a^2*b)*(4*c*d - c^2*(32+36*x[2]-24*x[1])) + (30+c^2*d)*(2*a*b + a^2*(-14+6*x[1]+6*x[2]))\n",
    "    df_dx[2] = (1 + a^2*b)*(c^2*(48-36*x[1]+54*x[2])-6*c*d) + (30+c^2*d)*(2*a*b + a^2*(6*x[1]+6*x[2]-14))\n",
    "    return df_dx\n",
    "end\n",
    "gp_range = {-2, 2, -2, 2, 0, 1.2e6}\n",
    "\n",
    "-- Booth's function\n",
    "booth_f = function (x) return (x[1] + 2*x[2]-7)^2 + (2*x[1] + x[2] - 5)^2 end\n",
    "booth_df = function (x)\n",
    "    local df_dx = torch.zeros(2)\n",
    "    local a = x[1] + 2*x[2]-7\n",
    "    local b = 2*x[1] + x[2] - 5\n",
    "    df_dx[1] = 2*a + 4*b\n",
    "    df_dx[2] = 4*a + 2*b\n",
    "    return df_dx\n",
    "end\n",
    "--booth_range = {-11, 11, -11, 11, 0, 2500}\n",
    "booth_range = {0, 11, 0, 11, 0, 2500}\n",
    "\n",
    "-- Styblinski-Tang function\n",
    "st_f = function (x) return 0.5 * (x[1]^4 + x[2]^4 - 16*(x[1]^2 + x[2]^2) + 5*(x[1] + x[2])) end\n",
    "st_df = function (x)\n",
    "    local df_dx = torch.zeros(2)\n",
    "    df_dx[1] = 0.5 * (4*x[1]^3 - 32*x[1] + 5)\n",
    "    df_dx[2] = 0.5 * (4*x[2]^3 - 32*x[2] + 5)\n",
    "    return df_dx\n",
    "end\n",
    "--st_range = {-5, 5, -5, 5, -100, 200}\n",
    "st_range = {0, 5, 0, 5, -100, 200}\n",
    "\n",
    "\n",
    "-- Revisiting red-vs-blue\n",
    "N = 100\n",
    "stdev = 1.5\n",
    "Reds, Blues = unpack(utils.make_data(N, stdev))\n",
    "train_data = torch.cat(Reds, Blues, 1)\n",
    "train_labels = torch.cat(torch.ones(N/2), - torch.ones(N/2), 1)\n",
    "\n",
    "-- the dataset_error function renamed and simplified to only depend on ps\n",
    "function rb_f(ps)\n",
    "  local tloss = 0.\n",
    "  local dw1 = 0\n",
    "  local dw2 = 0\n",
    "    \n",
    "  for i=1,train_data:size(1) do\n",
    "    -- simply add all losses per data rule\n",
    "    local xs = train_data[i]\n",
    "    local y = math.tanh(xs[1] * ps[1] + xs[2] * ps[2])\n",
    "    local target = train_labels[i]\n",
    "    -- we compute the loss\n",
    "    tloss = tloss + 0.5 * (y-target)^2\n",
    "  end\n",
    "  return tloss / train_data:size(1)\n",
    "end\n",
    "\n",
    "-- computes the gradient of the error function\n",
    "function rb_df(ps)\n",
    "  local dw1 = 0\n",
    "  local dw2 = 0\n",
    "    \n",
    "  for i=1,train_data:size(1) do\n",
    "    -- simply add all losses per data rule\n",
    "    local xs = train_data[i]\n",
    "    local y = math.tanh(xs[1] * ps[1] + xs[2] * ps[2])\n",
    "    local target = train_labels[i]\n",
    "        \n",
    "    -- and we compute the gradient at the same time\n",
    "    dw1 = dw1 + (y - target) * (1 - y^2) * xs[1]\n",
    "    dw2 = dw2 + (y - target) * (1 - y^2) * xs[2]\n",
    "  end\n",
    "  return torch.Tensor{dw1,dw2} / train_data:size(1)\n",
    "end\n",
    "\n",
    "rb_range = {-1, 1, -1, 1, 0, 2}"
   ]
  },
  {
   "cell_type": "code",
   "execution_count": 9,
   "metadata": {
    "collapsed": true
   },
   "outputs": [],
   "source": [
    "f, df, range = sphere_f, sphere_df, sphere_range"
   ]
  },
  {
   "cell_type": "code",
   "execution_count": 10,
   "metadata": {
    "collapsed": false
   },
   "outputs": [
    {
     "data": {
      "text/plain": [
       "Evaluation point\t\n",
       " 0.1001\n",
       " 1.1021\n",
       "[torch.DoubleTensor of size 2]\n",
       "\n",
       "Analytically computed gradient\t\n",
       " 0.2002\n",
       " 2.2041\n",
       "[torch.DoubleTensor of size 2]\n",
       "\n",
       "Numerically estimated gradient\t\n",
       " 0.2002\n",
       " 2.2041\n",
       "[torch.DoubleTensor of size 2]\n",
       "\n",
       "Difference\t\n",
       "1e-06 *\n",
       "-10.0000\n",
       "-10.0000\n",
       "[torch.DoubleTensor of size 2]\n",
       "\n"
      ]
     },
     "execution_count": 10,
     "metadata": {},
     "output_type": "execute_result"
    }
   ],
   "source": [
    "-- quick sanity check of the computed gradient\n",
    "-- the numbers should approximately match between elements\n",
    "x = torch.zeros(2)\n",
    "x:uniform(-2,2)\n",
    "print('Evaluation point')\n",
    "print(x)\n",
    "print('Analytically computed gradient')\n",
    "print(df(x))\n",
    "\n",
    "print('Numerically estimated gradient')\n",
    "df_num = torch.Tensor{(f(x + torch.Tensor{0.00001, 0}) - f(x))/0.00001,\n",
    "                      (f(x + torch.Tensor{0, 0.00001}) - f(x))/0.00001}\n",
    "print(df_num)\n",
    "\n",
    "print('Difference')\n",
    "print(df(x) - df_num)"
   ]
  },
  {
   "cell_type": "code",
   "execution_count": 11,
   "metadata": {
    "collapsed": true
   },
   "outputs": [],
   "source": [
    "-- utility functions for plotting the error surface\n",
    "function meshgrid(x,y)\n",
    "    local xx = torch.repeatTensor(x, y:size(1),1)\n",
    "    local yy = torch.repeatTensor(y:view(-1,1), 1, x:size(1))\n",
    "    return xx, yy\n",
    "end\n",
    "\n",
    "function apply_by_element(x, y, f)\n",
    "    z = torch.zeros(x:size())\n",
    "    xij = torch.zeros(2)\n",
    "    for i=1,x:size(1) do\n",
    "        for j=1,x:size(2) do\n",
    "            z[i][j] = f(torch.Tensor{x[i][j],y[i][j]})\n",
    "        end\n",
    "    end\n",
    "    return z\n",
    "end"
   ]
  },
  {
   "cell_type": "code",
   "execution_count": 12,
   "metadata": {
    "collapsed": false
   },
   "outputs": [],
   "source": [
    "-- function domain\n",
    "x = torch.linspace(range[1], range[2], 40)\n",
    "y = torch.linspace(range[3], range[4], 40)\n",
    "xx, yy = meshgrid(x, y)\n",
    "zz = apply_by_element(xx, yy, f)"
   ]
  },
  {
   "cell_type": "code",
   "execution_count": 16,
   "metadata": {
    "collapsed": false
   },
   "outputs": [],
   "source": [
    "gnuplotx.figure(1)\n",
    "gnuplotx.title('Optimized function')\n",
    "gnuplotx.splot(xx,yy,zz)"
   ]
  },
  {
   "cell_type": "code",
   "execution_count": 14,
   "metadata": {
    "collapsed": true
   },
   "outputs": [],
   "source": [
    "-- setup initial conditions for our function\n",
    "x_init = torch.Tensor{3, 3}\n",
    "\n",
    "-- this is the number of steps the optimizers will run\n",
    "nsteps = 40"
   ]
  },
  {
   "cell_type": "code",
   "execution_count": null,
   "metadata": {
    "collapsed": true
   },
   "outputs": [],
   "source": [
    "sgd_config = {\n",
    "    learningRate = 0.1,\n",
    "    learningRateDecay = 1e-2,\n",
    "    momentum = 0,\n",
    "    dampening = 0,\n",
    "}\n",
    "\n",
    "sgdm_config = {\n",
    "    learningRate = 0.1,\n",
    "    learningRateDecay = 1e-2,\n",
    "    momentum = 0.9,\n",
    "    dampening = 0,\n",
    "}\n",
    "\n",
    "adadelta_config = {\n",
    "    rho = 0.9,\n",
    "    eps = 1e-6\n",
    "}\n",
    "\n",
    "adagrad_config = {\n",
    "    learningRate = 0.01,\n",
    "    learningRateDecay = 1e-2\n",
    "}\n",
    "\n",
    "rmsp_config = {\n",
    "    learningRate = 0.01,\n",
    "    alpha = 0.99,\n",
    "    epsilon = 1e-8\n",
    "}\n",
    "\n",
    "nag_config = {\n",
    "    learningRate = 0.01,\n",
    "    momentum = 0.9\n",
    "}\n",
    "\n",
    "adam_config = {\n",
    "    learningRate = 0.1\n",
    "}\n"
   ]
  },
  {
   "cell_type": "code",
   "execution_count": null,
   "metadata": {
    "collapsed": false
   },
   "outputs": [],
   "source": [
    "sgd_track = compute_track(x_init, f, df, optim.sgd, sgd_config, nsteps)\n",
    "sgdm_track = compute_track(x_init, f, df, optim.sgd, sgdm_config, nsteps)\n",
    "nag_track =  compute_track(x_init, f, df, optim.nag, nag_config, nsteps)\n",
    "rmsp_track = compute_track(x_init, f, df, optim.rmsprop, rmsp_config, nsteps)\n",
    "adadelta_track = compute_track(x_init, f, df, optim.adadelta, adadelta_config, nsteps)\n",
    "adagrad_track = compute_track(x_init, f, df, optim.adagrad, adagrad_config, nsteps)"
   ]
  },
  {
   "cell_type": "code",
   "execution_count": null,
   "metadata": {
    "collapsed": false
   },
   "outputs": [],
   "source": [
    "gnuplotx.figure(2)\n",
    "gnuplotx.raw(string.format('set xrange [%g:%g]', range[1], range[2]))\n",
    "gnuplotx.raw(string.format('set yrange [%g:%g]', range[3], range[4]))\n",
    "gnuplotx.raw(string.format('set zrange [%g:%g]', range[5], range[6]))\n",
    "gnuplotx.title('Optimizer tracks - sgd/mom/nag')\n",
    "gnuplotx.displaypaths({xx,yy,zz},{'sgd', sgd_track}, {'sgd+mom', sgdm_track}, {'nag', nag_track})\n",
    "\n",
    "gnuplotx.figure(3)\n",
    "gnuplotx.title('Optimizer tracks rmsprop/adagrad/adadelta')\n",
    "gnuplotx.raw(string.format('set xrange [%g:%g]', range[1], range[2]))\n",
    "gnuplotx.raw(string.format('set yrange [%g:%g]', range[3], range[4]))\n",
    "gnuplotx.raw(string.format('set zrange [%g:%g]', range[5], range[6]))\n",
    "gnuplotx.displaypaths({xx,yy,zz},{'rmsprop', rmsp_track},{'adadelta', adadelta_track},{'adagrad', adagrad_track})"
   ]
  },
  {
   "cell_type": "code",
   "execution_count": null,
   "metadata": {
    "collapsed": true
   },
   "outputs": [],
   "source": []
  }
 ],
 "metadata": {
  "kernelspec": {
   "display_name": "iTorch",
   "language": "lua",
   "name": "itorch"
  },
  "language_info": {
   "name": "lua",
   "version": "20100"
  }
 },
 "nbformat": 4,
 "nbformat_minor": 0
}
