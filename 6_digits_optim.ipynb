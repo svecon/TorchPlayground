{
 "cells": [
  {
   "cell_type": "markdown",
   "metadata": {},
   "source": [
    "# MNIST Handwritten Digit Problem #2\n",
    "The objective of this notebook is to combine network design with optimization methods.  We will re-solve the MNIST digit problem with more advanced tools.  You should target an error rate of 2%."
   ]
  },
  {
   "cell_type": "code",
   "execution_count": 30,
   "metadata": {
    "collapsed": false
   },
   "outputs": [
    {
     "data": {
      "text/plain": [
       "ready\t\n"
      ]
     },
     "execution_count": 30,
     "metadata": {},
     "output_type": "execute_result"
    }
   ],
   "source": [
    "require 'nn'\n",
    "require 'paths'\n",
    "require 'optim'\n",
    "print('ready')\n",
    "\n",
    "-- set the number of threads [set to number of cores]\n",
    "torch.setnumthreads(16)"
   ]
  },
  {
   "cell_type": "code",
   "execution_count": 12,
   "metadata": {
    "collapsed": false
   },
   "outputs": [
    {
     "data": {
      "text/plain": [
       "==> loading dataset\t"
      ]
     },
     "execution_count": 12,
     "metadata": {},
     "output_type": "execute_result"
    },
    {
     "data": {
      "text/plain": [
       "\n"
      ]
     },
     "execution_count": 12,
     "metadata": {},
     "output_type": "execute_result"
    }
   ],
   "source": [
    "-- snippet shamelessly ripped from https://github.com/torch/tutorials/blob/master/A_datasets/mnist.lua \n",
    "-- load the training data (downloads when first used)\n",
    "tar = 'http://torch7.s3-website-us-east-1.amazonaws.com/data/mnist.t7.tgz'\n",
    "\n",
    "if not paths.dirp('mnist.t7') then\n",
    "   print('==> downloading dataset')\n",
    "   os.execute('wget ' .. tar)\n",
    "   os.execute('tar xvf ' .. paths.basename(tar))\n",
    "end\n",
    "\n",
    "train_file = 'mnist.t7/train_32x32.t7'\n",
    "test_file = 'mnist.t7/test_32x32.t7'\n",
    "\n",
    "----------------------------------------------------------------------\n",
    "print('==> loading dataset')\n",
    "\n",
    "-- We load the dataset from disk (it's straightforward if we have it in the right format t7)\n",
    "train_data = torch.load(train_file,'ascii')\n",
    "test_data = torch.load(test_file,'ascii')"
   ]
  },
  {
   "cell_type": "code",
   "execution_count": 13,
   "metadata": {
    "collapsed": false
   },
   "outputs": [],
   "source": [
    "-- print some training data\n",
    "print(train_data)"
   ]
  },
  {
   "cell_type": "code",
   "execution_count": 14,
   "metadata": {
    "collapsed": false
   },
   "outputs": [
    {
     "data": {
      "image/png": "[encoded data removed]",
      "text/plain": [
       "Console does not support images"
      ]
     },
     "metadata": {
      "image/png": {
       "height": 32,
       "width": 32
      }
     },
     "output_type": "display_data"
    },
    {
     "data": {
      "text/plain": [
       "\n"
      ]
     },
     "execution_count": 14,
     "metadata": {},
     "output_type": "execute_result"
    }
   ],
   "source": [
    "-- example image\n",
    "itorch.image(train_data.data[{500,1}])"
   ]
  },
  {
   "cell_type": "code",
   "execution_count": 15,
   "metadata": {
    "collapsed": false
   },
   "outputs": [],
   "source": [
    "-- raw data\n",
    "train_data.data[{500,1}]"
   ]
  },
  {
   "cell_type": "code",
   "execution_count": 16,
   "metadata": {
    "collapsed": false
   },
   "outputs": [
    {
     "data": {
      "text/plain": [
       " 0    0    0    0\n",
       " 221  252  117    0    0    0    0    0    0    0    0    0    0    0    0    0\n",
       " 137  252  189    0    0    0    0    0    0    0    0    0    0    0    0    0\n",
       " 123  253  253   11    0    0    0    0    0    0    0    0    0    0    0    0\n",
       " 142  252  252   63    0    0    0    0    0    0    0    0    0    0    0    0\n",
       " 234  252  168   32    0    0    0    0    0    0    0    0    0    0    0    0\n",
       " 252  176   25    0    0    0    0    0    0    0    0    0    0    0    0    0\n",
       "  54   14    0    0    0    0    0    0    0    0    0    0    0    0    0    0\n",
       "   0    0    0    0    0    0    0    0    0    0    0    0    0    0    0    0\n",
       "   0    0    0    0    0    0    0    0    0    0    0    0    0    0    0    0\n",
       "   0    0    0    0    0    0    0    0    0    0    0    0    0    0    0    0\n",
       "   0    0    0    0    0    0    0    0    0    0    0    0    0    0    0    0\n",
       "   0    0    0    0    0    0    0    0    0    0    0    0    0    0    0    0\n",
       "   0    0    0    0    0    0    0    0    0    0    0    0    0    0    0    0\n",
       "[torch.ByteTensor of size 32x32]\n",
       "\n"
      ]
     },
     "execution_count": 16,
     "metadata": {},
     "output_type": "execute_result"
    }
   ],
   "source": [
    "-- let's preprocess the data a bit, so they are between 0 and 1\n",
    "train_data.data = train_data.data:reshape(60000, 32*32):type('torch.DoubleTensor'):mul(1.0 / 256.0)\n",
    "test_data.data = test_data.data:reshape(10000, 32*32):type('torch.DoubleTensor'):mul(1.0 / 256.0)\n",
    "\n",
    "-- remove mean\n",
    "--train_data.data = train_data.data - torch.repeatTensor(torch.mean(train_data.data,2),1,1024)\n",
    "--test_data.data = test_data.data - torch.repeatTensor(torch.mean(test_data.data,2),1,1024)"
   ]
  },
  {
   "cell_type": "markdown",
   "metadata": {},
   "source": [
    "## A new network\n",
    "- in addition to using the optim package, we also define a new network structure from [Zeiler, 2013](http://www.matthewzeiler.com/pubs/googleTR2012/googleTR2012.pdf)"
   ]
  },
  {
   "cell_type": "code",
   "execution_count": 17,
   "metadata": {
    "collapsed": false
   },
   "outputs": [
    {
     "data": {
      "text/plain": [
       "nn.Sequential {\n",
       "  [input -> (1) -> (2) -> (3) -> (4) -> (5) -> output]\n",
       "  (1): nn.Linear(1024 -> 500)\n",
       "  (2): nn.ReLU\n",
       "  (3): nn.Linear(500 -> 300)\n",
       "  (4): nn.ReLU\n",
       "  (5): nn.Linear(300 -> 10)\n",
       "}\n",
       "{\n",
       "  gradInput : DoubleTensor - empty\n",
       "  modules : \n",
       "    {\n",
       "      1 : \n",
       "        nn.Linear(1024 -> 500)\n",
       "        {\n",
       "          gradBias : DoubleTensor - size: 500\n",
       "          weight : DoubleTensor - size: 500x1024\n",
       "          bias : DoubleTensor - size: 500\n",
       "          gradInput : DoubleTensor - empty\n",
       "          gradWeight : DoubleTensor - size: 500x1024\n",
       "          output : DoubleTensor - empty\n",
       "        }\n",
       "      2 : \n",
       "        nn.ReLU\n",
       "        {\n",
       "          inplace : false\n",
       "          threshold : 0\n",
       "          val : 0\n"
      ]
     },
     "execution_count": 17,
     "metadata": {},
     "output_type": "execute_result"
    },
    {
     "data": {
      "text/plain": [
       "          output : DoubleTensor - empty\n",
       "          gradInput : DoubleTensor - empty\n",
       "        }\n",
       "      3 : \n",
       "        nn.Linear(500 -> 300)\n",
       "        {\n",
       "          gradBias : DoubleTensor - size: 300\n",
       "          weight : DoubleTensor - size: 300x500\n",
       "          bias : DoubleTensor - size: 300\n",
       "          gradInput : DoubleTensor - empty\n",
       "          gradWeight : DoubleTensor - size: 300x500\n",
       "          output : DoubleTensor - empty\n",
       "        }\n",
       "      4 : \n",
       "        nn.ReLU\n",
       "        {\n",
       "          inplace : false\n",
       "          threshold : 0\n",
       "          val : 0\n",
       "          output : DoubleTensor - empty\n",
       "          gradInput : DoubleTensor - empty\n",
       "        }\n",
       "      5 : \n",
       "        nn.Linear(300 -> 10)\n",
       "        {\n",
       "          gradBias : DoubleTensor - size: 10\n",
       "          weight : DoubleTensor - size: 10x300\n",
       "          bias : DoubleTensor - size: 10\n",
       "          gradInput : DoubleTensor - empty\n",
       "          gradWeight : DoubleTensor - size: 10x300\n",
       "          output : DoubleTensor - empty\n",
       "        }\n",
       "    }\n",
       "  output : DoubleTensor - empty\n",
       "}\n"
      ]
     },
     "execution_count": 17,
     "metadata": {},
     "output_type": "execute_result"
    }
   ],
   "source": [
    "-- build our NN model [structure from from Zeiler et al 2013]\n",
    "net = nn.Sequential()\n",
    "net:add(nn.Linear(32*32, 500))\n",
    "net:add(nn.ReLU())\n",
    "net:add(nn.Linear(500,300))\n",
    "net:add(nn.ReLU())\n",
    "net:add(nn.Linear(300,10))\n",
    "loss = nn.CrossEntropyCriterion()\n",
    "\n",
    "print(net)"
   ]
  },
  {
   "cell_type": "code",
   "execution_count": 18,
   "metadata": {
    "collapsed": false
   },
   "outputs": [
    {
     "data": {
      "text/plain": [
       "Random initialization\t\n"
      ]
     },
     "execution_count": 18,
     "metadata": {},
     "output_type": "execute_result"
    }
   ],
   "source": [
    "-- Glorot & Bengio per-layer initialization of network\n",
    "-- See also Sutskever 2013\n",
    "local tmp = math.sqrt(1. / net:get(1).bias:size(1))\n",
    "net:get(1).weight:uniform(-tmp, tmp)\n",
    "net:get(1).bias:zero() -- per Bengio & Bergstra 2012\n",
    "tmp = math.sqrt(1. / net:get(3).bias:size(1))\n",
    "net:get(3).weight:uniform(-tmp, tmp)\n",
    "net:get(3).bias:zero()\n",
    "tmp = math.sqrt(1. / net:get(5).bias:size(1))\n",
    "net:get(5).weight:uniform(-tmp, tmp)\n",
    "net:get(5).bias:zero()\n",
    "\n",
    "print('Random initialization')"
   ]
  },
  {
   "cell_type": "code",
   "execution_count": 19,
   "metadata": {
    "collapsed": true
   },
   "outputs": [],
   "source": [
    "opt_state = {}"
   ]
  },
  {
   "cell_type": "code",
   "execution_count": 34,
   "metadata": {
    "collapsed": false,
    "scrolled": false
   },
   "outputs": [
    {
     "data": {
      "text/plain": [
       "Number of parameter in nerwork 665810\t\n"
      ]
     },
     "execution_count": 34,
     "metadata": {},
     "output_type": "execute_result"
    },
    {
     "data": {
      "text/plain": [
       "**** Epoch 1 ****\t\n"
      ]
     },
     "execution_count": 34,
     "metadata": {},
     "output_type": "execute_result"
    },
    {
     "data": {
      "text/plain": [
       "ConfusionMatrix:\n",
       "[[    2135     878     441     611     308     139     355     383     376     297]   36.046% \t[class: 0]\n",
       " [     362    3107     489     650     352     153     417     423     433     356]   46.084% \t[class: 1]\n",
       " [     341     887    2230     572     321     136     390     399     391     291]   37.429% \t[class: 2]\n",
       " [     344     898     469    2475     344     134     362     400     394     311]   40.369% \t[class: 3]\n",
       " [     340     890     423     591    2079     138     346     368     376     291]   35.587% \t[class: 4]\n",
       " [     320     808     406     549     296    1750     344     334     335     279]   32.282% \t[class: 5]\n",
       " [     360     899     404     569     324     152    2171     352     373     314]   36.685% \t[class: 6]\n",
       " [     367     923     473     645     332     147     370    2323     394     291]   37.079% \t[class: 7]\n",
       " [     324     912     465     611     306     149     319     378    2109     278]   36.045% \t[class: 8]\n",
       " [     325     896     450     581     327     128     345     378     384    2135]]  35.888% \t[class: 9]\n",
       " + average row correct: 37.349366247654% \n",
       " + average rowUcol correct (VOC measure): 23.353879004717% \n",
       " + global correct: 37.523333333333%\t\n"
      ]
     },
     "execution_count": 34,
     "metadata": {},
     "output_type": "execute_result"
    },
    {
     "data": {
      "text/plain": [
       "Testing error after epoch 1 = 23037.460977256 misses = 9108\t\n",
       "ConfusionMatrix:\n",
       "[[       0       0       0       0       0       0     980       0       0       0]   0.000% \t[class: 0]\n",
       " [       0       0       0       0       0       0    1135       0       0       0]   0.000% \t[class: 1]\n",
       " [       0       0       0       0       0       0    1032       0       0       0]   0.000% \t[class: 2]\n",
       " [       0       0       0       0       0       0    1010       0       0       0]   0.000% \t[class: 3]\n",
       " [       0       0       0       0       0       0     982       0       0       0]   0.000% \t[class: 4]\n",
       " [       0       0       0       0       0       0     892       0       0       0]   0.000% \t[class: 5]\n",
       " [       0       0       0       0       0       0     958       0       0       0]   100.000% \t[class: 6]\n",
       " [       0       0       0       0       0       0    1028       0       0       0]   0.000% \t[class: 7]\n",
       " [       0       0       0       0       0       0     974       0       0       0]   0.000% \t[class: 8]\n",
       " [       0       0       0       0       0       0    1009       0       0       0]]  0.000% \t[class: 9]\n",
       " + average row correct: 10% \n",
       " + average rowUcol correct (VOC measure): 0.95799997448921% \n",
       " + global correct: 9.58%\t\n",
       "Epoch took 20.270982027054 seconds.\t\n"
      ]
     },
     "execution_count": 34,
     "metadata": {},
     "output_type": "execute_result"
    },
    {
     "data": {
      "text/plain": [
       "**** Epoch 2 ****\t\n",
       "ConfusionMatrix:\n",
       "[[     517    1343     582     914     458     215     459     629     454     352]   8.729% \t[class: 0]\n",
       " [     585    1515     659     979     515     245     569     701     554     420]   22.471% \t[class: 1]\n",
       " [     539    1355     562     842     451     213     523     631     509     333]   9.433% \t[class: 2]\n",
       " [     554    1410     601     850     483     214     476     647     512     384]   13.864% \t[class: 3]\n",
       " [     502    1368     572     879     423     216     477     594     459     352]   7.241% \t[class: 4]\n",
       " [     518    1244     541     789     407     195     432     556     411     328]   3.597% \t[class: 5]\n",
       " [     560    1358     526     854     473     232     462     596     479     378]   7.807% \t[class: 6]\n",
       " [     587    1436     602     928     488     237     486     633     505     363]   10.104% \t[class: 7]\n",
       " [     509    1388     583     886     431     222     455     607     428     342]   7.315% \t[class: 8]\n",
       " [     529    1383     568     878     475     210     463     605     490     348]]  5.850% \t[class: 9]\n",
       " + average row correct: 9.6409374475479% \n",
       " + average rowUcol correct (VOC measure): 4.8474258556962% \n",
       " + global correct: 9.8883333333333%\t\n"
      ]
     },
     "execution_count": 34,
     "metadata": {},
     "output_type": "execute_result"
    },
    {
     "data": {
      "text/plain": [
       "Testing error after epoch 2 = 23037.468144506 misses = 9108\t\n",
       "ConfusionMatrix:\n",
       "[[       0       0       0       0       0       0     980       0       0       0]   0.000% \t[class: 0]\n",
       " [       0       0       0       0       0       0    1135       0       0       0]   0.000% \t[class: 1]\n",
       " [       0       0       0       0       0       0    1032       0       0       0]   0.000% \t[class: 2]\n",
       " [       0       0       0       0       0       0    1010       0       0       0]   0.000% \t[class: 3]\n",
       " [       0       0       0       0       0       0     982       0       0       0]   0.000% \t[class: 4]\n",
       " [       0       0       0       0       0       0     892       0       0       0]   0.000% \t[class: 5]\n",
       " [       0       0       0       0       0       0     958       0       0       0]   100.000% \t[class: 6]\n",
       " [       0       0       0       0       0       0    1028       0       0       0]   0.000% \t[class: 7]\n",
       " [       0       0       0       0       0       0     974       0       0       0]   0.000% \t[class: 8]\n",
       " [       0       0       0       0       0       0    1009       0       0       0]]  0.000% \t[class: 9]\n",
       " + average row correct: 10% \n",
       " + average rowUcol correct (VOC measure): 0.95799997448921% \n",
       " + global correct: 9.58%\t\n",
       "Epoch took 18.537358045578 seconds.\t\n"
      ]
     },
     "execution_count": 34,
     "metadata": {},
     "output_type": "execute_result"
    },
    {
     "data": {
      "text/plain": [
       "**** Epoch 3 ****\t\n",
       "ConfusionMatrix:\n",
       "[[     534    1316     568     914     458     229     459     629     437     379]   9.016% \t[class: 0]\n",
       " [     607    1491     640     979     515     264     569     701     532     444]   22.115% \t[class: 1]\n",
       " [     561    1338     545     842     451     230     523     631     487     350]   9.147% \t[class: 2]\n",
       " [     573    1392     574     850     483     241     476     647     493     402]   13.864% \t[class: 3]\n",
       " [     520    1347     550     880     419     243     475     595     440     373]   7.172% \t[class: 4]\n",
       " [     540    1226     522     789     407     214     432     556     389     346]   3.948% \t[class: 5]\n",
       " [     581    1335     505     854     473     253     462     596     458     401]   7.807% \t[class: 6]\n",
       " [     606    1415     583     928     488     256     486     633     486     384]   10.104% \t[class: 7]\n",
       " [     529    1374     566     886     431     239     455     607     408     356]   6.973% \t[class: 8]\n",
       " [     549    1366     547     878     475     231     463     605     470     365]]  6.135% \t[class: 9]\n",
       " + average row correct: 9.6281043067575% \n",
       " + average rowUcol correct (VOC measure): 4.8554293066263% \n",
       " + global correct: 9.8683333333333%\t\n"
      ]
     },
     "execution_count": 34,
     "metadata": {},
     "output_type": "execute_result"
    },
    {
     "data": {
      "text/plain": [
       "Testing error after epoch 3 = 23037.468144506 misses = 9108\t\n",
       "ConfusionMatrix:\n",
       "[[       0       0       0       0       0       0     980       0       0       0]   0.000% \t[class: 0]\n",
       " [       0       0       0       0       0       0    1135       0       0       0]   0.000% \t[class: 1]\n",
       " [       0       0       0       0       0       0    1032       0       0       0]   0.000% \t[class: 2]\n",
       " [       0       0       0       0       0       0    1010       0       0       0]   0.000% \t[class: 3]\n",
       " [       0       0       0       0       0       0     982       0       0       0]   0.000% \t[class: 4]\n",
       " [       0       0       0       0       0       0     892       0       0       0]   0.000% \t[class: 5]\n",
       " [       0       0       0       0       0       0     958       0       0       0]   100.000% \t[class: 6]\n",
       " [       0       0       0       0       0       0    1028       0       0       0]   0.000% \t[class: 7]\n",
       " [       0       0       0       0       0       0     974       0       0       0]   0.000% \t[class: 8]\n",
       " [       0       0       0       0       0       0    1009       0       0       0]]  0.000% \t[class: 9]\n",
       " + average row correct: 10% \n",
       " + average rowUcol correct (VOC measure): 0.95799997448921% \n",
       " + global correct: 9.58%\t\n",
       "Epoch took 19.106719017029 seconds.\t\n"
      ]
     },
     "execution_count": 34,
     "metadata": {},
     "output_type": "execute_result"
    }
   ],
   "source": [
    "-- params\n",
    "nepochs = 5\n",
    "batch_size = 200\n",
    "etest = 1\n",
    "diagnostic_level = 1\n",
    "\n",
    "-- we optimize with AdaDelta\n",
    "-- execute_optimizer = optim.adadelta\n",
    "-- opt_config = {\n",
    "--     rho = 0.9,\n",
    "--     eps = 1e-6\n",
    "-- }\n",
    "\n",
    "execute_optimizer = optim.sgd\n",
    "opt_config = {\n",
    "    learningRate = 0.05,\n",
    "}\n",
    "\n",
    "-- dataset sizes\n",
    "ntrain = train_data.labels:size(1)\n",
    "--ntrain = 4000 -- small subset of the dataset to tune the learning rate\n",
    "ntest = test_data.labels:size(1)\n",
    "--ntest = 1000\n",
    "\n",
    "-- retrieve parameters and gradients from the model\n",
    "parameters,gradParameters = net:getParameters()\n",
    "\n",
    "print('Number of parameter in nerwork ' .. parameters:nElement())\n",
    "\n",
    "-- train the network\n",
    "for e=1,nepochs do\n",
    "    \n",
    "    local timer = torch.Timer() \n",
    "    local confusion = optim.ConfusionMatrix(10, {'0','1','2','3','4','5','6','7','8','9'})\n",
    "    \n",
    "    for b=1,ntrain/batch_size do\n",
    "        \n",
    "        -- build a closure that will evaluate the error & gradient for this minibatch\n",
    "        local feval = function(x)\n",
    "\n",
    "            -- get new parameters\n",
    "            if x ~= parameters then\n",
    "                parameters:copy(x)\n",
    "            end\n",
    "\n",
    "            -- reset gradients\n",
    "            gradParameters:zero()\n",
    "            \n",
    "            local err = 0\n",
    "\n",
    "            -- evaluate function for complete mini batch\n",
    "            for i=1,batch_size do\n",
    "                \n",
    "                -- select current training example\n",
    "                local ndx = (b-1) * batch_size + i\n",
    "                local x = train_data.data[ndx]\n",
    "                local t = train_data.labels[ndx]\n",
    "\n",
    "                -- run it through the network & accumulate error\n",
    "                local y = net:forward(x)\n",
    "                err = err + loss:forward(y, t)\n",
    "\n",
    "                -- run it backward from the loss criterion\n",
    "                local dt_dy = loss:backward(y, t) \n",
    "                net:backward(x, dt_dy)\n",
    "\n",
    "                confusion:add(y, t)\n",
    "            end\n",
    "\n",
    "            -- return f and df/dX\n",
    "            return err,gradParameters\n",
    "        end\n",
    "        \n",
    "        --optim.sgd(feval, parameters, sgd_config, sgd_state)\n",
    "        execute_optimizer(feval, parameters, opt_config, opt_state)\n",
    "    end\n",
    "\n",
    "    print('**** Epoch ' .. e .. ' ****')\n",
    "    if diagnostic_level > 0 then\n",
    "        print(confusion:__tostring__())\n",
    "    end\n",
    "    \n",
    "    -- compute testing error every etest epochs\n",
    "    if e % etest == 0 then\n",
    "        confusion:zero()\n",
    "        local terr = 0\n",
    "        local misses = 0\n",
    "        for i=1,ntest do\n",
    "            local x = test_data.data[i]\n",
    "            local t = test_data.labels[i]\n",
    "            local y = net:forward(x)\n",
    "            local _, digit = torch.max(y,1)\n",
    "            digit = digit[1] - 1\n",
    "            confusion:add(y, t)\n",
    "            if digit ~= t then\n",
    "                misses = misses + 1\n",
    "            end\n",
    "            \n",
    "            terr = terr + loss:forward(y, t)\n",
    "        end\n",
    "        print('Testing error after epoch ' .. e .. ' = ' .. terr .. ' misses = ' .. misses)\n",
    "        if diagnostic_level > 0 or e == nepochs then\n",
    "            print(confusion:__tostring__())\n",
    "        end\n",
    "    end\n",
    "    \n",
    "    if diagnostic_level > 1 then\n",
    "        -- print diagnostic info about the training process\n",
    "        for _, l in ipairs({1,3,5}) do\n",
    "            local w = net:get(l).weight\n",
    "            local nw = w:nElement()\n",
    "            local w_max =  torch.max(torch.abs(w))\n",
    "            local wg = net:get(l).gradWeight\n",
    "            local wg_max =  torch.max(torch.abs(wg))\n",
    "            local b = net:get(l).bias\n",
    "            local nb = b:nElement()\n",
    "            local b_max = torch.max(torch.abs(b))\n",
    "            print('layer ' .. l)\n",
    "            print('  weight norms max/2/1 [' .. w_max .. ', ' .. torch.norm(w,2)/nw .. ', ' .. torch.norm(w,1)/nw .. ']')\n",
    "            print('  w/grad norms max/2/1 [' .. wg_max .. ', ' .. torch.norm(wg,2)/nw .. ', ' .. torch.norm(wg,1)/nw .. ']')\n",
    "            print('  bias norms max/2/1 [' .. b_max .. ', ' .. torch.norm(b,2)/nb .. ', ' .. torch.norm(b,1)/nb .. ']')\n",
    "        end\n",
    "    end    \n",
    "    print('Epoch took ' .. timer:time().real .. ' seconds.')\n",
    "end"
   ]
  },
  {
   "cell_type": "code",
   "execution_count": 21,
   "metadata": {
    "collapsed": false
   },
   "outputs": [
    {
     "data": {
      "text/plain": [
       "\n"
      ]
     },
     "execution_count": 21,
     "metadata": {},
     "output_type": "execute_result"
    }
   ],
   "source": [
    "torch.save('demo_net.dat', net)"
   ]
  },
  {
   "cell_type": "code",
   "execution_count": 22,
   "metadata": {
    "collapsed": false
   },
   "outputs": [
    {
     "data": {
      "text/plain": [
       "\n"
      ]
     },
     "execution_count": 22,
     "metadata": {},
     "output_type": "execute_result"
    }
   ],
   "source": [
    "gnuplot.imagesc(net:get(1).weight, 'color')"
   ]
  },
  {
   "cell_type": "code",
   "execution_count": 23,
   "metadata": {
    "collapsed": false,
    "scrolled": true
   },
   "outputs": [
    {
     "data": {
      "text/plain": [
       "Testing error = 23822.354260881 in counts 9043/10000\t\n"
      ]
     },
     "execution_count": 23,
     "metadata": {},
     "output_type": "execute_result"
    }
   ],
   "source": [
    "local terr = 0\n",
    "local p = 0\n",
    "local ntest = test_data.labels:size(1)\n",
    "local errlist = {}\n",
    "for i=1,ntest do\n",
    "    local x = test_data.data[i]\n",
    "    local t = test_data.labels[i]\n",
    "    local y = net:forward(x)\n",
    "    local logprob, digit = torch.max(y,1)\n",
    "    if digit[1] ~= t then \n",
    "        errlist[#errlist+1]={i, (t-1), (digit-1)}\n",
    "        p = p + 1\n",
    "    end\n",
    "    terr = terr + loss:forward(y, t)\n",
    "end\n",
    "--print(errlist)\n",
    "print('Testing error = ' .. terr .. ' in counts ' .. p .. '/' .. ntest)\n"
   ]
  },
  {
   "cell_type": "code",
   "execution_count": 24,
   "metadata": {
    "collapsed": false,
    "scrolled": true
   },
   "outputs": [
    {
     "data": {
      "image/png": "[encoded data removed]",
      "text/plain": [
       "Console does not support images"
      ]
     },
     "metadata": {
      "image/png": {
       "height": 32,
       "width": 32
      }
     },
     "output_type": "display_data"
    },
    {
     "data": {
      "text/plain": [
       " 0.0000 -0.4020\n",
       " 1.0000  0.3087\n",
       " 2.0000  0.0499\n",
       " 3.0000  0.3936\n",
       " 4.0000 -0.0039\n",
       " 5.0000  0.1918\n",
       " 6.0000 -0.4541\n",
       " 7.0000 -0.1271\n",
       " 8.0000  0.0129\n",
       " 9.0000  0.0489\n",
       "[torch.DoubleTensor of size 10x2]\n",
       "\n",
       "Prediction 3 real label 9\t\n"
      ]
     },
     "execution_count": 24,
     "metadata": {},
     "output_type": "execute_result"
    }
   ],
   "source": [
    "ndx = 126\n",
    "itorch.image(test_data.data[ndx]:reshape(32,32))\n",
    "y = net:forward(test_data.data[ndx])\n",
    "print(torch.cat(torch.range(0,9),y,2))\n",
    "logprob, digit = torch.max(y,1)\n",
    "local digit = digit[1] - 1\n",
    "local target = test_data.labels[ndx] - 1\n",
    "print('Prediction ' .. digit .. ' real label ' .. target)"
   ]
  },
  {
   "cell_type": "code",
   "execution_count": 25,
   "metadata": {
    "collapsed": false
   },
   "outputs": [
    {
     "data": {
      "text/plain": [
       "Columns 1 to 10\n",
       " 0.0000  0.0000  0.0000  0.0000  0.0000  0.0000  0.0000  0.0000  0.0000  0.0000\n",
       " 0.0000  0.0000  0.0000  0.0000  0.0000  0.0000  0.0000  0.0000  0.0000  0.0000\n",
       " 0.0000  0.0000  0.0000  0.0000  0.0000  0.0000  0.0000  0.0000  0.0000  0.0000\n",
       " 0.0000  0.0000  0.0000  0.0000  0.0000  0.0000  0.0000  0.0000  0.0000  0.0000\n",
       " 0.0000  0.0000  0.0000  0.0000  0.0000  0.0000  0.0000  0.0000  0.0000  0.0000\n",
       " 0.0000  0.0000  0.0000  0.0000  0.0000  0.0000  0.0000  0.0000  0.0000  0.0000\n",
       " 0.0000  0.0000  0.0000  0.0000  0.0000  0.0000  0.0000  0.0000  0.0000  0.0000\n",
       " 0.0000  0.0000  0.0000  0.0000  0.0000  0.0000  0.0000  0.0000  0.0000  0.0000\n",
       " 0.0000  0.0000  0.0000  0.0000  0.0000  0.0000  0.0000  0.0000  0.0000  0.0000\n",
       " 0.0000  0.0000  0.0000  0.0000  0.0000  0.0000  0.0000  0.0000  0.0000  0.0000\n",
       " 0.0000  0.0000  0.0000  0.0000  0.0000  0.0000  0.0000  0.0000  0.0000  0.0000\n",
       " 0.0000  0.0000  0.0000  0.0000  0.0000  0.0000  0.0000  0.0000  0.0000  0.0000\n",
       " 0.0000  0.0000  0.0000  0.0000  0.0000  0.0000  0.0000  0.0000  0.0000  0.0000\n",
       " 0.0000  0.0000  0.0000  0.0000  0.0000  0.0000  0.0000  0.0000  0.0000  0.0000\n",
       " 0.0000  0.0000  0.0000  0.0000  0.0000  0.0000  0.0000  0.0000  0.0000  0.0000\n",
       " 0.0000  0.0000  0.0000  0.0000  0.0000  0.0000  0.0000  0.0000  0.0000  0.0000\n",
       " 0.0000  0.0000  0.0000  0.0000  0.0000  0.0000  0.0000  0.0000  0.0000  0.0000\n",
       " 0.0000  0.0000  0.0000  0.0000  0.0000  0.0000  0.0000  0.0000  0.0000  0.0000\n",
       " 0.0000  0.0000  0.0000  0.0000  0.0000  0.0000  0.0000  0.0000  0.0000  0.0000\n",
       " 0.0000  0.0000  0.0000  0.0000  0.0000  0.0000  0.0000  0.0000  0.0000  0.0000\n",
       " 0.0000  0.0000  0.0000  0.0000  0.0000  0.0000  0.0000  0.0000  0.0000  0.0000\n",
       " 0.0000  0.0000  0.0000  0.0000  0.0000  0.0000  0.0000  0.0000  0.0000  0.0000\n",
       " 0.0000  0.0000  0.0000  0.0000  0.0000  0.0000  0.0000  0.0000  0.0000  0.0000\n",
       " 0.0000  0.0000  0.0000  0.0000  0.0000  0.0000  0.0000  0.0000  0.0000  0.0000\n",
       " 0.0000  0.0000  0.0000  0.0000  0.0000  0.0000  0.0000  0.0000  0.0000  0.0000\n",
       " 0.0000  0.0000  0.0000  0.0000  0.0000  0.0000  0.0000  0.0000  0.0000  0.0000\n",
       " 0.0000  0.0000  0.0000  0.0000  0.0000  0.0000  0.0000  0.0000  0.0000  0.0000\n",
       " 0.0000  0.0000  0.0000  0.0000  0.0000  0.0000  0.0000  0.0000  0.0000  0.0000\n",
       " 0.0000  0.0000  0.0000  0.0000  0.0000  0.0000  0.0000  0.0000  0.0000  0.0000\n",
       " 0.0000  0.0000  0.0000  0.0000  0.0000  0.0000  0.0000  0.0000  0.0000  0.0000\n",
       " 0.0000  0.0000  0.0000  0.0000  0.0000  0.0000  0.0000  0.0000  0.0000  0.0000\n",
       " 0.0000  0.0000  0.0000  0.0000  0.0000  0.0000  0.0000  0.0000  0.0000  0.0000\n",
       "\n",
       "Columns 11 to 20\n",
       " 0.0000  0.0000  0.0000  0.0000  0.0000  0.0000  0.0000  0.0000  0.0000  0.0000\n",
       " 0.0000  0.0000  0.0000  0.0000  0.0000  0.0000  0.0000  0.0000  0.0000  0.0000\n",
       " 0.0000  0.0000  0.0000  0.0000  0.0000  0.0000  0.0000  0.0000  0.0000  0.0000\n",
       " 0.0000  0.0000  0.0000  0.0000  0.0000  0.0000  0.0000  0.0000  0.0000  0.0000\n",
       " 0.0000  0.0000  0.0000  0.0000  0.0000  0.0000  0.0000  0.0000  0.0000  0.0000\n",
       " 0.0000  0.0000  0.0000  0.0000  0.0000  0.0000  0.0000  0.0000  0.0000  0.0000\n",
       " 0.0000  0.0000  0.0000  0.0000  0.0000  0.0000  0.0000  0.0000  0.0000  0.0000\n",
       " 0.0000  0.0000  0.0000  0.0000  0.0000  0.0000  0.4453  0.7617  0.4023  0.0000\n",
       " 0.0000  0.0000  0.0000  0.0000  0.2656  0.9023  0.9805  0.9883  0.6250  0.0000\n",
       " 0.0000  0.0000  0.0000  0.1406  0.9375  0.8984  0.9453  0.9883  0.7891  0.0352\n",
       " 0.0000  0.0000  0.0664  0.8750  0.7227  0.0000  0.1484  0.5938  0.9883  0.4961\n",
       " 0.0000  0.0000  0.7734  0.9336  0.0977  0.0000  0.0000  0.4531  0.9922  0.7227\n",
       " 0.0000  0.2148  0.9492  0.5000  0.0000  0.0000  0.0000  0.4531  0.9883  0.7188\n",
       " 0.0000  0.9258  0.8711  0.0977  0.0000  0.0000  0.0000  0.4531  0.9883  0.7188\n",
       " 0.2656  0.9922  0.3164  0.0000  0.0000  0.0000  0.0000  0.4531  0.9883  0.7188\n",
       " 0.5898  0.9922  0.0898  0.0000  0.0000  0.0000  0.0508  0.7305  0.9922  0.7227\n",
       " 0.7188  0.9922  0.0898  0.0000  0.0000  0.0508  0.5898  0.9883  0.9883  0.7188\n",
       " 0.6875  0.9922  0.0898  0.0000  0.1992  0.7305  0.9883  0.9219  0.9883  0.7188\n",
       " 0.3633  0.9922  0.5469  0.3945  0.9141  0.9922  0.7227  0.140"
      ]
     },
     "execution_count": 25,
     "metadata": {},
     "output_type": "execute_result"
    },
    {
     "data": {
      "text/plain": [
       "6  0.9883  0.8203\n",
       " 0.0000  0.8945  0.9922  0.9922  0.7930  0.6250  0.0352  0.0938  0.9922  0.9922\n",
       " 0.0000  0.0586  0.4180  0.4180  0.0234  0.0000  0.0000  0.0117  0.7422  0.9922\n",
       " 0.0000  0.0000  0.0000  0.0000  0.0000  0.0000  0.0000  0.0000  0.6875  0.9922\n",
       " 0.0000  0.0000  0.0000  0.0000  0.0000  0.0000  0.0000  0.0000  0.3633  0.9922\n",
       " 0.0000  0.0000  0.0000  0.0000  0.0000  0.0000  0.0000  0.0000  0.0000  0.9961\n",
       " 0.0000  0.0000  0.0000  0.0000  0.0000  0.0000  0.0000  0.0000  0.0000  0.6602\n",
       " 0.0000  0.0000  0.0000  0.0000  0.0000  0.0000  0.0000  0.0000  0.0000  0.3125\n",
       " 0.0000  0.0000  0.0000  0.0000  0.0000  0.0000  0.0000  0.0000  0.0000  0.0000\n",
       " 0.0000  0.0000  0.0000  0.0000  0.0000  0.0000  0.0000  0.0000  0.0000  0.0000\n",
       " 0.0000  0.0000  0.0000  0.0000  0.0000  0.0000  0.0000  0.0000  0.0000  0.0000\n",
       " 0.0000  0.0000  0.0000  0.0000  0.0000  0.0000  0.0000  0.0000  0.0000  0.0000\n",
       " 0.0000  0.0000  0.0000  0.0000  0.0000  0.0000  0.0000  0.0000  0.0000  0.0000\n",
       " 0.0000  0.0000  0.0000  0.0000  0.0000  0.0000  0.0000  0.0000  0.0000  0.0000\n",
       "\n",
       "Columns 21 to 30\n",
       " 0.0000  0.0000  0.0000  0.0000  0.0000  0.0000  0.0000  0.0000  0.0000  0.0000\n",
       " 0.0000  0.0000  0.0000  0.0000  0.0000  0.0000  0.0000  0.0000  0.0000  0.0000\n",
       " 0.0000  0.0000  0.0000  0.0000  0.0000  0.0000  0.0000  0.0000  0.0000  0.0000\n",
       " 0.0000  0.0000  0.0000  0.0000  0.0000  0.0000  0.0000  0.0000  0.0000  0.0000\n",
       " 0.0000  0.0000  0.0000  0.0000  0.0000  0.0000  0.0000  0.0000  0.0000  0.0000\n",
       " 0.0000  0.0000  0.0000  0.0000  0.0000  0.0000  0.0000  0.0000  0.0000  0.0000\n",
       " 0.0000  0.0000  0.0000  0.0000  0.0000  0.0000  0.0000  0.0000  0.0000  0.0000\n",
       " 0.0000  0.0000  0.0000  0.0000  0.0000  0.0000  0.0000  0.0000  0.0000  0.0000\n",
       " 0.0000  0.0000  0.0000  0.0000  0.0000  0.0000  0.0000  0.0000  0.0000  0.0000\n",
       " 0.0000  0.0000  0.0000  0.0000  0.0000  0.0000  0.0000  0.0000  0.0000  0.0000\n",
       " 0.0000  0.0000  0.0000  0.0000  0.0000  0.0000  0.0000  0.0000  0.0000  0.0000\n",
       " 0.0000  0.0000  0.0000  0.0000  0.0000  0.0000  0.0000  0.0000  0.0000  0.0000\n",
       " 0.0000  0.0000  0.0000  0.0000  0.0000  0.0000  0.0000  0.0000  0.0000  0.0000\n",
       " 0.0000  0.0000  0.0000  0.0000  0.0000  0.0000  0.0000  0.0000  0.0000  0.0000\n",
       " 0.0000  0.0000  0.0000  0.0000  0.0000  0.0000  0.0000  0.0000  0.0000  0.0000\n",
       " 0.0000  0.0000  0.0000  0.0000  0.0000  0.0000  0.0000  0.0000  0.0000  0.0000\n",
       " 0.0000  0.0000  0.0000  0.0000  0.0000  0.0000  0.0000  0.0000  0.0000  0.0000\n",
       " 0.0000  0.0000  0.0000  0.0000  0.0000  0.0000  0.0000  0.0000  0.0000  0.0000\n",
       " 0.0352  0.0000  0.0000  0.0000  0.0000  0.0000  0.0000  0.0000  0.0000  0.0000\n",
       " 0.1875  0.0000  0.0000  0.0000  0.0000  0.0000  0.0000  0.0000  0.0000  0.0000\n",
       " 0.3828  0.0000  0.0000  0.0000  0.0000  0.0000  0.0000  0.0000  0.0000  0.0000\n",
       " 0.3867  0.0000  0.0000  0.0000  0.0000  0.0000  0.0000  0.0000  0.0000  0.0000\n",
       " 0.7109  0.0000  0.0000  0.0000  0.0000  0.0000  0.0000  0.0000  0.0000  0.0000\n",
       " 0.8086  0.0000  0.0000  0.0000  0.0000  0.0000  0.0000  0.0000  0.0000  0.0000\n",
       " 0.9727  0.2305  0.0000  0.0000  0.0000  0.0000  0.0000  0.0000  0.0000  0.0000\n",
       " 0.9805  0.8398  0.0938  0.0000  0.0000  0.0000  0.0000  0.0000  0.0000  0.0000\n",
       " 0.3125  0.7891  0.9883  0.1328  0.0000  0.0000  0.0000  0.0000  0.0000  0.0000\n",
       " 0.0000  0.0000  0.0000  0.0000  0.0000  0.0000  0.0000  0.0000  0.0000  0.0000\n",
       " 0.0000  0.0000  0.0000  0.0000  0.0000  0.0000  0.0000  0.0000  0.0000  0.0000\n",
       " 0.0000  0.0000  0.0000  0.0000  0.0000  0.0000  0.0000  0.0000  0.0000  0.0000\n",
       " 0.0000  0.0000  0.0000  0.0000  0.0000  0.0000  0.0000  0.0000  0.0000  0.0000\n",
       " 0.0000  0.0000  0.0000  0.0000  0.0000  0.0000  0.0000  0.0000  0.0000  0.0000\n",
       "\n",
       "Columns 31 to 32\n",
       " 0.0000  0.0000\n",
       " 0.0000  0.0000\n",
       " 0.0000  0.0000\n",
       " 0.0000  0.0000\n",
       " 0.0000  0.0000\n",
       " 0.0000  0.0000\n",
       " 0.0000  0.0000\n",
       " 0.0000  0.0000\n",
       " 0.0000  0.0000\n",
       " 0.0000  0.0000\n",
       " 0.0000  0.0000\n",
       " 0.0000  0.0000\n",
       " 0.0000  0.0000\n",
       " 0.0000  0.0000\n",
       " 0.0000  0.0000\n",
       " 0.0000  0.0000\n",
       " 0.0000  0.0000\n",
       " 0.0000  0.0000\n",
       " 0.0000  0.0000\n",
       " 0.0000  0.0000\n",
       " 0.0000  0.0000\n",
       " 0.0000  0.0000\n",
       " 0.0000  0.0000\n",
       " 0.0000  0.0000\n",
       " 0.0000  0.0000\n",
       " 0.0000  0.0000\n",
       " 0.0000  0.0000\n",
       " 0.0000  0"
      ]
     },
     "execution_count": 25,
     "metadata": {},
     "output_type": "execute_result"
    },
    {
     "data": {
      "text/plain": [
       ".0000\n",
       " 0.0000  0.0000\n",
       " 0.0000  0.0000\n",
       " 0.0000  0.0000\n",
       " 0.0000  0.0000\n",
       "[torch.DoubleTensor of size 32x32]\n",
       "\n"
      ]
     },
     "execution_count": 25,
     "metadata": {},
     "output_type": "execute_result"
    }
   ],
   "source": [
    "print(test_data.data[ndx]:reshape(32,32))"
   ]
  }
 ],
 "metadata": {
  "kernelspec": {
   "display_name": "iTorch",
   "language": "lua",
   "name": "itorch"
  },
  "language_info": {
   "name": "lua",
   "version": "20100"
  }
 },
 "nbformat": 4,
 "nbformat_minor": 0
}
